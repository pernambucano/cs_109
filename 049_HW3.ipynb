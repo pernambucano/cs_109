{
 "cells": [
  {
   "cell_type": "markdown",
   "metadata": {},
   "source": [
    "# Homework 3: Prediction and Classification\n",
    "\n",
    "Due: Thursday, October 16, 2014 11:59 PM\n",
    "\n",
    "<a href=https://raw.githubusercontent.com/cs109/2014/master/homework/HW3.ipynb download=HW3.ipynb> Download this assignment</a>\n",
    "\n",
    "#### Submission Instructions\n",
    "To submit your homework, create a folder named lastname_firstinitial_hw# and place your IPython notebooks, data files, and any other files in this folder. Your IPython Notebooks should be completely executed with the results visible in the notebook. We should not have to run any code. Compress the folder (please use .zip compression) and submit to the CS109 dropbox in the appropriate folder. If we cannot access your work because these directions are not followed correctly, we will not grade your work.\n",
    "\n",
    "---\n"
   ]
  },
  {
   "cell_type": "markdown",
   "metadata": {},
   "source": [
    "# Introduction\n",
    "\n",
    "In this assignment you will be using regression and classification to explore different data sets.  \n",
    "\n",
    "**First**: You will use data from before 2002 in the [Sean Lahman's Baseball Database](http://seanlahman.com/baseball-archive/statistics) to create a metric for picking baseball players using linear regression. This is same database we used in Homework 1. This database contains the \"complete batting and pitching statistics from 1871 to 2013, plus fielding statistics, standings, team stats, managerial records, post-season data, and more\". [Documentation provided here](http://seanlahman.com/files/database/readme2012.txt).\n",
    "\n",
    "![\"Sabermetrics Science\"](http://saberseminar.com/wp-content/uploads/2012/01/saber-web.jpg)\n",
    "http://saberseminar.com/wp-content/uploads/2012/01/saber-web.jpg\n",
    "\n",
    "**Second**: You will use the famous [iris](http://en.wikipedia.org/wiki/Iris_flower_data_set) data set to perform a $k$-neareast neighbor classification using cross validation.  While it was introduced in 1936, it is still [one of the most popular](http://archive.ics.uci.edu/ml/) example data sets in the machine learning community. Wikipedia describes the data set as follows: \"The data set consists of 50 samples from each of three species of Iris (Iris setosa, Iris virginica and Iris versicolor). Four features were measured from each sample: the length and the width of the sepals and petals, in centimetres.\" Here is an illustration what the four features measure:\n",
    "\n",
    "![\"iris data features\"](http://sebastianraschka.com/Images/2014_python_lda/iris_petal_sepal.png)\n",
    "http://sebastianraschka.com/Images/2014_python_lda/iris_petal_sepal.png\n",
    "\n",
    "**Third**: You will investigate the influence of higher dimensional spaces on the classification using another standard data set in machine learning called the The [digits data set](http://scikit-learn.org/stable/modules/generated/sklearn.datasets.load_digits.html).  This data set is similar to the MNIST data set discussed in the lecture. The main difference is, that each digit is represented by an 8x8 pixel image patch, which is considerably smaller than the 28x28 pixels from MNIST. In addition, the gray values are restricted to 16 different values (4 bit), instead of 256 (8 bit) for MNIST. \n",
    "\n",
    "**Finally**: In preparation for Homework 4, we want you to read through the following articles related to predicting the 2014 Senate Midterm Elections. \n",
    "\n",
    "* [Nate Silver's Methodology at while at NYT](http://fivethirtyeight.blogs.nytimes.com/methodology/)\n",
    "* [How The FiveThirtyEight Senate Forecast Model Works](http://fivethirtyeight.com/features/how-the-fivethirtyeight-senate-forecast-model-works/)\n",
    "* [Pollster Ratings v4.0: Methodology](http://fivethirtyeight.com/features/pollster-ratings-v40-methodology/)\n",
    "* [Pollster Ratings v4.0: Results](http://fivethirtyeight.com/features/pollster-ratings-v40-results/)\n",
    "* [Nate Silver versus Sam Wang](http://www.washingtonpost.com/blogs/plum-line/wp/2014/09/17/nate-silver-versus-sam-wang/)\n",
    "* [More Nate Silver versus Sam Wang](http://www.dailykos.com/story/2014/09/09/1328288/-Get-Ready-To-Rumbllllle-Battle-Of-The-Nerds-Nate-Silver-VS-Sam-Wang)\n",
    "* [Nate Silver explains critisims of Sam Wang](http://politicalwire.com/archives/2014/10/02/nate_silver_rebuts_sam_wang.html)\n",
    "* [Background on the feud between Nate Silver and Sam Wang](http://talkingpointsmemo.com/dc/nate-silver-sam-wang-feud)\n",
    "* [Are there swing voters?]( http://www.stat.columbia.edu/~gelman/research/unpublished/swing_voters.pdf)\n",
    "\n",
    "\n",
    "\n",
    "---"
   ]
  },
  {
   "cell_type": "markdown",
   "metadata": {},
   "source": [
    "## Load Python modules"
   ]
  },
  {
   "cell_type": "code",
   "execution_count": 1,
   "metadata": {
    "collapsed": false
   },
   "outputs": [],
   "source": [
    "# special IPython command to prepare the notebook for matplotlib\n",
    "%matplotlib inline \n",
    "\n",
    "import requests \n",
    "import StringIO\n",
    "import zipfile\n",
    "import numpy as np\n",
    "import pandas as pd # pandas\n",
    "import matplotlib.pyplot as plt # module for plotting \n",
    "\n",
    "# If this module is not already installed, you may need to install it. \n",
    "# You can do this by typing 'pip install seaborn' in the command line\n",
    "import seaborn as sns \n",
    "\n",
    "import sklearn\n",
    "import sklearn.datasets\n",
    "import sklearn.cross_validation\n",
    "import sklearn.decomposition\n",
    "import sklearn.grid_search\n",
    "import sklearn.neighbors\n",
    "import sklearn.metrics"
   ]
  },
  {
   "cell_type": "markdown",
   "metadata": {},
   "source": [
    "# Problem 1: Sabermetrics\n",
    "\n",
    "Using data preceding the 2002 season pick 10 offensive players keeping the payroll under $20 million (assign each player the median salary). Predict how many games this team would win in a 162 game season.  \n",
    "\n",
    "In this problem we will be returning to the [Sean Lahman's Baseball Database](http://seanlahman.com/baseball-archive/statistics) that we used in Homework 1.  From this database, we will be extract five data sets containing information such as yearly stats and standing, batting statistics, fielding statistics, player names, player salaries and biographical information. You will explore the data in this database from before 2002 and create a metric for picking players. "
   ]
  },
  {
   "cell_type": "markdown",
   "metadata": {},
   "source": [
    "#### Problem 1(a) \n",
    "\n",
    "Load in [these CSV files](http://seanlahman.com/files/database/lahman-csv_2014-02-14.zip) from the [Sean Lahman's Baseball Database](http://seanlahman.com/baseball-archive/statistics). For this assignment, we will use the 'Teams.csv', 'Batting.csv', 'Salaries.csv', 'Fielding.csv', 'Master.csv' tables. Read these tables into separate pandas DataFrames with the following names. \n",
    "\n",
    "CSV file name | Name of pandas DataFrame\n",
    ":---: | :---: \n",
    "Teams.csv | teams\n",
    "Batting.csv | players\n",
    "Salaries.csv | salaries\n",
    "Fielding.csv | fielding\n",
    "Master.csv | master"
   ]
  },
  {
   "cell_type": "code",
   "execution_count": 2,
   "metadata": {
    "collapsed": false
   },
   "outputs": [],
   "source": [
    "### Your code here ###\n",
    "url = 'http://seanlahman.com/files/database/lahman-csv_2015-01-24.zip'\n",
    "r = requests.get(url)\n",
    "file_ex = zipfile.ZipFile(StringIO.StringIO(r.content))\n",
    "teams = pd.read_csv(file_ex.extract('Teams.csv'))\n",
    "players = pd.read_csv(file_ex.extract('Batting.csv'))\n",
    "salaries = pd.read_csv(file_ex.extract('Salaries.csv'))\n",
    "fielding = pd.read_csv(file_ex.extract('Fielding.csv'))\n",
    "master = pd.read_csv(file_ex.extract('Master.csv'))"
   ]
  },
  {
   "cell_type": "markdown",
   "metadata": {},
   "source": [
    "#### Problem 1(b)\n",
    "\n",
    "Calculate the median salary for each player and create a pandas DataFrame called `medianSalaries` with four columns: (1) the player ID, (2) the first name of the player, (3) the last name of the player and (4) the median salary of the player. Show the head of the `medianSalaries` DataFrame.   "
   ]
  },
  {
   "cell_type": "code",
   "execution_count": 3,
   "metadata": {
    "collapsed": false
   },
   "outputs": [
    {
     "data": {
      "text/html": [
       "<div>\n",
       "<table border=\"1\" class=\"dataframe\">\n",
       "  <thead>\n",
       "    <tr style=\"text-align: right;\">\n",
       "      <th></th>\n",
       "      <th>playerID</th>\n",
       "      <th>nameFirst</th>\n",
       "      <th>nameLast</th>\n",
       "      <th>salary</th>\n",
       "    </tr>\n",
       "  </thead>\n",
       "  <tbody>\n",
       "    <tr>\n",
       "      <th>0</th>\n",
       "      <td>aardsda01</td>\n",
       "      <td>David</td>\n",
       "      <td>Aardsma</td>\n",
       "      <td>419000</td>\n",
       "    </tr>\n",
       "    <tr>\n",
       "      <th>1</th>\n",
       "      <td>aasedo01</td>\n",
       "      <td>Don</td>\n",
       "      <td>Aase</td>\n",
       "      <td>612500</td>\n",
       "    </tr>\n",
       "    <tr>\n",
       "      <th>2</th>\n",
       "      <td>abadan01</td>\n",
       "      <td>Andy</td>\n",
       "      <td>Abad</td>\n",
       "      <td>327000</td>\n",
       "    </tr>\n",
       "    <tr>\n",
       "      <th>3</th>\n",
       "      <td>abadfe01</td>\n",
       "      <td>Fernando</td>\n",
       "      <td>Abad</td>\n",
       "      <td>485000</td>\n",
       "    </tr>\n",
       "    <tr>\n",
       "      <th>4</th>\n",
       "      <td>abbotje01</td>\n",
       "      <td>Jeff</td>\n",
       "      <td>Abbott</td>\n",
       "      <td>255000</td>\n",
       "    </tr>\n",
       "  </tbody>\n",
       "</table>\n",
       "</div>"
      ],
      "text/plain": [
       "    playerID nameFirst nameLast  salary\n",
       "0  aardsda01     David  Aardsma  419000\n",
       "1   aasedo01       Don     Aase  612500\n",
       "2   abadan01      Andy     Abad  327000\n",
       "3   abadfe01  Fernando     Abad  485000\n",
       "4  abbotje01      Jeff   Abbott  255000"
      ]
     },
     "execution_count": 3,
     "metadata": {},
     "output_type": "execute_result"
    }
   ],
   "source": [
    "med = salaries.drop('yearID', axis=1).groupby('playerID').median()\n",
    "mast = master[['playerID', 'nameFirst', 'nameLast']]\n",
    "med.reset_index(inplace=True)\n",
    "medianSalaries = med.merge(mast, on='playerID')\n",
    "medianSalaries[['playerID', 'nameFirst', 'nameLast', 'salary']].head()"
   ]
  },
  {
   "cell_type": "markdown",
   "metadata": {},
   "source": [
    "#### Problem 1(c)\n",
    "\n",
    "Now, consider only team/season combinations in which the teams played 162 Games. Exclude all data from before 1947. Compute the per plate appearance rates for singles, doubles, triples, HR, and BB. Create a new pandas DataFrame called `stats` that has the teamID, yearID, wins and these rates.\n",
    "\n",
    "**Hint**: Singles are hits that are not doubles, triples, nor HR. Plate appearances are base on balls plus at bats."
   ]
  },
  {
   "cell_type": "code",
   "execution_count": 4,
   "metadata": {
    "collapsed": false
   },
   "outputs": [
    {
     "name": "stderr",
     "output_type": "stream",
     "text": [
      "/home/bat/anaconda2/lib/python2.7/site-packages/ipykernel/__main__.py:5: SettingWithCopyWarning: \n",
      "A value is trying to be set on a copy of a slice from a DataFrame.\n",
      "Try using .loc[row_indexer,col_indexer] = value instead\n",
      "\n",
      "See the caveats in the documentation: http://pandas.pydata.org/pandas-docs/stable/indexing.html#indexing-view-versus-copy\n",
      "/home/bat/anaconda2/lib/python2.7/site-packages/ipykernel/__main__.py:6: SettingWithCopyWarning: \n",
      "A value is trying to be set on a copy of a slice from a DataFrame.\n",
      "Try using .loc[row_indexer,col_indexer] = value instead\n",
      "\n",
      "See the caveats in the documentation: http://pandas.pydata.org/pandas-docs/stable/indexing.html#indexing-view-versus-copy\n",
      "/home/bat/anaconda2/lib/python2.7/site-packages/ipykernel/__main__.py:7: SettingWithCopyWarning: \n",
      "A value is trying to be set on a copy of a slice from a DataFrame.\n",
      "Try using .loc[row_indexer,col_indexer] = value instead\n",
      "\n",
      "See the caveats in the documentation: http://pandas.pydata.org/pandas-docs/stable/indexing.html#indexing-view-versus-copy\n",
      "/home/bat/anaconda2/lib/python2.7/site-packages/ipykernel/__main__.py:8: SettingWithCopyWarning: \n",
      "A value is trying to be set on a copy of a slice from a DataFrame.\n",
      "Try using .loc[row_indexer,col_indexer] = value instead\n",
      "\n",
      "See the caveats in the documentation: http://pandas.pydata.org/pandas-docs/stable/indexing.html#indexing-view-versus-copy\n",
      "/home/bat/anaconda2/lib/python2.7/site-packages/ipykernel/__main__.py:9: SettingWithCopyWarning: \n",
      "A value is trying to be set on a copy of a slice from a DataFrame.\n",
      "Try using .loc[row_indexer,col_indexer] = value instead\n",
      "\n",
      "See the caveats in the documentation: http://pandas.pydata.org/pandas-docs/stable/indexing.html#indexing-view-versus-copy\n"
     ]
    },
    {
     "data": {
      "text/html": [
       "<div>\n",
       "<table border=\"1\" class=\"dataframe\">\n",
       "  <thead>\n",
       "    <tr style=\"text-align: right;\">\n",
       "      <th></th>\n",
       "      <th>teamID</th>\n",
       "      <th>yearID</th>\n",
       "      <th>W</th>\n",
       "      <th>1B</th>\n",
       "      <th>2B</th>\n",
       "      <th>3B</th>\n",
       "      <th>HR</th>\n",
       "      <th>BB</th>\n",
       "    </tr>\n",
       "  </thead>\n",
       "  <tbody>\n",
       "    <tr>\n",
       "      <th>1366</th>\n",
       "      <td>KC1</td>\n",
       "      <td>1961</td>\n",
       "      <td>61</td>\n",
       "      <td>1341.941196</td>\n",
       "      <td>0.035982</td>\n",
       "      <td>0.007829</td>\n",
       "      <td>0.014993</td>\n",
       "      <td>0.096618</td>\n",
       "    </tr>\n",
       "    <tr>\n",
       "      <th>1367</th>\n",
       "      <td>LAA</td>\n",
       "      <td>1961</td>\n",
       "      <td>70</td>\n",
       "      <td>1330.929730</td>\n",
       "      <td>0.035708</td>\n",
       "      <td>0.003604</td>\n",
       "      <td>0.030958</td>\n",
       "      <td>0.111548</td>\n",
       "    </tr>\n",
       "    <tr>\n",
       "      <th>1377</th>\n",
       "      <td>BAL</td>\n",
       "      <td>1962</td>\n",
       "      <td>77</td>\n",
       "      <td>1362.930914</td>\n",
       "      <td>0.037456</td>\n",
       "      <td>0.005660</td>\n",
       "      <td>0.025970</td>\n",
       "      <td>0.085900</td>\n",
       "    </tr>\n",
       "    <tr>\n",
       "      <th>1379</th>\n",
       "      <td>CHA</td>\n",
       "      <td>1962</td>\n",
       "      <td>85</td>\n",
       "      <td>1414.935116</td>\n",
       "      <td>0.040756</td>\n",
       "      <td>0.009129</td>\n",
       "      <td>0.014998</td>\n",
       "      <td>0.101076</td>\n",
       "    </tr>\n",
       "    <tr>\n",
       "      <th>1380</th>\n",
       "      <td>CHN</td>\n",
       "      <td>1962</td>\n",
       "      <td>59</td>\n",
       "      <td>1397.937396</td>\n",
       "      <td>0.032461</td>\n",
       "      <td>0.009275</td>\n",
       "      <td>0.020868</td>\n",
       "      <td>0.083471</td>\n",
       "    </tr>\n",
       "  </tbody>\n",
       "</table>\n",
       "</div>"
      ],
      "text/plain": [
       "     teamID  yearID   W           1B        2B        3B        HR        BB\n",
       "1366    KC1    1961  61  1341.941196  0.035982  0.007829  0.014993  0.096618\n",
       "1367    LAA    1961  70  1330.929730  0.035708  0.003604  0.030958  0.111548\n",
       "1377    BAL    1962  77  1362.930914  0.037456  0.005660  0.025970  0.085900\n",
       "1379    CHA    1962  85  1414.935116  0.040756  0.009129  0.014998  0.101076\n",
       "1380    CHN    1962  59  1397.937396  0.032461  0.009275  0.020868  0.083471"
      ]
     },
     "execution_count": 4,
     "metadata": {},
     "output_type": "execute_result"
    }
   ],
   "source": [
    "### Your code here ###\n",
    "#stats.drop(stats.columns[0:-1], axis=1) \n",
    "subteams = teams[(teams.G == 162) & (teams.yearID > 1947)]\n",
    "teams['PP'] = teams.AB + teams.BB\n",
    "subteams['1B'] = teams.H - (teams['2B'] + teams['3B'] + teams.HR)/teams.PP\n",
    "subteams['2B'] = teams['2B']/teams.PP\n",
    "subteams['3B'] = teams['3B']/teams.PP\n",
    "subteams['HR'] = teams['HR']/teams.PP\n",
    "subteams['BB'] = teams['BB']/teams.PP\n",
    "subteams.head()\n",
    "stats = subteams[['teamID', 'yearID', 'W', '1B', '2B', '3B', 'HR', 'BB']]\n",
    "stats.head()\n",
    "#stats['3B'] = stats['3B']/teams.AB\n",
    "\n",
    "\n"
   ]
  },
  {
   "cell_type": "markdown",
   "metadata": {},
   "source": [
    "#### Problem 1(d)\n",
    "\n",
    "Is there a noticeable time trend in the rates computed computed in Problem 1(c)? "
   ]
  },
  {
   "cell_type": "code",
   "execution_count": 5,
   "metadata": {
    "collapsed": false
   },
   "outputs": [
    {
     "data": {
      "image/png": "[encoded data removed]",
      "text/plain": [
       "<matplotlib.figure.Figure at 0x7ff8333e81d0>"
      ]
     },
     "metadata": {},
     "output_type": "display_data"
    },
    {
     "data": {
      "image/png": "[encoded data removed]",
      "text/plain": [
       "<matplotlib.figure.Figure at 0x7ff83395ce90>"
      ]
     },
     "metadata": {},
     "output_type": "display_data"
    },
    {
     "data": {
      "image/png": "[encoded data removed]",
      "text/plain": [
       "<matplotlib.figure.Figure at 0x7ff8333abfd0>"
      ]
     },
     "metadata": {},
     "output_type": "display_data"
    },
    {
     "data": {
      "image/png": "[encoded data removed]",
      "text/plain": [
       "<matplotlib.figure.Figure at 0x7ff832d57fd0>"
      ]
     },
     "metadata": {},
     "output_type": "display_data"
    }
   ],
   "source": [
    "### Your code here ###\n",
    "rates = ['1B', '2B','HR', 'BB']\n",
    "for rate in rates:\n",
    "    plt.scatter(stats.yearID, stats[rate], c=\"g\", alpha=0.5)\n",
    "    plt.show()"
   ]
  },
  {
   "cell_type": "markdown",
   "metadata": {},
   "source": [
    "#### Problem 1(e) \n",
    "\n",
    "Using the `stats` DataFrame from Problem 1(c), adjust the singles per PA rates so that the average across teams for each year is 0. Do the same for the doubles, triples, HR, and BB rates. "
   ]
  },
  {
   "cell_type": "code",
   "execution_count": 6,
   "metadata": {
    "collapsed": false
   },
   "outputs": [
    {
     "data": {
      "text/html": [
       "<div>\n",
       "<table border=\"1\" class=\"dataframe\">\n",
       "  <thead>\n",
       "    <tr style=\"text-align: right;\">\n",
       "      <th></th>\n",
       "      <th>1B</th>\n",
       "      <th>2B</th>\n",
       "      <th>3B</th>\n",
       "      <th>HR</th>\n",
       "      <th>BB</th>\n",
       "    </tr>\n",
       "  </thead>\n",
       "  <tbody>\n",
       "    <tr>\n",
       "      <th>1366</th>\n",
       "      <td>1341.941196</td>\n",
       "      <td>0.035982</td>\n",
       "      <td>0.007829</td>\n",
       "      <td>0.014993</td>\n",
       "      <td>0.096618</td>\n",
       "    </tr>\n",
       "    <tr>\n",
       "      <th>1367</th>\n",
       "      <td>1330.929730</td>\n",
       "      <td>0.035708</td>\n",
       "      <td>0.003604</td>\n",
       "      <td>0.030958</td>\n",
       "      <td>0.111548</td>\n",
       "    </tr>\n",
       "    <tr>\n",
       "      <th>1377</th>\n",
       "      <td>1362.930914</td>\n",
       "      <td>0.037456</td>\n",
       "      <td>0.005660</td>\n",
       "      <td>0.025970</td>\n",
       "      <td>0.085900</td>\n",
       "    </tr>\n",
       "    <tr>\n",
       "      <th>1379</th>\n",
       "      <td>1414.935116</td>\n",
       "      <td>0.040756</td>\n",
       "      <td>0.009129</td>\n",
       "      <td>0.014998</td>\n",
       "      <td>0.101076</td>\n",
       "    </tr>\n",
       "    <tr>\n",
       "      <th>1380</th>\n",
       "      <td>1397.937396</td>\n",
       "      <td>0.032461</td>\n",
       "      <td>0.009275</td>\n",
       "      <td>0.020868</td>\n",
       "      <td>0.083471</td>\n",
       "    </tr>\n",
       "  </tbody>\n",
       "</table>\n",
       "</div>"
      ],
      "text/plain": [
       "               1B        2B        3B        HR        BB\n",
       "1366  1341.941196  0.035982  0.007829  0.014993  0.096618\n",
       "1367  1330.929730  0.035708  0.003604  0.030958  0.111548\n",
       "1377  1362.930914  0.037456  0.005660  0.025970  0.085900\n",
       "1379  1414.935116  0.040756  0.009129  0.014998  0.101076\n",
       "1380  1397.937396  0.032461  0.009275  0.020868  0.083471"
      ]
     },
     "execution_count": 6,
     "metadata": {},
     "output_type": "execute_result"
    }
   ],
   "source": [
    "stats[['1B', '2B', '3B', 'HR', 'BB']].head()"
   ]
  },
  {
   "cell_type": "code",
   "execution_count": 7,
   "metadata": {
    "collapsed": false
   },
   "outputs": [
    {
     "data": {
      "text/html": [
       "<div>\n",
       "<table border=\"1\" class=\"dataframe\">\n",
       "  <thead>\n",
       "    <tr style=\"text-align: right;\">\n",
       "      <th></th>\n",
       "      <th>W</th>\n",
       "      <th>1B</th>\n",
       "      <th>2B</th>\n",
       "      <th>3B</th>\n",
       "      <th>HR</th>\n",
       "      <th>BB</th>\n",
       "    </tr>\n",
       "    <tr>\n",
       "      <th>yearID</th>\n",
       "      <th></th>\n",
       "      <th></th>\n",
       "      <th></th>\n",
       "      <th></th>\n",
       "      <th></th>\n",
       "      <th></th>\n",
       "    </tr>\n",
       "  </thead>\n",
       "  <tbody>\n",
       "    <tr>\n",
       "      <th>1961</th>\n",
       "      <td>65.500000</td>\n",
       "      <td>1336.435463</td>\n",
       "      <td>0.035845</td>\n",
       "      <td>0.005717</td>\n",
       "      <td>0.022975</td>\n",
       "      <td>0.104083</td>\n",
       "    </tr>\n",
       "    <tr>\n",
       "      <th>1962</th>\n",
       "      <td>78.454545</td>\n",
       "      <td>1409.842650</td>\n",
       "      <td>0.035853</td>\n",
       "      <td>0.006777</td>\n",
       "      <td>0.023811</td>\n",
       "      <td>0.088590</td>\n",
       "    </tr>\n",
       "    <tr>\n",
       "      <th>1963</th>\n",
       "      <td>78.142857</td>\n",
       "      <td>1340.009259</td>\n",
       "      <td>0.034020</td>\n",
       "      <td>0.006896</td>\n",
       "      <td>0.021254</td>\n",
       "      <td>0.080336</td>\n",
       "    </tr>\n",
       "    <tr>\n",
       "      <th>1964</th>\n",
       "      <td>81.727273</td>\n",
       "      <td>1384.117186</td>\n",
       "      <td>0.036336</td>\n",
       "      <td>0.006748</td>\n",
       "      <td>0.021548</td>\n",
       "      <td>0.079152</td>\n",
       "    </tr>\n",
       "    <tr>\n",
       "      <th>1965</th>\n",
       "      <td>82.000000</td>\n",
       "      <td>1346.435233</td>\n",
       "      <td>0.035539</td>\n",
       "      <td>0.006534</td>\n",
       "      <td>0.022693</td>\n",
       "      <td>0.085745</td>\n",
       "    </tr>\n",
       "    <tr>\n",
       "      <th>1966</th>\n",
       "      <td>82.600000</td>\n",
       "      <td>1381.334974</td>\n",
       "      <td>0.034560</td>\n",
       "      <td>0.007472</td>\n",
       "      <td>0.022994</td>\n",
       "      <td>0.079039</td>\n",
       "    </tr>\n",
       "    <tr>\n",
       "      <th>1967</th>\n",
       "      <td>80.272727</td>\n",
       "      <td>1321.392857</td>\n",
       "      <td>0.035582</td>\n",
       "      <td>0.006622</td>\n",
       "      <td>0.019484</td>\n",
       "      <td>0.080397</td>\n",
       "    </tr>\n",
       "    <tr>\n",
       "      <th>1968</th>\n",
       "      <td>79.700000</td>\n",
       "      <td>1252.444875</td>\n",
       "      <td>0.034088</td>\n",
       "      <td>0.005654</td>\n",
       "      <td>0.015383</td>\n",
       "      <td>0.079276</td>\n",
       "    </tr>\n",
       "    <tr>\n",
       "      <th>1969</th>\n",
       "      <td>83.111111</td>\n",
       "      <td>1363.437981</td>\n",
       "      <td>0.034185</td>\n",
       "      <td>0.006034</td>\n",
       "      <td>0.021800</td>\n",
       "      <td>0.093649</td>\n",
       "    </tr>\n",
       "    <tr>\n",
       "      <th>1970</th>\n",
       "      <td>81.250000</td>\n",
       "      <td>1402.683378</td>\n",
       "      <td>0.035879</td>\n",
       "      <td>0.006052</td>\n",
       "      <td>0.024691</td>\n",
       "      <td>0.094281</td>\n",
       "    </tr>\n",
       "    <tr>\n",
       "      <th>1971</th>\n",
       "      <td>80.812500</td>\n",
       "      <td>1365.813807</td>\n",
       "      <td>0.034951</td>\n",
       "      <td>0.005718</td>\n",
       "      <td>0.020524</td>\n",
       "      <td>0.085783</td>\n",
       "    </tr>\n",
       "    <tr>\n",
       "      <th>1973</th>\n",
       "      <td>81.045455</td>\n",
       "      <td>1424.618426</td>\n",
       "      <td>0.036125</td>\n",
       "      <td>0.005571</td>\n",
       "      <td>0.021697</td>\n",
       "      <td>0.089644</td>\n",
       "    </tr>\n",
       "    <tr>\n",
       "      <th>1974</th>\n",
       "      <td>79.750000</td>\n",
       "      <td>1402.064407</td>\n",
       "      <td>0.036213</td>\n",
       "      <td>0.005896</td>\n",
       "      <td>0.018484</td>\n",
       "      <td>0.087500</td>\n",
       "    </tr>\n",
       "    <tr>\n",
       "      <th>1975</th>\n",
       "      <td>82.083333</td>\n",
       "      <td>1406.353569</td>\n",
       "      <td>0.038384</td>\n",
       "      <td>0.005940</td>\n",
       "      <td>0.018773</td>\n",
       "      <td>0.096235</td>\n",
       "    </tr>\n",
       "    <tr>\n",
       "      <th>1976</th>\n",
       "      <td>81.666667</td>\n",
       "      <td>1401.218571</td>\n",
       "      <td>0.037159</td>\n",
       "      <td>0.006789</td>\n",
       "      <td>0.015259</td>\n",
       "      <td>0.086914</td>\n",
       "    </tr>\n",
       "    <tr>\n",
       "      <th>1977</th>\n",
       "      <td>81.850000</td>\n",
       "      <td>1466.827702</td>\n",
       "      <td>0.041519</td>\n",
       "      <td>0.007435</td>\n",
       "      <td>0.023344</td>\n",
       "      <td>0.086771</td>\n",
       "    </tr>\n",
       "    <tr>\n",
       "      <th>1978</th>\n",
       "      <td>81.058824</td>\n",
       "      <td>1403.053114</td>\n",
       "      <td>0.039780</td>\n",
       "      <td>0.006587</td>\n",
       "      <td>0.018165</td>\n",
       "      <td>0.087953</td>\n",
       "    </tr>\n",
       "    <tr>\n",
       "      <th>1979</th>\n",
       "      <td>75.545455</td>\n",
       "      <td>1456.932933</td>\n",
       "      <td>0.039505</td>\n",
       "      <td>0.007050</td>\n",
       "      <td>0.020511</td>\n",
       "      <td>0.085055</td>\n",
       "    </tr>\n",
       "    <tr>\n",
       "      <th>1980</th>\n",
       "      <td>82.692308</td>\n",
       "      <td>1475.083925</td>\n",
       "      <td>0.042104</td>\n",
       "      <td>0.007136</td>\n",
       "      <td>0.020682</td>\n",
       "      <td>0.081673</td>\n",
       "    </tr>\n",
       "    <tr>\n",
       "      <th>1982</th>\n",
       "      <td>79.875000</td>\n",
       "      <td>1440.516768</td>\n",
       "      <td>0.039846</td>\n",
       "      <td>0.006182</td>\n",
       "      <td>0.020537</td>\n",
       "      <td>0.083913</td>\n",
       "    </tr>\n",
       "    <tr>\n",
       "      <th>1983</th>\n",
       "      <td>80.300000</td>\n",
       "      <td>1446.080126</td>\n",
       "      <td>0.041663</td>\n",
       "      <td>0.006549</td>\n",
       "      <td>0.021661</td>\n",
       "      <td>0.086935</td>\n",
       "    </tr>\n",
       "    <tr>\n",
       "      <th>1984</th>\n",
       "      <td>81.500000</td>\n",
       "      <td>1432.333489</td>\n",
       "      <td>0.039480</td>\n",
       "      <td>0.006034</td>\n",
       "      <td>0.020997</td>\n",
       "      <td>0.085718</td>\n",
       "    </tr>\n",
       "    <tr>\n",
       "      <th>1985</th>\n",
       "      <td>81.125000</td>\n",
       "      <td>1403.994304</td>\n",
       "      <td>0.040247</td>\n",
       "      <td>0.006048</td>\n",
       "      <td>0.021901</td>\n",
       "      <td>0.088537</td>\n",
       "    </tr>\n",
       "    <tr>\n",
       "      <th>1986</th>\n",
       "      <td>80.882353</td>\n",
       "      <td>1413.164754</td>\n",
       "      <td>0.040271</td>\n",
       "      <td>0.005133</td>\n",
       "      <td>0.025136</td>\n",
       "      <td>0.091372</td>\n",
       "    </tr>\n",
       "    <tr>\n",
       "      <th>1987</th>\n",
       "      <td>81.666667</td>\n",
       "      <td>1459.048485</td>\n",
       "      <td>0.042809</td>\n",
       "      <td>0.005736</td>\n",
       "      <td>0.027969</td>\n",
       "      <td>0.090439</td>\n",
       "    </tr>\n",
       "    <tr>\n",
       "      <th>1988</th>\n",
       "      <td>84.538462</td>\n",
       "      <td>1415.779265</td>\n",
       "      <td>0.041267</td>\n",
       "      <td>0.005322</td>\n",
       "      <td>0.020299</td>\n",
       "      <td>0.084360</td>\n",
       "    </tr>\n",
       "    <tr>\n",
       "      <th>1989</th>\n",
       "      <td>83.842105</td>\n",
       "      <td>1403.091322</td>\n",
       "      <td>0.040462</td>\n",
       "      <td>0.005545</td>\n",
       "      <td>0.020566</td>\n",
       "      <td>0.086854</td>\n",
       "    </tr>\n",
       "    <tr>\n",
       "      <th>1990</th>\n",
       "      <td>81.416667</td>\n",
       "      <td>1417.598467</td>\n",
       "      <td>0.041344</td>\n",
       "      <td>0.005531</td>\n",
       "      <td>0.021325</td>\n",
       "      <td>0.087743</td>\n",
       "    </tr>\n",
       "    <tr>\n",
       "      <th>1991</th>\n",
       "      <td>81.695652</td>\n",
       "      <td>1414.235466</td>\n",
       "      <td>0.041520</td>\n",
       "      <td>0.005768</td>\n",
       "      <td>0.021594</td>\n",
       "      <td>0.089583</td>\n",
       "    </tr>\n",
       "    <tr>\n",
       "      <th>1992</th>\n",
       "      <td>81.000000</td>\n",
       "      <td>1405.471807</td>\n",
       "      <td>0.041895</td>\n",
       "      <td>0.005399</td>\n",
       "      <td>0.019360</td>\n",
       "      <td>0.087271</td>\n",
       "    </tr>\n",
       "    <tr>\n",
       "      <th>1993</th>\n",
       "      <td>80.384615</td>\n",
       "      <td>1467.503920</td>\n",
       "      <td>0.043786</td>\n",
       "      <td>0.005522</td>\n",
       "      <td>0.023695</td>\n",
       "      <td>0.089178</td>\n",
       "    </tr>\n",
       "    <tr>\n",
       "      <th>1996</th>\n",
       "      <td>79.954545</td>\n",
       "      <td>1490.967552</td>\n",
       "      <td>0.045418</td>\n",
       "      <td>0.005104</td>\n",
       "      <td>0.027380</td>\n",
       "      <td>0.091522</td>\n",
       "    </tr>\n",
       "    <tr>\n",
       "      <th>1997</th>\n",
       "      <td>81.458333</td>\n",
       "      <td>1478.712445</td>\n",
       "      <td>0.046951</td>\n",
       "      <td>0.005269</td>\n",
       "      <td>0.027001</td>\n",
       "      <td>0.091349</td>\n",
       "    </tr>\n",
       "    <tr>\n",
       "      <th>1998</th>\n",
       "      <td>81.045455</td>\n",
       "      <td>1482.011659</td>\n",
       "      <td>0.047842</td>\n",
       "      <td>0.004835</td>\n",
       "      <td>0.026573</td>\n",
       "      <td>0.088837</td>\n",
       "    </tr>\n",
       "    <tr>\n",
       "      <th>1999</th>\n",
       "      <td>82.318182</td>\n",
       "      <td>1516.690299</td>\n",
       "      <td>0.047111</td>\n",
       "      <td>0.004911</td>\n",
       "      <td>0.030406</td>\n",
       "      <td>0.097450</td>\n",
       "    </tr>\n",
       "    <tr>\n",
       "      <th>2000</th>\n",
       "      <td>81.000000</td>\n",
       "      <td>1518.165585</td>\n",
       "      <td>0.048466</td>\n",
       "      <td>0.005332</td>\n",
       "      <td>0.030618</td>\n",
       "      <td>0.098097</td>\n",
       "    </tr>\n",
       "    <tr>\n",
       "      <th>2001</th>\n",
       "      <td>80.392857</td>\n",
       "      <td>1460.559630</td>\n",
       "      <td>0.048320</td>\n",
       "      <td>0.005169</td>\n",
       "      <td>0.029737</td>\n",
       "      <td>0.086869</td>\n",
       "    </tr>\n",
       "    <tr>\n",
       "      <th>2002</th>\n",
       "      <td>81.363636</td>\n",
       "      <td>1449.509789</td>\n",
       "      <td>0.047655</td>\n",
       "      <td>0.005184</td>\n",
       "      <td>0.028281</td>\n",
       "      <td>0.090443</td>\n",
       "    </tr>\n",
       "    <tr>\n",
       "      <th>2003</th>\n",
       "      <td>80.423077</td>\n",
       "      <td>1471.686829</td>\n",
       "      <td>0.048581</td>\n",
       "      <td>0.005319</td>\n",
       "      <td>0.028502</td>\n",
       "      <td>0.086365</td>\n",
       "    </tr>\n",
       "    <tr>\n",
       "      <th>2004</th>\n",
       "      <td>82.769231</td>\n",
       "      <td>1495.377531</td>\n",
       "      <td>0.048746</td>\n",
       "      <td>0.004687</td>\n",
       "      <td>0.030574</td>\n",
       "      <td>0.089365</td>\n",
       "    </tr>\n",
       "    <tr>\n",
       "      <th>2005</th>\n",
       "      <td>81.000000</td>\n",
       "      <td>1469.133324</td>\n",
       "      <td>0.048684</td>\n",
       "      <td>0.004971</td>\n",
       "      <td>0.027307</td>\n",
       "      <td>0.083193</td>\n",
       "    </tr>\n",
       "    <tr>\n",
       "      <th>2006</th>\n",
       "      <td>81.071429</td>\n",
       "      <td>1506.022700</td>\n",
       "      <td>0.049915</td>\n",
       "      <td>0.005103</td>\n",
       "      <td>0.029425</td>\n",
       "      <td>0.086477</td>\n",
       "    </tr>\n",
       "    <tr>\n",
       "      <th>2007</th>\n",
       "      <td>80.428571</td>\n",
       "      <td>1499.132369</td>\n",
       "      <td>0.049936</td>\n",
       "      <td>0.005083</td>\n",
       "      <td>0.026898</td>\n",
       "      <td>0.086849</td>\n",
       "    </tr>\n",
       "    <tr>\n",
       "      <th>2008</th>\n",
       "      <td>81.000000</td>\n",
       "      <td>1471.782800</td>\n",
       "      <td>0.049390</td>\n",
       "      <td>0.005010</td>\n",
       "      <td>0.026437</td>\n",
       "      <td>0.089138</td>\n",
       "    </tr>\n",
       "    <tr>\n",
       "      <th>2009</th>\n",
       "      <td>81.230769</td>\n",
       "      <td>1452.995753</td>\n",
       "      <td>0.048259</td>\n",
       "      <td>0.005137</td>\n",
       "      <td>0.027773</td>\n",
       "      <td>0.090925</td>\n",
       "    </tr>\n",
       "    <tr>\n",
       "      <th>2010</th>\n",
       "      <td>81.000000</td>\n",
       "      <td>1418.389643</td>\n",
       "      <td>0.046819</td>\n",
       "      <td>0.004775</td>\n",
       "      <td>0.025430</td>\n",
       "      <td>0.087006</td>\n",
       "    </tr>\n",
       "    <tr>\n",
       "      <th>2011</th>\n",
       "      <td>80.964286</td>\n",
       "      <td>1412.530034</td>\n",
       "      <td>0.046787</td>\n",
       "      <td>0.005019</td>\n",
       "      <td>0.025304</td>\n",
       "      <td>0.083132</td>\n",
       "    </tr>\n",
       "    <tr>\n",
       "      <th>2012</th>\n",
       "      <td>81.000000</td>\n",
       "      <td>1402.021558</td>\n",
       "      <td>0.045887</td>\n",
       "      <td>0.005153</td>\n",
       "      <td>0.027402</td>\n",
       "      <td>0.081719</td>\n",
       "    </tr>\n",
       "    <tr>\n",
       "      <th>2013</th>\n",
       "      <td>80.285714</td>\n",
       "      <td>1400.174637</td>\n",
       "      <td>0.045435</td>\n",
       "      <td>0.004311</td>\n",
       "      <td>0.025617</td>\n",
       "      <td>0.080542</td>\n",
       "    </tr>\n",
       "    <tr>\n",
       "      <th>2014</th>\n",
       "      <td>81.000000</td>\n",
       "      <td>1386.426709</td>\n",
       "      <td>0.045276</td>\n",
       "      <td>0.004727</td>\n",
       "      <td>0.023289</td>\n",
       "      <td>0.077980</td>\n",
       "    </tr>\n",
       "  </tbody>\n",
       "</table>\n",
       "</div>"
      ],
      "text/plain": [
       "                W           1B        2B        3B        HR        BB\n",
       "yearID                                                                \n",
       "1961    65.500000  1336.435463  0.035845  0.005717  0.022975  0.104083\n",
       "1962    78.454545  1409.842650  0.035853  0.006777  0.023811  0.088590\n",
       "1963    78.142857  1340.009259  0.034020  0.006896  0.021254  0.080336\n",
       "1964    81.727273  1384.117186  0.036336  0.006748  0.021548  0.079152\n",
       "1965    82.000000  1346.435233  0.035539  0.006534  0.022693  0.085745\n",
       "1966    82.600000  1381.334974  0.034560  0.007472  0.022994  0.079039\n",
       "1967    80.272727  1321.392857  0.035582  0.006622  0.019484  0.080397\n",
       "1968    79.700000  1252.444875  0.034088  0.005654  0.015383  0.079276\n",
       "1969    83.111111  1363.437981  0.034185  0.006034  0.021800  0.093649\n",
       "1970    81.250000  1402.683378  0.035879  0.006052  0.024691  0.094281\n",
       "1971    80.812500  1365.813807  0.034951  0.005718  0.020524  0.085783\n",
       "1973    81.045455  1424.618426  0.036125  0.005571  0.021697  0.089644\n",
       "1974    79.750000  1402.064407  0.036213  0.005896  0.018484  0.087500\n",
       "1975    82.083333  1406.353569  0.038384  0.005940  0.018773  0.096235\n",
       "1976    81.666667  1401.218571  0.037159  0.006789  0.015259  0.086914\n",
       "1977    81.850000  1466.827702  0.041519  0.007435  0.023344  0.086771\n",
       "1978    81.058824  1403.053114  0.039780  0.006587  0.018165  0.087953\n",
       "1979    75.545455  1456.932933  0.039505  0.007050  0.020511  0.085055\n",
       "1980    82.692308  1475.083925  0.042104  0.007136  0.020682  0.081673\n",
       "1982    79.875000  1440.516768  0.039846  0.006182  0.020537  0.083913\n",
       "1983    80.300000  1446.080126  0.041663  0.006549  0.021661  0.086935\n",
       "1984    81.500000  1432.333489  0.039480  0.006034  0.020997  0.085718\n",
       "1985    81.125000  1403.994304  0.040247  0.006048  0.021901  0.088537\n",
       "1986    80.882353  1413.164754  0.040271  0.005133  0.025136  0.091372\n",
       "1987    81.666667  1459.048485  0.042809  0.005736  0.027969  0.090439\n",
       "1988    84.538462  1415.779265  0.041267  0.005322  0.020299  0.084360\n",
       "1989    83.842105  1403.091322  0.040462  0.005545  0.020566  0.086854\n",
       "1990    81.416667  1417.598467  0.041344  0.005531  0.021325  0.087743\n",
       "1991    81.695652  1414.235466  0.041520  0.005768  0.021594  0.089583\n",
       "1992    81.000000  1405.471807  0.041895  0.005399  0.019360  0.087271\n",
       "1993    80.384615  1467.503920  0.043786  0.005522  0.023695  0.089178\n",
       "1996    79.954545  1490.967552  0.045418  0.005104  0.027380  0.091522\n",
       "1997    81.458333  1478.712445  0.046951  0.005269  0.027001  0.091349\n",
       "1998    81.045455  1482.011659  0.047842  0.004835  0.026573  0.088837\n",
       "1999    82.318182  1516.690299  0.047111  0.004911  0.030406  0.097450\n",
       "2000    81.000000  1518.165585  0.048466  0.005332  0.030618  0.098097\n",
       "2001    80.392857  1460.559630  0.048320  0.005169  0.029737  0.086869\n",
       "2002    81.363636  1449.509789  0.047655  0.005184  0.028281  0.090443\n",
       "2003    80.423077  1471.686829  0.048581  0.005319  0.028502  0.086365\n",
       "2004    82.769231  1495.377531  0.048746  0.004687  0.030574  0.089365\n",
       "2005    81.000000  1469.133324  0.048684  0.004971  0.027307  0.083193\n",
       "2006    81.071429  1506.022700  0.049915  0.005103  0.029425  0.086477\n",
       "2007    80.428571  1499.132369  0.049936  0.005083  0.026898  0.086849\n",
       "2008    81.000000  1471.782800  0.049390  0.005010  0.026437  0.089138\n",
       "2009    81.230769  1452.995753  0.048259  0.005137  0.027773  0.090925\n",
       "2010    81.000000  1418.389643  0.046819  0.004775  0.025430  0.087006\n",
       "2011    80.964286  1412.530034  0.046787  0.005019  0.025304  0.083132\n",
       "2012    81.000000  1402.021558  0.045887  0.005153  0.027402  0.081719\n",
       "2013    80.285714  1400.174637  0.045435  0.004311  0.025617  0.080542\n",
       "2014    81.000000  1386.426709  0.045276  0.004727  0.023289  0.077980"
      ]
     },
     "execution_count": 7,
     "metadata": {},
     "output_type": "execute_result"
    }
   ],
   "source": [
    "stats.groupby('yearID').mean()"
   ]
  },
  {
   "cell_type": "code",
   "execution_count": 8,
   "metadata": {
    "collapsed": false
   },
   "outputs": [
    {
     "data": {
      "text/html": [
       "<div>\n",
       "<table border=\"1\" class=\"dataframe\">\n",
       "  <thead>\n",
       "    <tr style=\"text-align: right;\">\n",
       "      <th></th>\n",
       "      <th>teamID</th>\n",
       "      <th>yearID</th>\n",
       "      <th>W</th>\n",
       "      <th>1B</th>\n",
       "      <th>2B</th>\n",
       "      <th>3B</th>\n",
       "      <th>HR</th>\n",
       "      <th>BB</th>\n",
       "    </tr>\n",
       "  </thead>\n",
       "  <tbody>\n",
       "    <tr>\n",
       "      <th>1366</th>\n",
       "      <td>KC1</td>\n",
       "      <td>1961</td>\n",
       "      <td>61</td>\n",
       "      <td>5.505733</td>\n",
       "      <td>0.000137</td>\n",
       "      <td>0.002113</td>\n",
       "      <td>-0.007983</td>\n",
       "      <td>-0.007465</td>\n",
       "    </tr>\n",
       "    <tr>\n",
       "      <th>1367</th>\n",
       "      <td>LAA</td>\n",
       "      <td>1961</td>\n",
       "      <td>70</td>\n",
       "      <td>-5.505733</td>\n",
       "      <td>-0.000137</td>\n",
       "      <td>-0.002113</td>\n",
       "      <td>0.007983</td>\n",
       "      <td>0.007465</td>\n",
       "    </tr>\n",
       "    <tr>\n",
       "      <th>1377</th>\n",
       "      <td>BAL</td>\n",
       "      <td>1962</td>\n",
       "      <td>77</td>\n",
       "      <td>-46.911736</td>\n",
       "      <td>0.001604</td>\n",
       "      <td>-0.001117</td>\n",
       "      <td>0.002158</td>\n",
       "      <td>-0.002690</td>\n",
       "    </tr>\n",
       "    <tr>\n",
       "      <th>1379</th>\n",
       "      <td>CHA</td>\n",
       "      <td>1962</td>\n",
       "      <td>85</td>\n",
       "      <td>5.092466</td>\n",
       "      <td>0.004904</td>\n",
       "      <td>0.002352</td>\n",
       "      <td>-0.008813</td>\n",
       "      <td>0.012486</td>\n",
       "    </tr>\n",
       "    <tr>\n",
       "      <th>1380</th>\n",
       "      <td>CHN</td>\n",
       "      <td>1962</td>\n",
       "      <td>59</td>\n",
       "      <td>-11.905253</td>\n",
       "      <td>-0.003391</td>\n",
       "      <td>0.002497</td>\n",
       "      <td>-0.002944</td>\n",
       "      <td>-0.005119</td>\n",
       "    </tr>\n",
       "  </tbody>\n",
       "</table>\n",
       "</div>"
      ],
      "text/plain": [
       "     teamID  yearID   W         1B        2B        3B        HR        BB\n",
       "1366    KC1    1961  61   5.505733  0.000137  0.002113 -0.007983 -0.007465\n",
       "1367    LAA    1961  70  -5.505733 -0.000137 -0.002113  0.007983  0.007465\n",
       "1377    BAL    1962  77 -46.911736  0.001604 -0.001117  0.002158 -0.002690\n",
       "1379    CHA    1962  85   5.092466  0.004904  0.002352 -0.008813  0.012486\n",
       "1380    CHN    1962  59 -11.905253 -0.003391  0.002497 -0.002944 -0.005119"
      ]
     },
     "execution_count": 8,
     "metadata": {},
     "output_type": "execute_result"
    }
   ],
   "source": [
    "### Your code here ###\n",
    "def normalize(df):\n",
    "    rates = df[['1B', '2B', '3B', 'HR', 'BB']]\n",
    "    df[['1B', '2B', '3B', 'HR', 'BB']] = rates - rates.mean(axis=0)\n",
    "    return df\n",
    "\n",
    "stats4 = stats.groupby('yearID').apply(normalize)\n",
    "stats4.head()"
   ]
  },
  {
   "cell_type": "code",
   "execution_count": 9,
   "metadata": {
    "collapsed": false
   },
   "outputs": [
    {
     "data": {
      "text/html": [
       "<div>\n",
       "<table border=\"1\" class=\"dataframe\">\n",
       "  <thead>\n",
       "    <tr style=\"text-align: right;\">\n",
       "      <th></th>\n",
       "      <th>teamID</th>\n",
       "      <th>yearID</th>\n",
       "      <th>W</th>\n",
       "      <th>1B</th>\n",
       "      <th>2B</th>\n",
       "      <th>3B</th>\n",
       "      <th>HR</th>\n",
       "      <th>BB</th>\n",
       "    </tr>\n",
       "  </thead>\n",
       "  <tbody>\n",
       "    <tr>\n",
       "      <th>1366</th>\n",
       "      <td>KC1</td>\n",
       "      <td>1961</td>\n",
       "      <td>61</td>\n",
       "      <td>5.505733</td>\n",
       "      <td>0.000137</td>\n",
       "      <td>0.002113</td>\n",
       "      <td>-0.007983</td>\n",
       "      <td>-0.007465</td>\n",
       "    </tr>\n",
       "    <tr>\n",
       "      <th>1367</th>\n",
       "      <td>LAA</td>\n",
       "      <td>1961</td>\n",
       "      <td>70</td>\n",
       "      <td>-5.505733</td>\n",
       "      <td>-0.000137</td>\n",
       "      <td>-0.002113</td>\n",
       "      <td>0.007983</td>\n",
       "      <td>0.007465</td>\n",
       "    </tr>\n",
       "    <tr>\n",
       "      <th>1377</th>\n",
       "      <td>BAL</td>\n",
       "      <td>1962</td>\n",
       "      <td>77</td>\n",
       "      <td>-46.911736</td>\n",
       "      <td>0.001604</td>\n",
       "      <td>-0.001117</td>\n",
       "      <td>0.002158</td>\n",
       "      <td>-0.002690</td>\n",
       "    </tr>\n",
       "    <tr>\n",
       "      <th>1379</th>\n",
       "      <td>CHA</td>\n",
       "      <td>1962</td>\n",
       "      <td>85</td>\n",
       "      <td>5.092466</td>\n",
       "      <td>0.004904</td>\n",
       "      <td>0.002352</td>\n",
       "      <td>-0.008813</td>\n",
       "      <td>0.012486</td>\n",
       "    </tr>\n",
       "    <tr>\n",
       "      <th>1380</th>\n",
       "      <td>CHN</td>\n",
       "      <td>1962</td>\n",
       "      <td>59</td>\n",
       "      <td>-11.905253</td>\n",
       "      <td>-0.003391</td>\n",
       "      <td>0.002497</td>\n",
       "      <td>-0.002944</td>\n",
       "      <td>-0.005119</td>\n",
       "    </tr>\n",
       "  </tbody>\n",
       "</table>\n",
       "</div>"
      ],
      "text/plain": [
       "     teamID  yearID   W         1B        2B        3B        HR        BB\n",
       "1366    KC1    1961  61   5.505733  0.000137  0.002113 -0.007983 -0.007465\n",
       "1367    LAA    1961  70  -5.505733 -0.000137 -0.002113  0.007983  0.007465\n",
       "1377    BAL    1962  77 -46.911736  0.001604 -0.001117  0.002158 -0.002690\n",
       "1379    CHA    1962  85   5.092466  0.004904  0.002352 -0.008813  0.012486\n",
       "1380    CHN    1962  59 -11.905253 -0.003391  0.002497 -0.002944 -0.005119"
      ]
     },
     "execution_count": 9,
     "metadata": {},
     "output_type": "execute_result"
    }
   ],
   "source": [
    "def meanNormalizeRates(df):\n",
    "        subRates = df[[\"1B\",\"2B\",\"3B\",\"HR\",\"BB\"]]\n",
    "        df[[\"1B\",\"2B\",\"3B\",\"HR\",\"BB\"]] = subRates - subRates.mean(axis=0)\n",
    "        return df\n",
    "\n",
    "stats = stats.groupby('yearID').apply(meanNormalizeRates)\n",
    "stats.head()"
   ]
  },
  {
   "cell_type": "markdown",
   "metadata": {},
   "source": [
    "#### Problem 1(f)\n",
    "\n",
    "Build a simple linear regression model to predict the number of wins from the average adjusted singles, double, triples, HR, and BB rates. To decide which of these terms to include fit the model to data from 2002 and compute the average squared residuals from predictions to years past 2002. Use the fitted model to define a new sabermetric summary: offensive predicted wins (OPW). Hint: the new summary should be a linear combination of one to five of the five rates.\n"
   ]
  },
  {
   "cell_type": "code",
   "execution_count": 10,
   "metadata": {
    "collapsed": false
   },
   "outputs": [],
   "source": [
    "mdl = sklearn.linear_model.LinearRegression()"
   ]
  },
  {
   "cell_type": "code",
   "execution_count": 11,
   "metadata": {
    "collapsed": false
   },
   "outputs": [
    {
     "data": {
      "text/plain": [
       "LinearRegression(copy_X=True, fit_intercept=True, n_jobs=1, normalize=False)"
      ]
     },
     "execution_count": 11,
     "metadata": {},
     "output_type": "execute_result"
    }
   ],
   "source": [
    "### Your code here #\n",
    "train = stats[stats.yearID < 2002]\n",
    "Y_train = stats[stats.yearID < 2002].W.values\n",
    "mdl.fit(train[['1B','2B', '3B','HR','BB']], Y_train)"
   ]
  },
  {
   "cell_type": "code",
   "execution_count": 12,
   "metadata": {
    "collapsed": false
   },
   "outputs": [
    {
     "name": "stdout",
     "output_type": "stream",
     "text": [
      "('Coefficients: \\n', array([  6.06477206e-02,   2.86255574e+01,   7.42883515e+02,\n",
      "         3.52380739e+02,   4.02886336e+02]))\n"
     ]
    }
   ],
   "source": [
    "print('Coefficients: \\n', mdl.coef_)"
   ]
  },
  {
   "cell_type": "code",
   "execution_count": 13,
   "metadata": {
    "collapsed": false
   },
   "outputs": [
    {
     "data": {
      "text/plain": [
       "86.904971172068841"
      ]
     },
     "execution_count": 13,
     "metadata": {},
     "output_type": "execute_result"
    }
   ],
   "source": [
    "test = stats[stats.yearID >= 2002]\n",
    "Y_test = test.W.values\n",
    "Y_pred = mdl.predict(test[['1B','2B', '3B','HR','BB']])\n",
    "error = (Y_test - Y_pred) ** 2\n",
    "error.mean()"
   ]
  },
  {
   "cell_type": "markdown",
   "metadata": {},
   "source": [
    "** Your answer here: **"
   ]
  },
  {
   "cell_type": "markdown",
   "metadata": {},
   "source": [
    "#### Problem 1(g)\n",
    "\n",
    "Now we will create a similar database for individual players. Consider only player/year combinations in which the player had at least 500 plate appearances. Consider only the years we considered for the calculations above (after 1947 and seasons with 162 games). For each player/year compute singles, doubles, triples, HR, BB per plate appearance rates. Create a new pandas DataFrame called `playerstats` that has the playerID, yearID and the rates of these stats.  Remove the average for each year as for these rates as done in Problem 1(e). "
   ]
  },
  {
   "cell_type": "code",
   "execution_count": 37,
   "metadata": {
    "collapsed": false
   },
   "outputs": [
    {
     "name": "stderr",
     "output_type": "stream",
     "text": [
      "/home/bat/anaconda2/lib/python2.7/site-packages/ipykernel/__main__.py:4: SettingWithCopyWarning: \n",
      "A value is trying to be set on a copy of a slice from a DataFrame.\n",
      "Try using .loc[row_indexer,col_indexer] = value instead\n",
      "\n",
      "See the caveats in the documentation: http://pandas.pydata.org/pandas-docs/stable/indexing.html#indexing-view-versus-copy\n",
      "/home/bat/anaconda2/lib/python2.7/site-packages/ipykernel/__main__.py:5: SettingWithCopyWarning: \n",
      "A value is trying to be set on a copy of a slice from a DataFrame.\n",
      "Try using .loc[row_indexer,col_indexer] = value instead\n",
      "\n",
      "See the caveats in the documentation: http://pandas.pydata.org/pandas-docs/stable/indexing.html#indexing-view-versus-copy\n",
      "/home/bat/anaconda2/lib/python2.7/site-packages/ipykernel/__main__.py:12: SettingWithCopyWarning: \n",
      "A value is trying to be set on a copy of a slice from a DataFrame.\n",
      "Try using .loc[row_indexer,col_indexer] = value instead\n",
      "\n",
      "See the caveats in the documentation: http://pandas.pydata.org/pandas-docs/stable/indexing.html#indexing-view-versus-copy\n"
     ]
    },
    {
     "data": {
      "text/html": [
       "<div>\n",
       "<table border=\"1\" class=\"dataframe\">\n",
       "  <thead>\n",
       "    <tr style=\"text-align: right;\">\n",
       "      <th></th>\n",
       "      <th>playerID</th>\n",
       "      <th>yearID</th>\n",
       "      <th>1B</th>\n",
       "      <th>2B</th>\n",
       "      <th>3B</th>\n",
       "      <th>HR</th>\n",
       "      <th>BB</th>\n",
       "    </tr>\n",
       "  </thead>\n",
       "  <tbody>\n",
       "    <tr>\n",
       "      <th>41776</th>\n",
       "      <td>richabo01</td>\n",
       "      <td>1961</td>\n",
       "      <td>0.213873</td>\n",
       "      <td>0.024566</td>\n",
       "      <td>0.007225</td>\n",
       "      <td>0.004335</td>\n",
       "      <td>0.043353</td>\n",
       "    </tr>\n",
       "    <tr>\n",
       "      <th>41929</th>\n",
       "      <td>woodja01</td>\n",
       "      <td>1961</td>\n",
       "      <td>0.178918</td>\n",
       "      <td>0.023578</td>\n",
       "      <td>0.019417</td>\n",
       "      <td>0.015257</td>\n",
       "      <td>0.080444</td>\n",
       "    </tr>\n",
       "    <tr>\n",
       "      <th>42065</th>\n",
       "      <td>cepedor01</td>\n",
       "      <td>1962</td>\n",
       "      <td>0.194864</td>\n",
       "      <td>0.039275</td>\n",
       "      <td>0.001511</td>\n",
       "      <td>0.052870</td>\n",
       "      <td>0.055891</td>\n",
       "    </tr>\n",
       "    <tr>\n",
       "      <th>42387</th>\n",
       "      <td>mayswi01</td>\n",
       "      <td>1962</td>\n",
       "      <td>0.141631</td>\n",
       "      <td>0.051502</td>\n",
       "      <td>0.007153</td>\n",
       "      <td>0.070100</td>\n",
       "      <td>0.111588</td>\n",
       "    </tr>\n",
       "    <tr>\n",
       "      <th>42521</th>\n",
       "      <td>robinbr01</td>\n",
       "      <td>1962</td>\n",
       "      <td>0.193787</td>\n",
       "      <td>0.042899</td>\n",
       "      <td>0.013314</td>\n",
       "      <td>0.034024</td>\n",
       "      <td>0.062130</td>\n",
       "    </tr>\n",
       "  </tbody>\n",
       "</table>\n",
       "</div>"
      ],
      "text/plain": [
       "        playerID  yearID        1B        2B        3B        HR        BB\n",
       "41776  richabo01    1961  0.213873  0.024566  0.007225  0.004335  0.043353\n",
       "41929   woodja01    1961  0.178918  0.023578  0.019417  0.015257  0.080444\n",
       "42065  cepedor01    1962  0.194864  0.039275  0.001511  0.052870  0.055891\n",
       "42387   mayswi01    1962  0.141631  0.051502  0.007153  0.070100  0.111588\n",
       "42521  robinbr01    1962  0.193787  0.042899  0.013314  0.034024  0.062130"
      ]
     },
     "execution_count": 37,
     "metadata": {},
     "output_type": "execute_result"
    }
   ],
   "source": [
    "### Your code here ###\n",
    "players.columns\n",
    "subs = players[(players.AB + players.BB >= 500) & (players.yearID > 1947) & (players.G == 162) ]\n",
    "subs['1B'] = subs.H - subs['2B'] - subs['3B'] - subs['HR']\n",
    "subs['PP'] = subs.AB + subs.BB\n",
    "subs.head()\n",
    "playerstats = subs[['playerID', 'yearID']]\n",
    "playerstats.head()\n",
    "subs.head()\n",
    "subs.H\n",
    "for col in ['1B', '2B', '3B', 'HR', 'BB']:\n",
    "    playerstats[col] = subs[col] / subs.PP\n",
    "#playerstats['H','2B'] = subs.loc['H', '2B']/subs['PP'] \n",
    "playerstats.head()"
   ]
  },
  {
   "cell_type": "code",
   "execution_count": 45,
   "metadata": {
    "collapsed": false
   },
   "outputs": [
    {
     "data": {
      "text/plain": [
       "1B    0.172317\n",
       "2B    0.046581\n",
       "3B    0.006906\n",
       "HR    0.032444\n",
       "BB    0.092900\n",
       "dtype: float64"
      ]
     },
     "execution_count": 45,
     "metadata": {},
     "output_type": "execute_result"
    }
   ],
   "source": [
    "means = playerstats[['1B', '2B', '3B', 'HR','BB']].mean(axis=0)\n",
    "playerstats.head()\n",
    "means.head()"
   ]
  },
  {
   "cell_type": "code",
   "execution_count": 52,
   "metadata": {
    "collapsed": false
   },
   "outputs": [
    {
     "data": {
      "text/html": [
       "<div>\n",
       "<table border=\"1\" class=\"dataframe\">\n",
       "  <thead>\n",
       "    <tr style=\"text-align: right;\">\n",
       "      <th></th>\n",
       "      <th>playerID</th>\n",
       "      <th>yearID</th>\n",
       "      <th>1B</th>\n",
       "      <th>2B</th>\n",
       "      <th>3B</th>\n",
       "      <th>HR</th>\n",
       "      <th>BB</th>\n",
       "    </tr>\n",
       "  </thead>\n",
       "  <tbody>\n",
       "    <tr>\n",
       "      <th>41776</th>\n",
       "      <td>richabo01</td>\n",
       "      <td>1961</td>\n",
       "      <td>-0.130762</td>\n",
       "      <td>-0.068596</td>\n",
       "      <td>-0.006587</td>\n",
       "      <td>-0.060552</td>\n",
       "      <td>-0.142448</td>\n",
       "    </tr>\n",
       "    <tr>\n",
       "      <th>41929</th>\n",
       "      <td>woodja01</td>\n",
       "      <td>1961</td>\n",
       "      <td>-0.165717</td>\n",
       "      <td>-0.069584</td>\n",
       "      <td>0.005605</td>\n",
       "      <td>-0.049631</td>\n",
       "      <td>-0.105356</td>\n",
       "    </tr>\n",
       "    <tr>\n",
       "      <th>42065</th>\n",
       "      <td>cepedor01</td>\n",
       "      <td>1962</td>\n",
       "      <td>-0.149771</td>\n",
       "      <td>-0.053887</td>\n",
       "      <td>-0.012302</td>\n",
       "      <td>-0.012017</td>\n",
       "      <td>-0.129909</td>\n",
       "    </tr>\n",
       "    <tr>\n",
       "      <th>42387</th>\n",
       "      <td>mayswi01</td>\n",
       "      <td>1962</td>\n",
       "      <td>-0.203004</td>\n",
       "      <td>-0.041660</td>\n",
       "      <td>-0.006660</td>\n",
       "      <td>0.005213</td>\n",
       "      <td>-0.074212</td>\n",
       "    </tr>\n",
       "    <tr>\n",
       "      <th>42521</th>\n",
       "      <td>robinbr01</td>\n",
       "      <td>1962</td>\n",
       "      <td>-0.150848</td>\n",
       "      <td>-0.050263</td>\n",
       "      <td>-0.000499</td>\n",
       "      <td>-0.030864</td>\n",
       "      <td>-0.123670</td>\n",
       "    </tr>\n",
       "  </tbody>\n",
       "</table>\n",
       "</div>"
      ],
      "text/plain": [
       "        playerID  yearID        1B        2B        3B        HR        BB\n",
       "41776  richabo01    1961 -0.130762 -0.068596 -0.006587 -0.060552 -0.142448\n",
       "41929   woodja01    1961 -0.165717 -0.069584  0.005605 -0.049631 -0.105356\n",
       "42065  cepedor01    1962 -0.149771 -0.053887 -0.012302 -0.012017 -0.129909\n",
       "42387   mayswi01    1962 -0.203004 -0.041660 -0.006660  0.005213 -0.074212\n",
       "42521  robinbr01    1962 -0.150848 -0.050263 -0.000499 -0.030864 -0.123670"
      ]
     },
     "execution_count": 52,
     "metadata": {},
     "output_type": "execute_result"
    }
   ],
   "source": [
    "playerstats[['1B', '2B', '3B', 'HR','BB']] = playerstats.loc[:,['1B', '2B', '3B', 'HR','BB']] - means.loc[['1B', '2B', '3B', 'HR','BB']]\n",
    "playerstats.head()"
   ]
  },
  {
   "cell_type": "markdown",
   "metadata": {},
   "source": [
    "Show the head of the `playerstats` DataFrame. "
   ]
  },
  {
   "cell_type": "code",
   "execution_count": 9,
   "metadata": {
    "collapsed": false
   },
   "outputs": [],
   "source": [
    "### Your code here ###"
   ]
  },
  {
   "cell_type": "markdown",
   "metadata": {},
   "source": [
    "#### Problem 1(h)\n",
    "\n",
    "Using the `playerstats` DataFrame created in Problem 1(g), create a new DataFrame called `playerLS` containing the player's lifetime stats. This DataFrame should contain the playerID, the year the player's career started, the year the player's career ended and the player's lifetime average for each of the quantities (singles, doubles, triples, HR, BB). For simplicity we will simply compute the avaerage of the rates by year (a more correct way is to go back to the totals). "
   ]
  },
  {
   "cell_type": "code",
   "execution_count": 138,
   "metadata": {
    "collapsed": false
   },
   "outputs": [],
   "source": [
    "### Your code here ###\n",
    "playerLS = playerstats.groupby('playerID').mean()\n",
    "playerLS.reset_index(inplace=True)\n",
    "playerLS.head()\n",
    "playerLS = playerLS.merge(master, on='playerID')\n",
    "playerLS.head()\n",
    "playerLS['yearStart'] = playerLS.debut.apply(lambda x : int(x.split('/')[2]))\n",
    "playerLS['yearEnd'] = playerLS.finalGame.apply(lambda x : int(x.split('/')[2]))\n",
    "playerLS = playerLS[['playerID', 'yearStart', 'yearEnd', '1B', '2B', '3B', 'HR', 'BB']]"
   ]
  },
  {
   "cell_type": "markdown",
   "metadata": {},
   "source": [
    "Show the head of the `playerLS` DataFrame. "
   ]
  },
  {
   "cell_type": "code",
   "execution_count": 139,
   "metadata": {
    "collapsed": false
   },
   "outputs": [
    {
     "data": {
      "text/html": [
       "<div>\n",
       "<table border=\"1\" class=\"dataframe\">\n",
       "  <thead>\n",
       "    <tr style=\"text-align: right;\">\n",
       "      <th></th>\n",
       "      <th>playerID</th>\n",
       "      <th>yearStart</th>\n",
       "      <th>yearEnd</th>\n",
       "      <th>1B</th>\n",
       "      <th>2B</th>\n",
       "      <th>3B</th>\n",
       "      <th>HR</th>\n",
       "      <th>BB</th>\n",
       "    </tr>\n",
       "  </thead>\n",
       "  <tbody>\n",
       "    <tr>\n",
       "      <th>0</th>\n",
       "      <td>abreubo01</td>\n",
       "      <td>1996</td>\n",
       "      <td>2014</td>\n",
       "      <td>-0.206777</td>\n",
       "      <td>-0.032339</td>\n",
       "      <td>-0.010222</td>\n",
       "      <td>-0.025532</td>\n",
       "      <td>-0.026453</td>\n",
       "    </tr>\n",
       "    <tr>\n",
       "      <th>1</th>\n",
       "      <td>allendi01</td>\n",
       "      <td>1963</td>\n",
       "      <td>1977</td>\n",
       "      <td>-0.171530</td>\n",
       "      <td>-0.038799</td>\n",
       "      <td>0.004785</td>\n",
       "      <td>-0.023400</td>\n",
       "      <td>-0.089949</td>\n",
       "    </tr>\n",
       "    <tr>\n",
       "      <th>2</th>\n",
       "      <td>alomasa01</td>\n",
       "      <td>1964</td>\n",
       "      <td>1978</td>\n",
       "      <td>-0.141323</td>\n",
       "      <td>-0.064241</td>\n",
       "      <td>-0.010371</td>\n",
       "      <td>-0.060761</td>\n",
       "      <td>-0.123738</td>\n",
       "    </tr>\n",
       "    <tr>\n",
       "      <th>3</th>\n",
       "      <td>alouma01</td>\n",
       "      <td>1960</td>\n",
       "      <td>1974</td>\n",
       "      <td>-0.097337</td>\n",
       "      <td>-0.037757</td>\n",
       "      <td>-0.005705</td>\n",
       "      <td>-0.063536</td>\n",
       "      <td>-0.129044</td>\n",
       "    </tr>\n",
       "    <tr>\n",
       "      <th>4</th>\n",
       "      <td>bagweje01</td>\n",
       "      <td>1991</td>\n",
       "      <td>2005</td>\n",
       "      <td>-0.210895</td>\n",
       "      <td>-0.036669</td>\n",
       "      <td>-0.010141</td>\n",
       "      <td>-0.016867</td>\n",
       "      <td>-0.008242</td>\n",
       "    </tr>\n",
       "  </tbody>\n",
       "</table>\n",
       "</div>"
      ],
      "text/plain": [
       "    playerID  yearStart  yearEnd        1B        2B        3B        HR  \\\n",
       "0  abreubo01       1996     2014 -0.206777 -0.032339 -0.010222 -0.025532   \n",
       "1  allendi01       1963     1977 -0.171530 -0.038799  0.004785 -0.023400   \n",
       "2  alomasa01       1964     1978 -0.141323 -0.064241 -0.010371 -0.060761   \n",
       "3   alouma01       1960     1974 -0.097337 -0.037757 -0.005705 -0.063536   \n",
       "4  bagweje01       1991     2005 -0.210895 -0.036669 -0.010141 -0.016867   \n",
       "\n",
       "         BB  \n",
       "0 -0.026453  \n",
       "1 -0.089949  \n",
       "2 -0.123738  \n",
       "3 -0.129044  \n",
       "4 -0.008242  "
      ]
     },
     "execution_count": 139,
     "metadata": {},
     "output_type": "execute_result"
    }
   ],
   "source": [
    "### Your code here ###\n",
    "playerLS.head()"
   ]
  },
  {
   "cell_type": "markdown",
   "metadata": {},
   "source": [
    "#### Problem 1(i)\n",
    "\n",
    "Compute the OPW for each player based on the average rates in the `playerLS` DataFrame. You can interpret this summary statistic as the predicted wins for a team with 9 batters exactly like the player in question. Add this column to the playerLS DataFrame. Call this colum OPW."
   ]
  },
  {
   "cell_type": "code",
   "execution_count": 140,
   "metadata": {
    "collapsed": false
   },
   "outputs": [
    {
     "data": {
      "text/html": [
       "<div>\n",
       "<table border=\"1\" class=\"dataframe\">\n",
       "  <thead>\n",
       "    <tr style=\"text-align: right;\">\n",
       "      <th></th>\n",
       "      <th>playerID</th>\n",
       "      <th>yearStart</th>\n",
       "      <th>yearEnd</th>\n",
       "      <th>1B</th>\n",
       "      <th>2B</th>\n",
       "      <th>3B</th>\n",
       "      <th>HR</th>\n",
       "      <th>BB</th>\n",
       "      <th>OPW</th>\n",
       "    </tr>\n",
       "  </thead>\n",
       "  <tbody>\n",
       "    <tr>\n",
       "      <th>0</th>\n",
       "      <td>abreubo01</td>\n",
       "      <td>1996</td>\n",
       "      <td>2014</td>\n",
       "      <td>-0.206777</td>\n",
       "      <td>-0.032339</td>\n",
       "      <td>-0.010222</td>\n",
       "      <td>-0.025532</td>\n",
       "      <td>-0.026453</td>\n",
       "      <td>52.877369</td>\n",
       "    </tr>\n",
       "    <tr>\n",
       "      <th>1</th>\n",
       "      <td>allendi01</td>\n",
       "      <td>1963</td>\n",
       "      <td>1977</td>\n",
       "      <td>-0.171530</td>\n",
       "      <td>-0.038799</td>\n",
       "      <td>0.004785</td>\n",
       "      <td>-0.023400</td>\n",
       "      <td>-0.089949</td>\n",
       "      <td>39.012537</td>\n",
       "    </tr>\n",
       "    <tr>\n",
       "      <th>2</th>\n",
       "      <td>alomasa01</td>\n",
       "      <td>1964</td>\n",
       "      <td>1978</td>\n",
       "      <td>-0.141323</td>\n",
       "      <td>-0.064241</td>\n",
       "      <td>-0.010371</td>\n",
       "      <td>-0.060761</td>\n",
       "      <td>-0.123738</td>\n",
       "      <td>0.248495</td>\n",
       "    </tr>\n",
       "    <tr>\n",
       "      <th>3</th>\n",
       "      <td>alouma01</td>\n",
       "      <td>1960</td>\n",
       "      <td>1974</td>\n",
       "      <td>-0.097337</td>\n",
       "      <td>-0.037757</td>\n",
       "      <td>-0.005705</td>\n",
       "      <td>-0.063536</td>\n",
       "      <td>-0.129044</td>\n",
       "      <td>1.360151</td>\n",
       "    </tr>\n",
       "    <tr>\n",
       "      <th>4</th>\n",
       "      <td>bagweje01</td>\n",
       "      <td>1991</td>\n",
       "      <td>2005</td>\n",
       "      <td>-0.210895</td>\n",
       "      <td>-0.036669</td>\n",
       "      <td>-0.010141</td>\n",
       "      <td>-0.016867</td>\n",
       "      <td>-0.008242</td>\n",
       "      <td>63.203174</td>\n",
       "    </tr>\n",
       "  </tbody>\n",
       "</table>\n",
       "</div>"
      ],
      "text/plain": [
       "    playerID  yearStart  yearEnd        1B        2B        3B        HR  \\\n",
       "0  abreubo01       1996     2014 -0.206777 -0.032339 -0.010222 -0.025532   \n",
       "1  allendi01       1963     1977 -0.171530 -0.038799  0.004785 -0.023400   \n",
       "2  alomasa01       1964     1978 -0.141323 -0.064241 -0.010371 -0.060761   \n",
       "3   alouma01       1960     1974 -0.097337 -0.037757 -0.005705 -0.063536   \n",
       "4  bagweje01       1991     2005 -0.210895 -0.036669 -0.010141 -0.016867   \n",
       "\n",
       "         BB        OPW  \n",
       "0 -0.026453  52.877369  \n",
       "1 -0.089949  39.012537  \n",
       "2 -0.123738   0.248495  \n",
       "3 -0.129044   1.360151  \n",
       "4 -0.008242  63.203174  "
      ]
     },
     "execution_count": 140,
     "metadata": {},
     "output_type": "execute_result"
    }
   ],
   "source": [
    "### Your code here ###\n",
    "playerLS['OPW'] = mdl.predict(playerLS[['1B','2B', '3B','HR','BB']])\n",
    "playerLS.head()"
   ]
  },
  {
   "cell_type": "markdown",
   "metadata": {},
   "source": [
    "#### Problem 1(j)\n",
    "\n",
    "Add four columns to the `playerLS` DataFrame that contains the player's position (C, 1B, 2B, 3B, SS, LF, CF, RF, or OF), first name, last name and median salary. "
   ]
  },
  {
   "cell_type": "code",
   "execution_count": 141,
   "metadata": {
    "collapsed": false
   },
   "outputs": [],
   "source": [
    "fielding.columns\n",
    "\n",
    "import collections\n",
    "\n",
    "def count_pos(df):\n",
    "    d_pos = collections.defaultdict(int)\n",
    "    for position in df.POS:\n",
    "        d_pos[position] +=1\n",
    "    return max(d_pos.iterkeys(), key=(lambda key: d_pos[key]))\n"
   ]
  },
  {
   "cell_type": "code",
   "execution_count": 142,
   "metadata": {
    "collapsed": false
   },
   "outputs": [
    {
     "data": {
      "text/html": [
       "<div>\n",
       "<table border=\"1\" class=\"dataframe\">\n",
       "  <thead>\n",
       "    <tr style=\"text-align: right;\">\n",
       "      <th></th>\n",
       "      <th>playerID</th>\n",
       "      <th>yearStart</th>\n",
       "      <th>yearEnd</th>\n",
       "      <th>1B</th>\n",
       "      <th>2B</th>\n",
       "      <th>3B</th>\n",
       "      <th>HR</th>\n",
       "      <th>BB</th>\n",
       "      <th>OPW</th>\n",
       "      <th>POS</th>\n",
       "    </tr>\n",
       "  </thead>\n",
       "  <tbody>\n",
       "    <tr>\n",
       "      <th>0</th>\n",
       "      <td>abreubo01</td>\n",
       "      <td>1996</td>\n",
       "      <td>2014</td>\n",
       "      <td>-0.206777</td>\n",
       "      <td>-0.032339</td>\n",
       "      <td>-0.010222</td>\n",
       "      <td>-0.025532</td>\n",
       "      <td>-0.026453</td>\n",
       "      <td>52.877369</td>\n",
       "      <td>OF</td>\n",
       "    </tr>\n",
       "    <tr>\n",
       "      <th>1</th>\n",
       "      <td>allendi01</td>\n",
       "      <td>1963</td>\n",
       "      <td>1977</td>\n",
       "      <td>-0.171530</td>\n",
       "      <td>-0.038799</td>\n",
       "      <td>0.004785</td>\n",
       "      <td>-0.023400</td>\n",
       "      <td>-0.089949</td>\n",
       "      <td>39.012537</td>\n",
       "      <td>1B</td>\n",
       "    </tr>\n",
       "    <tr>\n",
       "      <th>2</th>\n",
       "      <td>alomasa01</td>\n",
       "      <td>1964</td>\n",
       "      <td>1978</td>\n",
       "      <td>-0.141323</td>\n",
       "      <td>-0.064241</td>\n",
       "      <td>-0.010371</td>\n",
       "      <td>-0.060761</td>\n",
       "      <td>-0.123738</td>\n",
       "      <td>0.248495</td>\n",
       "      <td>2B</td>\n",
       "    </tr>\n",
       "    <tr>\n",
       "      <th>3</th>\n",
       "      <td>alouma01</td>\n",
       "      <td>1960</td>\n",
       "      <td>1974</td>\n",
       "      <td>-0.097337</td>\n",
       "      <td>-0.037757</td>\n",
       "      <td>-0.005705</td>\n",
       "      <td>-0.063536</td>\n",
       "      <td>-0.129044</td>\n",
       "      <td>1.360151</td>\n",
       "      <td>OF</td>\n",
       "    </tr>\n",
       "    <tr>\n",
       "      <th>4</th>\n",
       "      <td>bagweje01</td>\n",
       "      <td>1991</td>\n",
       "      <td>2005</td>\n",
       "      <td>-0.210895</td>\n",
       "      <td>-0.036669</td>\n",
       "      <td>-0.010141</td>\n",
       "      <td>-0.016867</td>\n",
       "      <td>-0.008242</td>\n",
       "      <td>63.203174</td>\n",
       "      <td>1B</td>\n",
       "    </tr>\n",
       "  </tbody>\n",
       "</table>\n",
       "</div>"
      ],
      "text/plain": [
       "    playerID  yearStart  yearEnd        1B        2B        3B        HR  \\\n",
       "0  abreubo01       1996     2014 -0.206777 -0.032339 -0.010222 -0.025532   \n",
       "1  allendi01       1963     1977 -0.171530 -0.038799  0.004785 -0.023400   \n",
       "2  alomasa01       1964     1978 -0.141323 -0.064241 -0.010371 -0.060761   \n",
       "3   alouma01       1960     1974 -0.097337 -0.037757 -0.005705 -0.063536   \n",
       "4  bagweje01       1991     2005 -0.210895 -0.036669 -0.010141 -0.016867   \n",
       "\n",
       "         BB        OPW POS  \n",
       "0 -0.026453  52.877369  OF  \n",
       "1 -0.089949  39.012537  1B  \n",
       "2 -0.123738   0.248495  2B  \n",
       "3 -0.129044   1.360151  OF  \n",
       "4 -0.008242  63.203174  1B  "
      ]
     },
     "execution_count": 142,
     "metadata": {},
     "output_type": "execute_result"
    }
   ],
   "source": [
    "### Your code here ###\n",
    "player_pos =  {}\n",
    "positions_df =fielding.groupby('playerID').apply(count_pos)\n",
    "\n",
    "positions_df.name = 'POS'\n",
    "positions_df = positions_df.reset_index()\n",
    "positions_df.columns\n",
    "playerLS = playerLS.merge(positions_df, on='playerID')\n",
    "playerLS.head()"
   ]
  },
  {
   "cell_type": "code",
   "execution_count": 143,
   "metadata": {
    "collapsed": false
   },
   "outputs": [
    {
     "data": {
      "text/html": [
       "<div>\n",
       "<table border=\"1\" class=\"dataframe\">\n",
       "  <thead>\n",
       "    <tr style=\"text-align: right;\">\n",
       "      <th></th>\n",
       "      <th>playerID</th>\n",
       "      <th>yearStart</th>\n",
       "      <th>yearEnd</th>\n",
       "      <th>1B</th>\n",
       "      <th>2B</th>\n",
       "      <th>3B</th>\n",
       "      <th>HR</th>\n",
       "      <th>BB</th>\n",
       "      <th>OPW</th>\n",
       "      <th>POS</th>\n",
       "      <th>salary</th>\n",
       "      <th>nameFirst</th>\n",
       "      <th>nameLast</th>\n",
       "    </tr>\n",
       "  </thead>\n",
       "  <tbody>\n",
       "    <tr>\n",
       "      <th>0</th>\n",
       "      <td>abreubo01</td>\n",
       "      <td>1996</td>\n",
       "      <td>2014</td>\n",
       "      <td>-0.206777</td>\n",
       "      <td>-0.032339</td>\n",
       "      <td>-0.010222</td>\n",
       "      <td>-0.025532</td>\n",
       "      <td>-0.026453</td>\n",
       "      <td>52.877369</td>\n",
       "      <td>OF</td>\n",
       "      <td>9000000</td>\n",
       "      <td>Bobby</td>\n",
       "      <td>Abreu</td>\n",
       "    </tr>\n",
       "    <tr>\n",
       "      <th>1</th>\n",
       "      <td>bagweje01</td>\n",
       "      <td>1991</td>\n",
       "      <td>2005</td>\n",
       "      <td>-0.210895</td>\n",
       "      <td>-0.036669</td>\n",
       "      <td>-0.010141</td>\n",
       "      <td>-0.016867</td>\n",
       "      <td>-0.008242</td>\n",
       "      <td>63.203174</td>\n",
       "      <td>1B</td>\n",
       "      <td>6875000</td>\n",
       "      <td>Jeff</td>\n",
       "      <td>Bagwell</td>\n",
       "    </tr>\n",
       "    <tr>\n",
       "      <th>2</th>\n",
       "      <td>bayja01</td>\n",
       "      <td>2003</td>\n",
       "      <td>2013</td>\n",
       "      <td>-0.199102</td>\n",
       "      <td>-0.029762</td>\n",
       "      <td>-0.005167</td>\n",
       "      <td>-0.018778</td>\n",
       "      <td>-0.048913</td>\n",
       "      <td>50.037628</td>\n",
       "      <td>OF</td>\n",
       "      <td>4750000</td>\n",
       "      <td>Jason</td>\n",
       "      <td>Bay</td>\n",
       "    </tr>\n",
       "    <tr>\n",
       "      <th>3</th>\n",
       "      <td>baylodo01</td>\n",
       "      <td>1970</td>\n",
       "      <td>1988</td>\n",
       "      <td>-0.181545</td>\n",
       "      <td>-0.045952</td>\n",
       "      <td>-0.009521</td>\n",
       "      <td>-0.013385</td>\n",
       "      <td>-0.084227</td>\n",
       "      <td>34.013715</td>\n",
       "      <td>DH</td>\n",
       "      <td>695909</td>\n",
       "      <td>Don</td>\n",
       "      <td>Baylor</td>\n",
       "    </tr>\n",
       "    <tr>\n",
       "      <th>4</th>\n",
       "      <td>bellbu01</td>\n",
       "      <td>1972</td>\n",
       "      <td>1989</td>\n",
       "      <td>-0.148920</td>\n",
       "      <td>-0.033162</td>\n",
       "      <td>-0.009527</td>\n",
       "      <td>-0.039173</td>\n",
       "      <td>-0.142943</td>\n",
       "      <td>1.634017</td>\n",
       "      <td>3B</td>\n",
       "      <td>830454</td>\n",
       "      <td>Buddy</td>\n",
       "      <td>Bell</td>\n",
       "    </tr>\n",
       "  </tbody>\n",
       "</table>\n",
       "</div>"
      ],
      "text/plain": [
       "    playerID  yearStart  yearEnd        1B        2B        3B        HR  \\\n",
       "0  abreubo01       1996     2014 -0.206777 -0.032339 -0.010222 -0.025532   \n",
       "1  bagweje01       1991     2005 -0.210895 -0.036669 -0.010141 -0.016867   \n",
       "2    bayja01       2003     2013 -0.199102 -0.029762 -0.005167 -0.018778   \n",
       "3  baylodo01       1970     1988 -0.181545 -0.045952 -0.009521 -0.013385   \n",
       "4   bellbu01       1972     1989 -0.148920 -0.033162 -0.009527 -0.039173   \n",
       "\n",
       "         BB        OPW POS   salary nameFirst nameLast  \n",
       "0 -0.026453  52.877369  OF  9000000     Bobby    Abreu  \n",
       "1 -0.008242  63.203174  1B  6875000      Jeff  Bagwell  \n",
       "2 -0.048913  50.037628  OF  4750000     Jason      Bay  \n",
       "3 -0.084227  34.013715  DH   695909       Don   Baylor  \n",
       "4 -0.142943   1.634017  3B   830454     Buddy     Bell  "
      ]
     },
     "execution_count": 143,
     "metadata": {},
     "output_type": "execute_result"
    }
   ],
   "source": [
    "playerLS = playerLS.merge(medianSalaries, on='playerID')\n",
    "playerLS.head()\n"
   ]
  },
  {
   "cell_type": "markdown",
   "metadata": {},
   "source": [
    "Show the head of the `playerLS` DataFrame. "
   ]
  },
  {
   "cell_type": "code",
   "execution_count": 14,
   "metadata": {
    "collapsed": false
   },
   "outputs": [],
   "source": [
    "### Your code here ###"
   ]
  },
  {
   "cell_type": "markdown",
   "metadata": {},
   "source": [
    "#### Problem 1(k)\n",
    "\n",
    "Subset the `playerLS` DataFrame for players active in 2002 and 2003 and played at least three years. Plot and describe the relationship bewteen the median salary (in millions) and the predicted number of wins. "
   ]
  },
  {
   "cell_type": "code",
   "execution_count": 146,
   "metadata": {
    "collapsed": false
   },
   "outputs": [
    {
     "data": {
      "text/html": [
       "<div>\n",
       "<table border=\"1\" class=\"dataframe\">\n",
       "  <thead>\n",
       "    <tr style=\"text-align: right;\">\n",
       "      <th></th>\n",
       "      <th>playerID</th>\n",
       "      <th>yearStart</th>\n",
       "      <th>yearEnd</th>\n",
       "      <th>1B</th>\n",
       "      <th>2B</th>\n",
       "      <th>3B</th>\n",
       "      <th>HR</th>\n",
       "      <th>BB</th>\n",
       "      <th>OPW</th>\n",
       "      <th>POS</th>\n",
       "      <th>salary</th>\n",
       "      <th>nameFirst</th>\n",
       "      <th>nameLast</th>\n",
       "    </tr>\n",
       "  </thead>\n",
       "  <tbody>\n",
       "    <tr>\n",
       "      <th>0</th>\n",
       "      <td>abreubo01</td>\n",
       "      <td>1996</td>\n",
       "      <td>2014</td>\n",
       "      <td>-0.206777</td>\n",
       "      <td>-0.032339</td>\n",
       "      <td>-0.010222</td>\n",
       "      <td>-0.025532</td>\n",
       "      <td>-0.026453</td>\n",
       "      <td>52.877369</td>\n",
       "      <td>OF</td>\n",
       "      <td>9000000</td>\n",
       "      <td>Bobby</td>\n",
       "      <td>Abreu</td>\n",
       "    </tr>\n",
       "    <tr>\n",
       "      <th>1</th>\n",
       "      <td>bagweje01</td>\n",
       "      <td>1991</td>\n",
       "      <td>2005</td>\n",
       "      <td>-0.210895</td>\n",
       "      <td>-0.036669</td>\n",
       "      <td>-0.010141</td>\n",
       "      <td>-0.016867</td>\n",
       "      <td>-0.008242</td>\n",
       "      <td>63.203174</td>\n",
       "      <td>1B</td>\n",
       "      <td>6875000</td>\n",
       "      <td>Jeff</td>\n",
       "      <td>Bagwell</td>\n",
       "    </tr>\n",
       "    <tr>\n",
       "      <th>5</th>\n",
       "      <td>beltrca01</td>\n",
       "      <td>1998</td>\n",
       "      <td>2014</td>\n",
       "      <td>-0.211866</td>\n",
       "      <td>-0.031015</td>\n",
       "      <td>-0.003926</td>\n",
       "      <td>-0.023927</td>\n",
       "      <td>-0.085518</td>\n",
       "      <td>34.361103</td>\n",
       "      <td>OF</td>\n",
       "      <td>13000000</td>\n",
       "      <td>Carlos</td>\n",
       "      <td>Beltran</td>\n",
       "    </tr>\n",
       "    <tr>\n",
       "      <th>6</th>\n",
       "      <td>biggicr01</td>\n",
       "      <td>1988</td>\n",
       "      <td>2007</td>\n",
       "      <td>-0.160803</td>\n",
       "      <td>-0.048767</td>\n",
       "      <td>-0.006644</td>\n",
       "      <td>-0.044274</td>\n",
       "      <td>-0.064888</td>\n",
       "      <td>32.978206</td>\n",
       "      <td>2B</td>\n",
       "      <td>4000000</td>\n",
       "      <td>Craig</td>\n",
       "      <td>Biggio</td>\n",
       "    </tr>\n",
       "    <tr>\n",
       "      <th>7</th>\n",
       "      <td>booneaa01</td>\n",
       "      <td>1997</td>\n",
       "      <td>2009</td>\n",
       "      <td>-0.223789</td>\n",
       "      <td>-0.035760</td>\n",
       "      <td>-0.010792</td>\n",
       "      <td>-0.025612</td>\n",
       "      <td>-0.101208</td>\n",
       "      <td>22.208646</td>\n",
       "      <td>3B</td>\n",
       "      <td>925000</td>\n",
       "      <td>Aaron</td>\n",
       "      <td>Boone</td>\n",
       "    </tr>\n",
       "  </tbody>\n",
       "</table>\n",
       "</div>"
      ],
      "text/plain": [
       "    playerID  yearStart  yearEnd        1B        2B        3B        HR  \\\n",
       "0  abreubo01       1996     2014 -0.206777 -0.032339 -0.010222 -0.025532   \n",
       "1  bagweje01       1991     2005 -0.210895 -0.036669 -0.010141 -0.016867   \n",
       "5  beltrca01       1998     2014 -0.211866 -0.031015 -0.003926 -0.023927   \n",
       "6  biggicr01       1988     2007 -0.160803 -0.048767 -0.006644 -0.044274   \n",
       "7  booneaa01       1997     2009 -0.223789 -0.035760 -0.010792 -0.025612   \n",
       "\n",
       "         BB        OPW POS    salary nameFirst nameLast  \n",
       "0 -0.026453  52.877369  OF   9000000     Bobby    Abreu  \n",
       "1 -0.008242  63.203174  1B   6875000      Jeff  Bagwell  \n",
       "5 -0.085518  34.361103  OF  13000000    Carlos  Beltran  \n",
       "6 -0.064888  32.978206  2B   4000000     Craig   Biggio  \n",
       "7 -0.101208  22.208646  3B    925000     Aaron    Boone  "
      ]
     },
     "execution_count": 146,
     "metadata": {},
     "output_type": "execute_result"
    }
   ],
   "source": [
    "### Your code here ###\n",
    "subs_ls = playerLS[(playerLS.yearStart < 2002) & (playerLS.yearEnd > 2003) & (playerLS.yearEnd - playerLS.yearStart >= 3)]\n",
    "subs_ls.head()"
   ]
  },
  {
   "cell_type": "code",
   "execution_count": 147,
   "metadata": {
    "collapsed": false
   },
   "outputs": [
    {
     "data": {
      "text/plain": [
       "<matplotlib.collections.PathCollection at 0x7ff82eb373d0>"
      ]
     },
     "execution_count": 147,
     "metadata": {},
     "output_type": "execute_result"
    },
    {
     "data": {
      "image/png": "[encoded data removed]",
      "text/plain": [
       "<matplotlib.figure.Figure at 0x7ff83274f550>"
      ]
     },
     "metadata": {},
     "output_type": "display_data"
    }
   ],
   "source": [
    "plt.scatter(subs_ls.salary, subs_ls.OPW)"
   ]
  },
  {
   "cell_type": "code",
   "execution_count": 148,
   "metadata": {
    "collapsed": false
   },
   "outputs": [
    {
     "data": {
      "image/png": "[encoded data removed]",
      "text/plain": [
       "<matplotlib.figure.Figure at 0x7ff832757050>"
      ]
     },
     "metadata": {},
     "output_type": "display_data"
    }
   ],
   "source": [
    "fig = plt.figure()\n",
    "ax = fig.gca()\n",
    "ax.scatter(subs_ls.salary/10**6, subs_ls.OPW, alpha=0.5, c='red')\n",
    "ax.set_xscale('log')\n",
    "ax.set_xlabel('Salary (in Millions) on log')\n",
    "ax.set_ylabel('OPW')\n",
    "ax.set_title('Relationship between Salary and Predicted Number of Wins')\n",
    "plt.show()"
   ]
  },
  {
   "cell_type": "markdown",
   "metadata": {},
   "source": [
    "#### Problem 1(l)\n",
    "Pick one players from one of each of these 10 position C, 1B, 2B, 3B, SS, LF, CF, RF, DH, or OF keeping the total median salary of all 10 players below 20 million. Report their averaged predicted wins and total salary."
   ]
  },
  {
   "cell_type": "code",
   "execution_count": 16,
   "metadata": {
    "collapsed": false
   },
   "outputs": [],
   "source": [
    "### Your code here ###"
   ]
  },
  {
   "cell_type": "markdown",
   "metadata": {},
   "source": [
    "#### Problem 1(m)\n",
    "What do these players outperform in? Singles, doubles, triples HR or BB?"
   ]
  },
  {
   "cell_type": "code",
   "execution_count": 17,
   "metadata": {
    "collapsed": false
   },
   "outputs": [],
   "source": [
    "### Your code here ###"
   ]
  },
  {
   "cell_type": "markdown",
   "metadata": {},
   "source": [
    "** Your answer here: **"
   ]
  },
  {
   "cell_type": "markdown",
   "metadata": {},
   "source": [
    "## Discussion for Problem 1\n",
    "\n",
    "*Write a brief discussion of your conclusions to the questions and tasks above in 100 words or less.*\n",
    "\n",
    "---"
   ]
  },
  {
   "cell_type": "markdown",
   "metadata": {},
   "source": [
    "# Problem 2:  $k$-Nearest Neighbors and Cross Validation \n",
    "\n",
    "What is the optimal $k$ for predicting species using $k$-nearest neighbor classification \n",
    "on the four features provided by the iris dataset.\n",
    "\n",
    "In this problem you will get to know the famous iris data set, and use cross validation to select the optimal $k$ for a $k$-nearest neighbor classification. This problem set makes heavy use of the [sklearn](http://scikit-learn.org/stable/) library. In addition to Pandas, it is one of the most useful libraries for data scientists! After completing this homework assignment you will know all the basics to get started with your own machine learning projects in sklearn. \n",
    "\n",
    "Future lectures will give further background information on different classifiers and their specific strengths and weaknesses, but when you have the basics for sklearn down, changing the classifier will boil down to exchanging one to two lines of code.\n",
    "\n",
    "The data set is so popular, that sklearn provides an extra function to load it:"
   ]
  },
  {
   "cell_type": "code",
   "execution_count": 46,
   "metadata": {
    "collapsed": false
   },
   "outputs": [
    {
     "name": "stdout",
     "output_type": "stream",
     "text": [
      "(150, 4) (150,)\n"
     ]
    }
   ],
   "source": [
    "#load the iris data set\n",
    "iris = sklearn.datasets.load_iris()\n",
    "\n",
    "X = iris.data  \n",
    "Y = iris.target\n",
    "\n",
    "print X.shape, Y.shape"
   ]
  },
  {
   "cell_type": "markdown",
   "metadata": {},
   "source": [
    "#### Problem 2(a) \n",
    "Split the data into a train and a test set. Use a random selection of 33% of the samples as test data. Sklearn provides the [`train_test_split`](http://scikit-learn.org/stable/modules/generated/sklearn.cross_validation.train_test_split.html) function for this purpose. Print the dimensions of all the train and test data sets you have created. "
   ]
  },
  {
   "cell_type": "code",
   "execution_count": 47,
   "metadata": {
    "collapsed": false
   },
   "outputs": [],
   "source": [
    "### Your code here ###\n",
    "X_train, X_test, y_train, y_test = sklearn.cross_validation.train_test_split(\n",
    "                                   X, Y, test_size=0.33, random_state=42)"
   ]
  },
  {
   "cell_type": "code",
   "execution_count": 48,
   "metadata": {
    "collapsed": false
   },
   "outputs": [
    {
     "data": {
      "text/plain": [
       "(100, 4)"
      ]
     },
     "execution_count": 48,
     "metadata": {},
     "output_type": "execute_result"
    }
   ],
   "source": [
    "np.shape(X_train)"
   ]
  },
  {
   "cell_type": "code",
   "execution_count": 49,
   "metadata": {
    "collapsed": false
   },
   "outputs": [
    {
     "data": {
      "text/plain": [
       "(50, 4)"
      ]
     },
     "execution_count": 49,
     "metadata": {},
     "output_type": "execute_result"
    }
   ],
   "source": [
    "np.shape(X_test)"
   ]
  },
  {
   "cell_type": "code",
   "execution_count": 50,
   "metadata": {
    "collapsed": false
   },
   "outputs": [
    {
     "data": {
      "text/plain": [
       "(100,)"
      ]
     },
     "execution_count": 50,
     "metadata": {},
     "output_type": "execute_result"
    }
   ],
   "source": [
    "np.shape(y_train)"
   ]
  },
  {
   "cell_type": "code",
   "execution_count": 51,
   "metadata": {
    "collapsed": false
   },
   "outputs": [
    {
     "data": {
      "text/plain": [
       "(50,)"
      ]
     },
     "execution_count": 51,
     "metadata": {},
     "output_type": "execute_result"
    }
   ],
   "source": [
    "np.shape(y_test)"
   ]
  },
  {
   "cell_type": "markdown",
   "metadata": {},
   "source": [
    "#### Problem 2(b)\n",
    "\n",
    "Examine the data further by looking at the projections to the first two principal components of the data. Use the [`TruncatedSVD`](http://scikit-learn.org/stable/modules/generated/sklearn.decomposition.TruncatedSVD.html) function for this purpose, and create a scatter plot. Use the colors on the scatter plot to represent the different classes in the target data. "
   ]
  },
  {
   "cell_type": "code",
   "execution_count": 52,
   "metadata": {
    "collapsed": false
   },
   "outputs": [],
   "source": [
    "### Your code here ###\n",
    "svd = sklearn.decomposition.TruncatedSVD(n_components=2, random_state=42)\n",
    "X_fit = svd.fit(X_train) \n",
    "X_2d = svd.fit_transform(X_train) "
   ]
  },
  {
   "cell_type": "code",
   "execution_count": 53,
   "metadata": {
    "collapsed": false
   },
   "outputs": [
    {
     "data": {
      "image/png": "[encoded data removed]",
      "text/plain": [
       "<matplotlib.figure.Figure at 0x7f4c02aa5a10>"
      ]
     },
     "metadata": {},
     "output_type": "display_data"
    }
   ],
   "source": [
    "plt.scatter(X_2d[:,0], X_2d[:,1],c=y_train,cmap=plt.cm.prism)\n",
    "plt.xlabel('PC1')\n",
    "plt.ylabel('PC2')\n",
    "plt.title('First two PCs using iris data')\n",
    "plt.show()\n",
    "plt.scatter?"
   ]
  },
  {
   "cell_type": "markdown",
   "metadata": {},
   "source": [
    "#### Problem 2(c) \n",
    "\n",
    "In the lecture we discussed how to use cross validation to estimate the optimal value for $k$ (the number of nearest neighbors to base the classification on). Use ***ten fold cross validation*** to estimate the optimal value for $k$ for the iris data set. \n",
    "\n",
    "**Note**: For your convenience sklearn does not only include the [KNN classifier](http://scikit-learn.org/stable/modules/generated/sklearn.neighbors.KNeighborsClassifier.html), but also a [grid search function](http://scikit-learn.org/stable/modules/generated/sklearn.grid_search.GridSearchCV.html#sklearn.grid_search.GridSearchCV). The function is called grid search, because if you have to optimize more than one parameter, it is common practice to define a range of possible values for each parameter. An exhaustive search then runs over the complete grid defined by all the possible parameter combinations. This can get very computation heavy, but luckily our KNN classifier only requires tuning of a single parameter for this problem set. "
   ]
  },
  {
   "cell_type": "code",
   "execution_count": 54,
   "metadata": {
    "collapsed": false
   },
   "outputs": [
    {
     "data": {
      "text/plain": [
       "GridSearchCV(cv=10, error_score='raise',\n",
       "       estimator=KNeighborsClassifier(algorithm='auto', leaf_size=30, metric='minkowski',\n",
       "           metric_params=None, n_jobs=1, n_neighbors=5, p=2,\n",
       "           weights='uniform'),\n",
       "       fit_params={}, iid=True, n_jobs=1,\n",
       "       param_grid={'n_neighbors': [1, 2, 3, 4, 5, 6, 7, 8, 9, 10, 11, 12, 13, 14, 15, 16, 17, 18, 19, 20]},\n",
       "       pre_dispatch='2*n_jobs', refit=True, scoring=None, verbose=0)"
      ]
     },
     "execution_count": 54,
     "metadata": {},
     "output_type": "execute_result"
    }
   ],
   "source": [
    "from sklearn.neighbors import KNeighborsClassifier\n",
    "from sklearn.grid_search import GridSearchCV\n",
    "knn = KNeighborsClassifier()\n",
    "param = {'n_neighbors': range(1,21)}\n",
    "clf = GridSearchCV(knn, param, cv=10)\n",
    "clf.fit(X_train, y_train)\n",
    "\n",
    "    "
   ]
  },
  {
   "cell_type": "code",
   "execution_count": 55,
   "metadata": {
    "collapsed": false
   },
   "outputs": [
    {
     "data": {
      "text/plain": [
       "[mean: 0.94000, std: 0.08483, params: {'n_neighbors': 1},\n",
       " mean: 0.93000, std: 0.08251, params: {'n_neighbors': 2},\n",
       " mean: 0.94000, std: 0.08456, params: {'n_neighbors': 3},\n",
       " mean: 0.95000, std: 0.08101, params: {'n_neighbors': 4},\n",
       " mean: 0.95000, std: 0.08562, params: {'n_neighbors': 5},\n",
       " mean: 0.93000, std: 0.08284, params: {'n_neighbors': 6},\n",
       " mean: 0.95000, std: 0.08512, params: {'n_neighbors': 7},\n",
       " mean: 0.94000, std: 0.08414, params: {'n_neighbors': 8},\n",
       " mean: 0.94000, std: 0.08414, params: {'n_neighbors': 9},\n",
       " mean: 0.94000, std: 0.08414, params: {'n_neighbors': 10},\n",
       " mean: 0.94000, std: 0.08483, params: {'n_neighbors': 11},\n",
       " mean: 0.93000, std: 0.08284, params: {'n_neighbors': 12},\n",
       " mean: 0.93000, std: 0.08284, params: {'n_neighbors': 13},\n",
       " mean: 0.94000, std: 0.08414, params: {'n_neighbors': 14},\n",
       " mean: 0.94000, std: 0.08483, params: {'n_neighbors': 15},\n",
       " mean: 0.93000, std: 0.08284, params: {'n_neighbors': 16},\n",
       " mean: 0.94000, std: 0.08483, params: {'n_neighbors': 17},\n",
       " mean: 0.93000, std: 0.09458, params: {'n_neighbors': 18},\n",
       " mean: 0.94000, std: 0.08483, params: {'n_neighbors': 19},\n",
       " mean: 0.93000, std: 0.10887, params: {'n_neighbors': 20}]"
      ]
     },
     "execution_count": 55,
     "metadata": {},
     "output_type": "execute_result"
    }
   ],
   "source": [
    "### Your code here ###\n",
    "clf.grid_scores_"
   ]
  },
  {
   "cell_type": "code",
   "execution_count": 56,
   "metadata": {
    "collapsed": false
   },
   "outputs": [
    {
     "data": {
      "text/plain": [
       "<matplotlib.collections.PathCollection at 0x7f4c02f4a3d0>"
      ]
     },
     "execution_count": 56,
     "metadata": {},
     "output_type": "execute_result"
    },
    {
     "data": {
      "image/png": "[encoded data removed]",
      "text/plain": [
       "<matplotlib.figure.Figure at 0x7f4c027e9cd0>"
      ]
     },
     "metadata": {},
     "output_type": "display_data"
    }
   ],
   "source": [
    "data_val = [sa.cv_validation_scores for sa in clf.grid_scores_]\n",
    "#sns.boxplot(data_val)\n",
    "plt.scatter(range(1,21),np.array(data_val).mean(axis=1))"
   ]
  },
  {
   "cell_type": "code",
   "execution_count": 57,
   "metadata": {
    "collapsed": false
   },
   "outputs": [
    {
     "data": {
      "image/png": "[encoded data removed]",
      "text/plain": [
       "<matplotlib.figure.Figure at 0x7f4c027e9ad0>"
      ]
     },
     "metadata": {},
     "output_type": "display_data"
    }
   ],
   "source": [
    "import seaborn as sns\n",
    "a = clf.grid_scores_\n",
    "scores = [b.cv_validation_scores for b in a]\n",
    "\n",
    "score_means = np.mean(scores, axis=1)\n",
    "\n",
    "sns.boxplot(scores)\n",
    "plt.scatter(range(1,21),score_means, c='k', zorder=2)\n",
    "plt.ylim(0.8, 1.1)\n",
    "plt.title('Accuracy as a function of $k$')\n",
    "plt.ylabel('Accuracy')\n",
    "plt.xlabel('Choice of k')\n",
    "plt.show()"
   ]
  },
  {
   "cell_type": "markdown",
   "metadata": {},
   "source": [
    "#### Problem 2(d)\n",
    "\n",
    "Visualize the result by plotting the score results versus values for $k$. "
   ]
  },
  {
   "cell_type": "code",
   "execution_count": 58,
   "metadata": {
    "collapsed": false
   },
   "outputs": [],
   "source": [
    "### Your code here ###"
   ]
  },
  {
   "cell_type": "markdown",
   "metadata": {},
   "source": [
    "Verify that the grid search has indeed chosen the right parameter value for $k$."
   ]
  },
  {
   "cell_type": "code",
   "execution_count": 59,
   "metadata": {
    "collapsed": false
   },
   "outputs": [
    {
     "data": {
      "text/plain": [
       "{'n_neighbors': 4}"
      ]
     },
     "execution_count": 59,
     "metadata": {},
     "output_type": "execute_result"
    }
   ],
   "source": [
    "### Your code here ###\n",
    "clf.best_params_"
   ]
  },
  {
   "cell_type": "markdown",
   "metadata": {},
   "source": [
    "#### Problem 2(e)\n",
    "\n",
    "Test the performance of our tuned KNN classifier on the test set."
   ]
  },
  {
   "cell_type": "code",
   "execution_count": 60,
   "metadata": {
    "collapsed": false
   },
   "outputs": [],
   "source": [
    "### Your code here ###\n",
    "knn = KNeighborsClassifier?"
   ]
  },
  {
   "cell_type": "code",
   "execution_count": null,
   "metadata": {
    "collapsed": true
   },
   "outputs": [],
   "source": [
    "knn = KNeighborsClassifier"
   ]
  },
  {
   "cell_type": "code",
   "execution_count": 61,
   "metadata": {
    "collapsed": true
   },
   "outputs": [],
   "source": [
    "knn = KNeighborsClassifier"
   ]
  },
  {
   "cell_type": "code",
   "execution_count": 62,
   "metadata": {
    "collapsed": false
   },
   "outputs": [
    {
     "name": "stdout",
     "output_type": "stream",
     "text": [
      "[1 0 2 1 1 0 1 2 1 1 2 0 0 0 0 1 2 1 1 2 0 2 0 2 2 2 2 2 0 0 0 0 1 0 0 2 1\n",
      " 0 0 0 2 1 1 0 0 1 1 2 1 2]\n",
      "[1 0 2 1 1 0 1 2 1 1 2 0 0 0 0 1 2 1 1 2 0 2 0 2 2 2 2 2 0 0 0 0 1 0 0 2 1\n",
      " 0 0 0 2 1 1 0 0 1 2 2 1 2]\n",
      "0.98\n"
     ]
    }
   ],
   "source": [
    "# with just one fold\n",
    "tuned_knn = KNeighborsClassifier(n_neighbors=4)\n",
    "tuned_knn.fit(X_train, y_train)\n",
    "Y_pred = tuned_knn.predict(X_test)\n",
    "print Y_pred\n",
    "print y_test\n",
    "accuracy_res = sklearn.metrics.accuracy_score(y_test, Y_pred, normalize=True, sample_weight=None)\n",
    "print accuracy_res"
   ]
  },
  {
   "cell_type": "code",
   "execution_count": 64,
   "metadata": {
    "collapsed": false
   },
   "outputs": [
    {
     "name": "stdout",
     "output_type": "stream",
     "text": [
      "[1 0 2 1 1]\n",
      "[1 0 2 1 1]\n",
      "[0 1 2 1 1]\n",
      "[0 1 2 1 1]\n",
      "[2 0 0 0 0]\n",
      "[2 0 0 0 0]\n",
      "[1 2 1 1 2]\n",
      "[1 2 1 1 2]\n",
      "[0 2 0 2 2]\n",
      "[0 2 0 2 2]\n",
      "[2 2 2 0 0]\n",
      "[2 2 2 0 0]\n",
      "[0 0 1 0 0]\n",
      "[0 0 1 0 0]\n",
      "[2 1 0 0 0]\n",
      "[2 1 0 0 0]\n",
      "[2 1 1 0 0]\n",
      "[2 1 1 0 0]\n",
      "[1 1 2 1 2]\n",
      "[1 2 2 1 2]\n",
      "0.98\n",
      "0.06\n"
     ]
    }
   ],
   "source": [
    "# with 10 folds validation\n",
    "from sklearn.cross_validation import KFold\n",
    "scores = []\n",
    "kf = KFold(X_test.shape[0], n_folds=10)\n",
    "for train_index, test_index in kf:\n",
    "    test_data = X_test[test_index]\n",
    "    test_labels = y_test[test_index]\n",
    "    Y_pred = tuned_knn.predict(test_data)\n",
    "    print Y_pred\n",
    "    print test_labels\n",
    "    accuracy_res = sklearn.metrics.accuracy_score(test_labels, Y_pred, normalize=True, sample_weight=None)\n",
    "    scores.append(accuracy_res)\n",
    "print np.array(scores).mean()\n",
    "print np.array(scores).std()\n"
   ]
  },
  {
   "cell_type": "markdown",
   "metadata": {},
   "source": [
    "## Discussion for Problem 2\n",
    "\n",
    "*Write a brief discussion of your conclusions to the questions and tasks above in 100 words or less.*\n",
    "\n",
    "---"
   ]
  },
  {
   "cell_type": "markdown",
   "metadata": {},
   "source": [
    "# Problem 3: The Curse and Blessing of Higher Dimensions\n",
    "\n",
    "In this problem we will investigate the influence of higher dimensional spaces on the classification. The data set is again one of the standard data sets from sklearn. The [digits data set](http://scikit-learn.org/stable/modules/generated/sklearn.datasets.load_digits.html) is similar to the MNIST data set discussed in the lecture. The main difference is, that each digit is represented by an 8x8 pixel image patch, which is considerably smaller than the 28x28 pixels from MNIST. In addition, the gray values are restricted to 16 different values (4 bit), instead of 256 (8 bit) for MNIST. \n",
    "\n",
    "First we again load our data set."
   ]
  },
  {
   "cell_type": "code",
   "execution_count": 2,
   "metadata": {
    "collapsed": false
   },
   "outputs": [
    {
     "name": "stdout",
     "output_type": "stream",
     "text": [
      "(1797, 64) (1797,)\n"
     ]
    }
   ],
   "source": [
    "digits = sklearn.datasets.load_digits()\n",
    "\n",
    "X = digits.data  \n",
    "Y = digits.target\n",
    "\n",
    "print X.shape, Y.shape"
   ]
  },
  {
   "cell_type": "markdown",
   "metadata": {},
   "source": [
    "#### Problem 3(a) \n",
    "\n",
    "Start with the same steps as in Problem 2. Split the data into train and test set. Use 33% of the samples as test data. Print the dimensions of all the train and test data sets you created. "
   ]
  },
  {
   "cell_type": "code",
   "execution_count": 3,
   "metadata": {
    "collapsed": false
   },
   "outputs": [
    {
     "name": "stdout",
     "output_type": "stream",
     "text": [
      "(1203, 64)\n",
      "(594, 64)\n",
      "(1203,)\n",
      "(594,)\n"
     ]
    }
   ],
   "source": [
    "#our code here ###\n",
    "X_train, X_test, y_train, y_test = sklearn.cross_validation.train_test_split(X, Y, test_size=0.33, random_state=42)\n",
    "print np.shape(X_train)\n",
    "print np.shape(X_test)\n",
    "print np.shape(y_train)\n",
    "print np.shape(y_test)"
   ]
  },
  {
   "cell_type": "markdown",
   "metadata": {},
   "source": [
    "#### Problem 3(b) \n",
    "\n",
    "Similar to Problem 2(b), create a scatter plot of the projections to the first two PCs.  Use the colors on the scatter plot to represent the different classes in the target data. How well can we separate the classes?\n",
    "\n",
    "**Hint**: Use a `Colormap` in matplotlib to represent the diferent classes in the target data. "
   ]
  },
  {
   "cell_type": "code",
   "execution_count": 4,
   "metadata": {
    "collapsed": false
   },
   "outputs": [],
   "source": [
    "### Your code here ###\n",
    "svd = sklearn.decomposition.TruncatedSVD(n_components=2, random_state=42)\n",
    "X_fit = svd.fit(X_train) \n",
    "X_2d = svd.fit_transform(X_train) "
   ]
  },
  {
   "cell_type": "code",
   "execution_count": 5,
   "metadata": {
    "collapsed": false
   },
   "outputs": [
    {
     "data": {
      "image/png": "[encoded data removed]",
      "text/plain": [
       "<matplotlib.figure.Figure at 0x7f3ee02fe810>"
      ]
     },
     "metadata": {},
     "output_type": "display_data"
    }
   ],
   "source": [
    "plt.scatter(X_2d[:,0], X_2d[:,1],c=y_train,cmap=plt.cm.prism)\n",
    "plt.xlabel('PC1')\n",
    "plt.ylabel('PC2')\n",
    "plt.title('First two PCs using iris data')\n",
    "plt.show()"
   ]
  },
  {
   "cell_type": "markdown",
   "metadata": {},
   "source": [
    "Create individual scatter plots using only two classes at a time to explore which classes are most difficult to distinguish in terms of class separability.  You do not need to create scatter plots for all pairwise comparisons, but at least show one. "
   ]
  },
  {
   "cell_type": "code",
   "execution_count": 6,
   "metadata": {
    "collapsed": false
   },
   "outputs": [
    {
     "data": {
      "image/png": "[encoded data removed]",
      "text/plain": [
       "<matplotlib.figure.Figure at 0x7f3ede103f90>"
      ]
     },
     "metadata": {},
     "output_type": "display_data"
    }
   ],
   "source": [
    "### Your code here ###\n",
    "indic = np.logical_or(y_train == 1, y_train == 4)\n",
    "plt.scatter(X_2d[indic,0], X_2d[indic,1],c=y_train[indic],cmap=plt.cm.prism)\n",
    "plt.xlabel('PC1')\n",
    "plt.ylabel('PC2')\n",
    "plt.title('First two PCs using iris data')\n",
    "plt.show()"
   ]
  },
  {
   "cell_type": "markdown",
   "metadata": {},
   "source": [
    "Give a brief interpretation of the scatter plot. Which classes look like hard to distinguish? Do both feature dimensions contribute to the class separability? "
   ]
  },
  {
   "cell_type": "markdown",
   "metadata": {},
   "source": [
    "** Your answer here: **"
   ]
  },
  {
   "cell_type": "markdown",
   "metadata": {},
   "source": [
    "#### Problem 3(c) \n",
    "\n",
    "Write a **ten-fold cross validation** to estimate the optimal value for $k$ for the digits data set. *However*, this time we are interested in the influence of the number of dimensions we project the data down as well. \n",
    "\n",
    "Extend the cross validation as done for the iris data set, to optimize $k$ for different dimensional projections of the data. Create a boxplot showing test scores for the optimal $k$ for each $d$-dimensional subspace with $d$ ranging from one to ten. The plot should have the scores on the y-axis and the different dimensions $d$ on the x-axis. You can use your favorite plot function for the boxplots. [Seaborn](http://web.stanford.edu/~mwaskom/software/seaborn/index.html) is worth having a look at though. It is a great library for statistical visualization and of course also comes with a [`boxplot`](http://web.stanford.edu/~mwaskom/software/seaborn/generated/seaborn.boxplot.html) function that has simple means for changing the labels on the x-axis."
   ]
  },
  {
   "cell_type": "code",
   "execution_count": 9,
   "metadata": {
    "collapsed": false
   },
   "outputs": [
    {
     "ename": "TypeError",
     "evalue": "Expected sequence or array-like, got estimator KNeighborsClassifier(algorithm='auto', leaf_size=30, metric='minkowski',\n           metric_params=None, n_jobs=1, n_neighbors=4, p=2,\n           weights='uniform')",
     "output_type": "error",
     "traceback": [
      "\u001b[1;31m---------------------------------------------------------------------------\u001b[0m",
      "\u001b[1;31mTypeError\u001b[0m                                 Traceback (most recent call last)",
      "\u001b[1;32m<ipython-input-9-284314703516>\u001b[0m in \u001b[0;36m<module>\u001b[1;34m()\u001b[0m\n\u001b[0;32m     16\u001b[0m         \u001b[0mX_2d\u001b[0m \u001b[1;33m=\u001b[0m \u001b[0msvd\u001b[0m\u001b[1;33m.\u001b[0m\u001b[0mfit_transform\u001b[0m\u001b[1;33m(\u001b[0m\u001b[0mX_train\u001b[0m\u001b[1;33m)\u001b[0m\u001b[1;33m\u001b[0m\u001b[0m\n\u001b[0;32m     17\u001b[0m         \u001b[0mY_pred\u001b[0m \u001b[1;33m=\u001b[0m \u001b[0mtuned_knn\u001b[0m\u001b[1;33m.\u001b[0m\u001b[0mfit\u001b[0m\u001b[1;33m(\u001b[0m\u001b[0mX_2d\u001b[0m\u001b[1;33m,\u001b[0m \u001b[0my_train\u001b[0m\u001b[1;33m)\u001b[0m\u001b[1;33m\u001b[0m\u001b[0m\n\u001b[1;32m---> 18\u001b[1;33m         \u001b[0maccuracy_res\u001b[0m \u001b[1;33m=\u001b[0m \u001b[0msklearn\u001b[0m\u001b[1;33m.\u001b[0m\u001b[0mmetrics\u001b[0m\u001b[1;33m.\u001b[0m\u001b[0maccuracy_score\u001b[0m\u001b[1;33m(\u001b[0m\u001b[0mtest_labels\u001b[0m\u001b[1;33m,\u001b[0m \u001b[0mY_pred\u001b[0m\u001b[1;33m,\u001b[0m \u001b[0mnormalize\u001b[0m\u001b[1;33m=\u001b[0m\u001b[0mTrue\u001b[0m\u001b[1;33m,\u001b[0m \u001b[0msample_weight\u001b[0m\u001b[1;33m=\u001b[0m\u001b[0mNone\u001b[0m\u001b[1;33m)\u001b[0m\u001b[1;33m\u001b[0m\u001b[0m\n\u001b[0m\u001b[0;32m     19\u001b[0m         \u001b[0mscores\u001b[0m\u001b[1;33m.\u001b[0m\u001b[0mappend\u001b[0m\u001b[1;33m(\u001b[0m\u001b[0maccuracy_res\u001b[0m\u001b[1;33m)\u001b[0m\u001b[1;33m\u001b[0m\u001b[0m\n\u001b[0;32m     20\u001b[0m     \u001b[0mdim_scores_means\u001b[0m\u001b[1;33m.\u001b[0m\u001b[0mappend\u001b[0m\u001b[1;33m(\u001b[0m\u001b[0mnp\u001b[0m\u001b[1;33m.\u001b[0m\u001b[0marray\u001b[0m\u001b[1;33m(\u001b[0m\u001b[0mscores\u001b[0m\u001b[1;33m)\u001b[0m\u001b[1;33m.\u001b[0m\u001b[0mmean\u001b[0m\u001b[1;33m(\u001b[0m\u001b[1;33m)\u001b[0m\u001b[1;33m)\u001b[0m\u001b[1;33m\u001b[0m\u001b[0m\n",
      "\u001b[1;32m/home/bat/anaconda2/lib/python2.7/site-packages/sklearn/metrics/classification.pyc\u001b[0m in \u001b[0;36maccuracy_score\u001b[1;34m(y_true, y_pred, normalize, sample_weight)\u001b[0m\n\u001b[0;32m    170\u001b[0m \u001b[1;33m\u001b[0m\u001b[0m\n\u001b[0;32m    171\u001b[0m     \u001b[1;31m# Compute accuracy for each possible representation\u001b[0m\u001b[1;33m\u001b[0m\u001b[1;33m\u001b[0m\u001b[0m\n\u001b[1;32m--> 172\u001b[1;33m     \u001b[0my_type\u001b[0m\u001b[1;33m,\u001b[0m \u001b[0my_true\u001b[0m\u001b[1;33m,\u001b[0m \u001b[0my_pred\u001b[0m \u001b[1;33m=\u001b[0m \u001b[0m_check_targets\u001b[0m\u001b[1;33m(\u001b[0m\u001b[0my_true\u001b[0m\u001b[1;33m,\u001b[0m \u001b[0my_pred\u001b[0m\u001b[1;33m)\u001b[0m\u001b[1;33m\u001b[0m\u001b[0m\n\u001b[0m\u001b[0;32m    173\u001b[0m     \u001b[1;32mif\u001b[0m \u001b[0my_type\u001b[0m\u001b[1;33m.\u001b[0m\u001b[0mstartswith\u001b[0m\u001b[1;33m(\u001b[0m\u001b[1;34m'multilabel'\u001b[0m\u001b[1;33m)\u001b[0m\u001b[1;33m:\u001b[0m\u001b[1;33m\u001b[0m\u001b[0m\n\u001b[0;32m    174\u001b[0m         \u001b[0mdiffering_labels\u001b[0m \u001b[1;33m=\u001b[0m \u001b[0mcount_nonzero\u001b[0m\u001b[1;33m(\u001b[0m\u001b[0my_true\u001b[0m \u001b[1;33m-\u001b[0m \u001b[0my_pred\u001b[0m\u001b[1;33m,\u001b[0m \u001b[0maxis\u001b[0m\u001b[1;33m=\u001b[0m\u001b[1;36m1\u001b[0m\u001b[1;33m)\u001b[0m\u001b[1;33m\u001b[0m\u001b[0m\n",
      "\u001b[1;32m/home/bat/anaconda2/lib/python2.7/site-packages/sklearn/metrics/classification.pyc\u001b[0m in \u001b[0;36m_check_targets\u001b[1;34m(y_true, y_pred)\u001b[0m\n\u001b[0;32m     70\u001b[0m     \u001b[0my_pred\u001b[0m \u001b[1;33m:\u001b[0m \u001b[0marray\u001b[0m \u001b[1;32mor\u001b[0m \u001b[0mindicator\u001b[0m \u001b[0mmatrix\u001b[0m\u001b[1;33m\u001b[0m\u001b[0m\n\u001b[0;32m     71\u001b[0m     \"\"\"\n\u001b[1;32m---> 72\u001b[1;33m     \u001b[0mcheck_consistent_length\u001b[0m\u001b[1;33m(\u001b[0m\u001b[0my_true\u001b[0m\u001b[1;33m,\u001b[0m \u001b[0my_pred\u001b[0m\u001b[1;33m)\u001b[0m\u001b[1;33m\u001b[0m\u001b[0m\n\u001b[0m\u001b[0;32m     73\u001b[0m     \u001b[0mtype_true\u001b[0m \u001b[1;33m=\u001b[0m \u001b[0mtype_of_target\u001b[0m\u001b[1;33m(\u001b[0m\u001b[0my_true\u001b[0m\u001b[1;33m)\u001b[0m\u001b[1;33m\u001b[0m\u001b[0m\n\u001b[0;32m     74\u001b[0m     \u001b[0mtype_pred\u001b[0m \u001b[1;33m=\u001b[0m \u001b[0mtype_of_target\u001b[0m\u001b[1;33m(\u001b[0m\u001b[0my_pred\u001b[0m\u001b[1;33m)\u001b[0m\u001b[1;33m\u001b[0m\u001b[0m\n",
      "\u001b[1;32m/home/bat/anaconda2/lib/python2.7/site-packages/sklearn/utils/validation.pyc\u001b[0m in \u001b[0;36mcheck_consistent_length\u001b[1;34m(*arrays)\u001b[0m\n\u001b[0;32m    171\u001b[0m     \"\"\"\n\u001b[0;32m    172\u001b[0m \u001b[1;33m\u001b[0m\u001b[0m\n\u001b[1;32m--> 173\u001b[1;33m     \u001b[0muniques\u001b[0m \u001b[1;33m=\u001b[0m \u001b[0mnp\u001b[0m\u001b[1;33m.\u001b[0m\u001b[0munique\u001b[0m\u001b[1;33m(\u001b[0m\u001b[1;33m[\u001b[0m\u001b[0m_num_samples\u001b[0m\u001b[1;33m(\u001b[0m\u001b[0mX\u001b[0m\u001b[1;33m)\u001b[0m \u001b[1;32mfor\u001b[0m \u001b[0mX\u001b[0m \u001b[1;32min\u001b[0m \u001b[0marrays\u001b[0m \u001b[1;32mif\u001b[0m \u001b[0mX\u001b[0m \u001b[1;32mis\u001b[0m \u001b[1;32mnot\u001b[0m \u001b[0mNone\u001b[0m\u001b[1;33m]\u001b[0m\u001b[1;33m)\u001b[0m\u001b[1;33m\u001b[0m\u001b[0m\n\u001b[0m\u001b[0;32m    174\u001b[0m     \u001b[1;32mif\u001b[0m \u001b[0mlen\u001b[0m\u001b[1;33m(\u001b[0m\u001b[0muniques\u001b[0m\u001b[1;33m)\u001b[0m \u001b[1;33m>\u001b[0m \u001b[1;36m1\u001b[0m\u001b[1;33m:\u001b[0m\u001b[1;33m\u001b[0m\u001b[0m\n\u001b[0;32m    175\u001b[0m         raise ValueError(\"Found arrays with inconsistent numbers of samples: \"\n",
      "\u001b[1;32m/home/bat/anaconda2/lib/python2.7/site-packages/sklearn/utils/validation.pyc\u001b[0m in \u001b[0;36m_num_samples\u001b[1;34m(x)\u001b[0m\n\u001b[0;32m    110\u001b[0m         \u001b[1;31m# Don't get num_samples from an ensembles length!\u001b[0m\u001b[1;33m\u001b[0m\u001b[1;33m\u001b[0m\u001b[0m\n\u001b[0;32m    111\u001b[0m         raise TypeError('Expected sequence or array-like, got '\n\u001b[1;32m--> 112\u001b[1;33m                         'estimator %s' % x)\n\u001b[0m\u001b[0;32m    113\u001b[0m     \u001b[1;32mif\u001b[0m \u001b[1;32mnot\u001b[0m \u001b[0mhasattr\u001b[0m\u001b[1;33m(\u001b[0m\u001b[0mx\u001b[0m\u001b[1;33m,\u001b[0m \u001b[1;34m'__len__'\u001b[0m\u001b[1;33m)\u001b[0m \u001b[1;32mand\u001b[0m \u001b[1;32mnot\u001b[0m \u001b[0mhasattr\u001b[0m\u001b[1;33m(\u001b[0m\u001b[0mx\u001b[0m\u001b[1;33m,\u001b[0m \u001b[1;34m'shape'\u001b[0m\u001b[1;33m)\u001b[0m\u001b[1;33m:\u001b[0m\u001b[1;33m\u001b[0m\u001b[0m\n\u001b[0;32m    114\u001b[0m         \u001b[1;32mif\u001b[0m \u001b[0mhasattr\u001b[0m\u001b[1;33m(\u001b[0m\u001b[0mx\u001b[0m\u001b[1;33m,\u001b[0m \u001b[1;34m'__array__'\u001b[0m\u001b[1;33m)\u001b[0m\u001b[1;33m:\u001b[0m\u001b[1;33m\u001b[0m\u001b[0m\n",
      "\u001b[1;31mTypeError\u001b[0m: Expected sequence or array-like, got estimator KNeighborsClassifier(algorithm='auto', leaf_size=30, metric='minkowski',\n           metric_params=None, n_jobs=1, n_neighbors=4, p=2,\n           weights='uniform')"
     ]
    }
   ],
   "source": [
    "### Your cross validation and evaluation code here ###\n",
    "from sklearn.cross_validation import KFold\n",
    "from sklearn.neighbors import KNeighborsClassifier\n",
    "dim_scores_means = []\n",
    "dim_scores_std =[]\n",
    "dims = range(1,10)\n",
    "tuned_knn = KNeighborsClassifier(n_neighbors=4)\n",
    "for dim in  dims:\n",
    "    kf = KFold(X_test.shape[0], n_folds=10)\n",
    "    scores = []\n",
    "    for train_index, test_index in kf:\n",
    "        test_data = X_test[test_index]\n",
    "        test_labels = y_test[test_index]\n",
    "        svd = sklearn.decomposition.TruncatedSVD(n_components=dim, random_state=42)\n",
    "        X_fit = svd.fit(X_train) \n",
    "        X_2d = svd.fit_transform(X_train) \n",
    "        Y_pred = tuned_knn.fit(X_2d, y_train)\n",
    "        accuracy_res = sklearn.metrics.accuracy_score(test_labels, Y_pred, normalize=True, sample_weight=None)\n",
    "        scores.append(accuracy_res)\n",
    "    dim_scores_means.append(np.array(scores).mean())\n",
    "    dim_scores_std.append(np.array(scores).std())\n",
    "print np.array(scores).mean()\n",
    "print np.array(scores).std()\n"
   ]
  },
  {
   "cell_type": "code",
   "execution_count": 30,
   "metadata": {
    "collapsed": false
   },
   "outputs": [],
   "source": [
    "### Your boxplot code here ### \n"
   ]
  },
  {
   "cell_type": "markdown",
   "metadata": {},
   "source": [
    "Write a short interpretation of the generated plot, answering the following questions:\n",
    "\n",
    "* What trend do you see in the plot for increasing dimensions?\n",
    "\n",
    "* Why do you think this is happening?"
   ]
  },
  {
   "cell_type": "markdown",
   "metadata": {},
   "source": [
    "** Your answer here: **"
   ]
  },
  {
   "cell_type": "markdown",
   "metadata": {},
   "source": [
    "#### Problem 3(d) \n",
    "\n",
    "**For AC209 Students**: Change the boxplot we generated above to also show the optimal value for $k$ chosen by the cross validation grid search. "
   ]
  },
  {
   "cell_type": "code",
   "execution_count": 31,
   "metadata": {
    "collapsed": false
   },
   "outputs": [],
   "source": [
    "### Your code here ### "
   ]
  },
  {
   "cell_type": "markdown",
   "metadata": {},
   "source": [
    "Write a short interpretation answering the following questions:\n",
    "\n",
    "* Which trend do you observe for the optimal value of $k$?\n",
    "\n",
    "* Why do you think this is happening?"
   ]
  },
  {
   "cell_type": "markdown",
   "metadata": {},
   "source": [
    "** Your answer here: **"
   ]
  },
  {
   "cell_type": "markdown",
   "metadata": {},
   "source": [
    "## Discussion for Problem 3\n",
    "\n",
    "*Write a brief discussion of your conclusions to the questions and tasks above in 100 words or less.*\n",
    "\n",
    "---"
   ]
  },
  {
   "cell_type": "markdown",
   "metadata": {},
   "source": [
    "# Submission Instructions\n",
    "\n",
    "To submit your homework, create a folder named **lastname_firstinitial_hw#** and place your IPython notebooks, data files, and any other files in this folder. Your IPython Notebooks should be completely executed with the results visible in the notebook. We should not have to run any code.  Compress the folder (please use .zip compression) and submit to the CS109 dropbox in the appropriate folder. *If we cannot access your work because these directions are not followed correctly, we will not grade your work.*\n"
   ]
  },
  {
   "cell_type": "code",
   "execution_count": 31,
   "metadata": {
    "collapsed": false
   },
   "outputs": [],
   "source": []
  }
 ],
 "metadata": {
  "kernelspec": {
   "display_name": "Python 2",
   "language": "python",
   "name": "python2"
  },
  "language_info": {
   "codemirror_mode": {
    "name": "ipython",
    "version": 2
   },
   "file_extension": ".py",
   "mimetype": "text/x-python",
   "name": "python",
   "nbconvert_exporter": "python",
   "pygments_lexer": "ipython2",
   "version": "2.7.11"
  }
 },
 "nbformat": 4,
 "nbformat_minor": 0
}
