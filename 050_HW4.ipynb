{
 "cells": [
  {
   "cell_type": "markdown",
   "metadata": {},
   "source": [
    "# Homework 4: Can you predict the Midterm Elections?\n",
    "\n",
    "Due: Monday, November 3, 2014 11:59 PM\n",
    "\n",
    "<a href=https://raw.githubusercontent.com/cs109/2014/master/homework/HW4.ipynb download=HW4.ipynb> Download this assignment</a>\n",
    "\n",
    "#### Submission Instructions\n",
    "To submit your homework, create a folder named lastname_firstinitial_hw# and place your IPython notebooks, data files, and any other files in this folder. Your IPython Notebooks should be completely executed with the results visible in the notebook. We should not have to run any code. Compress the folder (please use .zip compression) and submit to the CS109 dropbox in the appropriate folder. If we cannot access your work because these directions are not followed correctly, we will not grade your work. For the competition (problem 4), we will post a link on Piazza to a Google Form for you to submit your predictions. \n",
    "\n",
    "\n",
    "---\n"
   ]
  },
  {
   "cell_type": "code",
   "execution_count": 24,
   "metadata": {
    "collapsed": true
   },
   "outputs": [],
   "source": [
    "%matplotlib inline\n",
    "import numpy as np\n",
    "import scipy as sp\n",
    "import matplotlib as mpl\n",
    "import matplotlib.cm as cm\n",
    "import matplotlib.pyplot as plt\n",
    "import pandas as pd\n",
    "pd.set_option('display.width', 500)\n",
    "pd.set_option('display.max_columns', 100)\n",
    "pd.set_option('display.notebook_repr_html', True)\n",
    "import seaborn as sns\n",
    "sns.set_style(\"whitegrid\")\n",
    "sns.set_context(\"poster\")\n",
    "from PIL import Image"
   ]
  },
  {
   "cell_type": "code",
   "execution_count": 25,
   "metadata": {
    "collapsed": true
   },
   "outputs": [],
   "source": [
    "\n",
    "\n",
    "# special IPython command to prepare the notebook for matplotlib\n",
    "%matplotlib inline \n",
    "\n",
    "import requests \n",
    "from StringIO import StringIO\n",
    "import numpy as np\n",
    "import pandas as pd # pandas\n",
    "import matplotlib.pyplot as plt # module for plotting \n",
    "import datetime as dt # module for manipulating dates and times\n",
    "import numpy.linalg as lin # module for performing linear algebra operations\n",
    "import collections\n",
    "\n"
   ]
  },
  {
   "cell_type": "markdown",
   "metadata": {},
   "source": [
    "## Introduction\n",
    "\n",
    "**Add Introduction**\n",
    "\n",
    "You will use the [HuffPost Pollster API](http://elections.huffingtonpost.com/pollster/api) to extract the polls for the current 2014 Senate Midterm Elections and provide a final prediction of the result of each state.\n",
    "\n",
    "#### Data\n",
    "\n",
    "We will use the polls from the [2014 Senate Midterm Elections](http://elections.huffingtonpost.com/pollster) from the [HuffPost Pollster API](http://elections.huffingtonpost.com/pollster/api). \n",
    "\n",
    "---"
   ]
  },
  {
   "cell_type": "markdown",
   "metadata": {},
   "source": [
    "## Problem 1: Data Wrangling\n",
    "\n",
    "We will read in the polls from the [2014 Senate Midterm Elections](http://elections.huffingtonpost.com/pollster) from the [HuffPost Pollster API](http://elections.huffingtonpost.com/pollster/api) and create a dictionary of DataFrames as well a master table information for each race."
   ]
  },
  {
   "cell_type": "markdown",
   "metadata": {},
   "source": [
    "#### Problem 1(a)\n",
    "\n",
    "Read in [this JSON object](http://elections.huffingtonpost.com/pollster/api/charts/?topic=2014-senate) containing the polls for the 2014 Senate Elections using the HuffPost API. Call this JSON object `info`.  This JSON object is imported as a list in Python where each element contains the information for one race.  Use the function `type` to confirm the that `info` is a list. "
   ]
  },
  {
   "cell_type": "code",
   "execution_count": 26,
   "metadata": {
    "collapsed": false
   },
   "outputs": [
    {
     "data": {
      "text/plain": [
       "list"
      ]
     },
     "execution_count": 26,
     "metadata": {},
     "output_type": "execute_result"
    }
   ],
   "source": [
    "### Your code here ###\n",
    "url_str = \"http://elections.huffingtonpost.com/pollster/api/charts/?topic=2014-senate\"\n",
    "info = requests.get(url_str).json()\n",
    "type(info)"
   ]
  },
  {
   "cell_type": "code",
   "execution_count": 27,
   "metadata": {
    "collapsed": false
   },
   "outputs": [
    {
     "data": {
      "text/plain": [
       "{u'election_date': u'2014-11-04',\n",
       " u'estimates': [{u'choice': u'Coons',\n",
       "   u'first_name': u'Chris',\n",
       "   u'incumbent': True,\n",
       "   u'last_name': u'Coons',\n",
       "   u'lead_confidence': 99.9,\n",
       "   u'party': u'Dem',\n",
       "   u'value': 56.0},\n",
       "  {u'choice': u'Wade',\n",
       "   u'first_name': u'Kevin',\n",
       "   u'incumbent': False,\n",
       "   u'last_name': u'Wade',\n",
       "   u'lead_confidence': 0.0,\n",
       "   u'party': u'Rep',\n",
       "   u'value': 34.0}],\n",
       " u'id': 571,\n",
       " u'last_updated': u'2016-06-06T14:37:54.000Z',\n",
       " u'poll_count': 5,\n",
       " u'short_title': u'2014 Delaware Senate: Wade vs. Coons',\n",
       " u'slug': u'2014-delaware-senate-wade-vs-coons',\n",
       " u'state': u'DE',\n",
       " u'title': u'2014 Delaware Senate: Wade vs. Coons',\n",
       " u'topic': u'2014-senate',\n",
       " u'url': u'http://elections.huffingtonpost.com/pollster/2014-delaware-senate-wade-vs-coons'}"
      ]
     },
     "execution_count": 27,
     "metadata": {},
     "output_type": "execute_result"
    }
   ],
   "source": [
    "info[0]"
   ]
  },
  {
   "cell_type": "markdown",
   "metadata": {},
   "source": [
    "#### Problem 1(b)\n",
    "\n",
    "For each element of the list in `info` extract the state. We should have one poll per state, but we do not. Why?\n",
    "\n",
    "**Hint**: Use the internet to find out information on the races in each state that has more than one entry. Eliminate entries of the list that represent races that are not happening."
   ]
  },
  {
   "cell_type": "code",
   "execution_count": 28,
   "metadata": {
    "collapsed": false
   },
   "outputs": [
    {
     "data": {
      "text/plain": [
       "[u'DE',\n",
       " u'MA',\n",
       " u'RI',\n",
       " u'MT',\n",
       " u'OK',\n",
       " u'HI',\n",
       " u'KS',\n",
       " u'WY',\n",
       " u'TN',\n",
       " u'ID',\n",
       " u'NJ',\n",
       " u'NM',\n",
       " u'OK',\n",
       " u'SC',\n",
       " u'SC',\n",
       " u'TX',\n",
       " u'MN',\n",
       " u'ME',\n",
       " u'SD',\n",
       " u'NE',\n",
       " u'GA',\n",
       " u'OR',\n",
       " u'MS',\n",
       " u'IA',\n",
       " u'AK',\n",
       " u'IL',\n",
       " u'CO',\n",
       " u'VA',\n",
       " u'NC',\n",
       " u'NH',\n",
       " u'WV',\n",
       " u'NH',\n",
       " u'LA',\n",
       " u'MI',\n",
       " u'AR',\n",
       " u'KY']"
      ]
     },
     "execution_count": 28,
     "metadata": {},
     "output_type": "execute_result"
    }
   ],
   "source": [
    "### Your code here ###\n",
    "states = [poll['state'] for poll in info]\n",
    "states"
   ]
  },
  {
   "cell_type": "code",
   "execution_count": 29,
   "metadata": {
    "collapsed": false
   },
   "outputs": [
    {
     "data": {
      "text/plain": [
       "[(u'NH', 2),\n",
       " (u'OK', 2),\n",
       " (u'SC', 2),\n",
       " (u'DE', 1),\n",
       " (u'WV', 1),\n",
       " (u'HI', 1),\n",
       " (u'WY', 1),\n",
       " (u'NJ', 1),\n",
       " (u'NM', 1),\n",
       " (u'TX', 1),\n",
       " (u'LA', 1),\n",
       " (u'NC', 1),\n",
       " (u'NE', 1),\n",
       " (u'TN', 1),\n",
       " (u'RI', 1),\n",
       " (u'VA', 1),\n",
       " (u'CO', 1),\n",
       " (u'AK', 1),\n",
       " (u'AR', 1),\n",
       " (u'IL', 1),\n",
       " (u'GA', 1),\n",
       " (u'IA', 1),\n",
       " (u'MA', 1),\n",
       " (u'ID', 1),\n",
       " (u'ME', 1),\n",
       " (u'MN', 1),\n",
       " (u'MI', 1),\n",
       " (u'KS', 1),\n",
       " (u'MT', 1),\n",
       " (u'MS', 1),\n",
       " (u'KY', 1),\n",
       " (u'OR', 1),\n",
       " (u'SD', 1)]"
      ]
     },
     "execution_count": 29,
     "metadata": {},
     "output_type": "execute_result"
    }
   ],
   "source": [
    "collections.Counter(states).most_common()"
   ]
  },
  {
   "cell_type": "code",
   "execution_count": 30,
   "metadata": {
    "collapsed": false
   },
   "outputs": [
    {
     "name": "stdout",
     "output_type": "stream",
     "text": [
      "Counter({'NH': 2, 'OK': 2, 'SC': 2, 'DE': 1, 'WV': 1, 'HI': 1, 'WY': 1, 'NJ': 1, 'NM': 1, 'TX': 1, 'LA': 1, 'NC': 1, 'NE': 1, 'TN': 1, 'RI': 1, 'VA': 1, 'CO': 1, 'AK': 1, 'AR': 1, 'IL': 1, 'GA': 1, 'IA': 1, 'MA': 1, 'ID': 1, 'ME': 1, 'MN': 1, 'MI': 1, 'KS': 1, 'MT': 1, 'MS': 1, 'KY': 1, 'OR': 1, 'SD': 1})\n"
     ]
    }
   ],
   "source": [
    "\n",
    "\n",
    "states = [str(election['state']) for election in info]\n",
    "titles = [str(election['title']) for election in info]\n",
    "\n",
    "countStates = collections.Counter(states)\n",
    "print countStates\n",
    "\n"
   ]
  },
  {
   "cell_type": "code",
   "execution_count": 31,
   "metadata": {
    "collapsed": false
   },
   "outputs": [
    {
     "name": "stdout",
     "output_type": "stream",
     "text": [
      "2014 Oklahoma Senate: Lankford vs. Johnson   indx: 4\n",
      "2014 Oklahoma Senate: Inhofe vs. Silverstein   indx: 12\n",
      "2014 South Carolina Senate: Scott vs. Dickerson   indx: 13\n",
      "2014 South Carolina Senate: Graham vs. Hutto   indx: 14\n",
      "2014 New Hampshire Senate: Bass vs. Shaheen   indx: 29\n",
      "2014 New Hampshire Senate: Brown vs. Shaheen   indx: 31\n"
     ]
    }
   ],
   "source": [
    "### Your code here ###\n",
    "info[0]\n",
    "states_q = collections.Counter(states).most_common(3)\n",
    "states_a = [elem[0] for elem in states_q]\n",
    "for i, election in enumerate(info):\n",
    "    for state in states_a:\n",
    "        if state == election['state']:\n",
    "            print election['title'] + '   indx: ' + str(i)"
   ]
  },
  {
   "cell_type": "code",
   "execution_count": 32,
   "metadata": {
    "collapsed": false
   },
   "outputs": [
    {
     "name": "stdout",
     "output_type": "stream",
     "text": [
      "[{u'last_updated': u'2016-06-06T14:37:54.000Z', u'title': u'2014 Delaware Senate: Wade vs. Coons', u'url': u'http://elections.huffingtonpost.com/pollster/2014-delaware-senate-wade-vs-coons', u'election_date': u'2014-11-04', u'estimates': [{u'first_name': u'Chris', u'last_name': u'Coons', u'value': 56.0, u'choice': u'Coons', u'incumbent': True, u'party': u'Dem', u'lead_confidence': 99.9}, {u'first_name': u'Kevin', u'last_name': u'Wade', u'value': 34.0, u'choice': u'Wade', u'incumbent': False, u'party': u'Rep', u'lead_confidence': 0.0}], u'poll_count': 5, u'short_title': u'2014 Delaware Senate: Wade vs. Coons', u'id': 571, u'topic': u'2014-senate', u'state': u'DE', u'slug': u'2014-delaware-senate-wade-vs-coons'}, {u'last_updated': u'2016-06-06T14:37:55.000Z', u'title': u'2014 Massachusetts Senate: Herr vs. Markey', u'url': u'http://elections.huffingtonpost.com/pollster/2014-massachusetts-senate-herr-vs-markey', u'election_date': u'2014-11-04', u'estimates': [{u'first_name': u'Ed', u'last_name': u'Markey', u'value': 54.1, u'choice': u'Markey', u'incumbent': True, u'party': u'Dem', u'lead_confidence': 99.9}, {u'first_name': u'Brian', u'last_name': u'Herr', u'value': 33.4, u'choice': u'Herr', u'incumbent': False, u'party': u'Rep', u'lead_confidence': 0.0}, {u'first_name': None, u'last_name': None, u'value': 0.18, u'choice': u'Other', u'incumbent': False, u'party': u'N/A', u'lead_confidence': None}], u'poll_count': 13, u'short_title': u'2014 Massachusetts Senate: Herr vs. Markey', u'id': 570, u'topic': u'2014-senate', u'state': u'MA', u'slug': u'2014-massachusetts-senate-herr-vs-markey'}]\n",
      "36\n",
      "35\n"
     ]
    }
   ],
   "source": [
    "infoClean = []\n",
    "for i, v in enumerate(info):\n",
    "    if not(i == 29):\n",
    "        infoClean.append(v)\n",
    "print infoClean[0:2]\n",
    "print len(info)\n",
    "print len(infoClean)"
   ]
  },
  {
   "cell_type": "markdown",
   "metadata": {},
   "source": [
    "** Your answer here: **"
   ]
  },
  {
   "cell_type": "markdown",
   "metadata": {},
   "source": [
    "#### Problem 1(c)\n",
    "\n",
    "Create a dictionary of pandas DataFrames called `polls` keyed by the name of the election (a string). Each value in the dictionary should contain the polls for one of the races."
   ]
  },
  {
   "cell_type": "code",
   "execution_count": 33,
   "metadata": {
    "collapsed": true
   },
   "outputs": [],
   "source": [
    "def build_frame(url):\n",
    "    \"\"\"\n",
    "    Returns a pandas DataFrame object containing\n",
    "    the data returned from the given url\n",
    "    \"\"\"\n",
    "    source = requests.get(url).text\n",
    "    \n",
    "    # Use StringIO because pd.DataFrame.from_csv requires .read() method\n",
    "    s = StringIO(source)\n",
    "    \n",
    "    return pd.DataFrame.from_csv(s, index_col=None).convert_objects(\n",
    "            convert_dates=\"coerce\", convert_numeric=True)"
   ]
  },
  {
   "cell_type": "code",
   "execution_count": 34,
   "metadata": {
    "collapsed": false
   },
   "outputs": [
    {
     "name": "stderr",
     "output_type": "stream",
     "text": [
      "/home/bat/anaconda2/lib/python2.7/site-packages/ipykernel/__main__.py:12: FutureWarning: convert_objects is deprecated.  Use the data-type specific converters pd.to_datetime, pd.to_timedelta and pd.to_numeric.\n"
     ]
    },
    {
     "data": {
      "text/plain": [
       "[u'2014-kentucky-senate-mcconnell-vs-grimes',\n",
       " u'2014-montana-senate-daines-vs-curtis',\n",
       " u'2014-north-carolina-senate-tillis-vs-hagan',\n",
       " u'2014-tennessee-senate-alexander-vs-ball',\n",
       " u'2014-michigan-senate-land-vs-peters',\n",
       " u'2014-alaska-senate-sullivan-vs-begich',\n",
       " u'2014-oregon-senate-wehby-vs-merkley',\n",
       " u'2014-new-hampshire-senate-brown-vs-shaheen',\n",
       " u'2014-mississippi-senate-cochran-vs-childers',\n",
       " u'2014-massachusetts-senate-herr-vs-markey',\n",
       " u'2014-rhode-island-senate-zaccaria-vs-reed',\n",
       " u'2014-louisiana-senate-cassidy-vs-landrieu',\n",
       " u'2014-nebraska-senate-sasse-vs-domina',\n",
       " u'2014-iowa-senate-ernst-vs-braley',\n",
       " u'2014-oklahoma-senate-inhofe-vs-silverstein',\n",
       " u'2014-oklahoma-senate-lankford-vs-johnson',\n",
       " u'2014-illinois-senate-oberweis-vs-durbin',\n",
       " u'2014-idaho-senate-risch-vs-mitchell',\n",
       " u'2014-south-carolina-senate-graham-vs-hutto',\n",
       " u'2014-maine-senate-collins-vs-bellows',\n",
       " u'2014-west-virginia-senate-capito-vs-tennant',\n",
       " u'2014-hawaii-senate-cavasso-vs-schatz',\n",
       " u'2014-delaware-senate-wade-vs-coons',\n",
       " u'2014-virginia-senate-gillespie-vs-warner',\n",
       " u'2014-minnesota-senate-mcfadden-vs-franken',\n",
       " u'2014-new-mexico-senate-weh-vs-udall',\n",
       " u'2014-georgia-senate-perdue-vs-nunn',\n",
       " u'2014-kansas-senate-roberts-vs-orman-vs-taylor',\n",
       " u'2014-south-dakota-senate-rounds-vs-weiland',\n",
       " u'2014-new-jersey-senate-bell-vs-booker',\n",
       " u'2014-wyoming-senate',\n",
       " u'2014-texas-senate-cornyn-vs-alameel',\n",
       " u'2014-arkansas-senate-cotton-vs-pryor',\n",
       " u'2014-south-carolina-senate-scott-vs-dickerson',\n",
       " u'2014-colorado-senate-gardner-vs-udall']"
      ]
     },
     "execution_count": 34,
     "metadata": {},
     "output_type": "execute_result"
    }
   ],
   "source": [
    "polls = dict((election['slug'],build_frame(election['url'] + '.csv')) for election in infoClean)\n",
    "polls.keys()"
   ]
  },
  {
   "cell_type": "code",
   "execution_count": 35,
   "metadata": {
    "collapsed": false
   },
   "outputs": [
    {
     "data": {
      "text/html": [
       "<div>\n",
       "<table border=\"1\" class=\"dataframe\">\n",
       "  <thead>\n",
       "    <tr style=\"text-align: right;\">\n",
       "      <th></th>\n",
       "      <th>Pollster</th>\n",
       "      <th>Start Date</th>\n",
       "      <th>End Date</th>\n",
       "      <th>Entry Date/Time (ET)</th>\n",
       "      <th>Number of Observations</th>\n",
       "      <th>Population</th>\n",
       "      <th>Mode</th>\n",
       "      <th>Grimes</th>\n",
       "      <th>McConnell</th>\n",
       "      <th>Undecided</th>\n",
       "      <th>Pollster URL</th>\n",
       "      <th>Source URL</th>\n",
       "      <th>Partisan</th>\n",
       "      <th>Affiliation</th>\n",
       "      <th>Question Text</th>\n",
       "      <th>Question Iteration</th>\n",
       "    </tr>\n",
       "  </thead>\n",
       "  <tbody>\n",
       "    <tr>\n",
       "      <th>0</th>\n",
       "      <td>PPP (D)</td>\n",
       "      <td>2014-10-30</td>\n",
       "      <td>2014-11-01</td>\n",
       "      <td>2014-11-02 01:44:58</td>\n",
       "      <td>1503</td>\n",
       "      <td>Likely Voters</td>\n",
       "      <td>IVR/Online</td>\n",
       "      <td>42.0</td>\n",
       "      <td>50.0</td>\n",
       "      <td>NaN</td>\n",
       "      <td>http://elections.huffingtonpost.com/pollster/p...</td>\n",
       "      <td>http://www.publicpolicypolling.com/pdf/2014/PP...</td>\n",
       "      <td>Pollster</td>\n",
       "      <td>Dem</td>\n",
       "      <td>NaN</td>\n",
       "      <td>1</td>\n",
       "    </tr>\n",
       "    <tr>\n",
       "      <th>1</th>\n",
       "      <td>NBC/Marist</td>\n",
       "      <td>2014-10-27</td>\n",
       "      <td>2014-10-30</td>\n",
       "      <td>2014-11-02 14:37:22</td>\n",
       "      <td>556</td>\n",
       "      <td>Likely Voters</td>\n",
       "      <td>Live Phone</td>\n",
       "      <td>41.0</td>\n",
       "      <td>50.0</td>\n",
       "      <td>3.0</td>\n",
       "      <td>http://elections.huffingtonpost.com/pollster/p...</td>\n",
       "      <td>http://newscms.nbcnews.com/sites/newscms/files...</td>\n",
       "      <td>Nonpartisan</td>\n",
       "      <td>None</td>\n",
       "      <td>NaN</td>\n",
       "      <td>1</td>\n",
       "    </tr>\n",
       "    <tr>\n",
       "      <th>2</th>\n",
       "      <td>SurveyUSA/Courier-Journal/Herald-Leader/WHAS/WKYT</td>\n",
       "      <td>2014-10-25</td>\n",
       "      <td>2014-10-29</td>\n",
       "      <td>2014-10-30 23:33:59</td>\n",
       "      <td>597</td>\n",
       "      <td>Likely Voters</td>\n",
       "      <td>IVR/Online</td>\n",
       "      <td>43.0</td>\n",
       "      <td>48.0</td>\n",
       "      <td>6.0</td>\n",
       "      <td>http://elections.huffingtonpost.com/pollster/p...</td>\n",
       "      <td>http://www.surveyusa.com/client/PollReport.asp...</td>\n",
       "      <td>Nonpartisan</td>\n",
       "      <td>None</td>\n",
       "      <td>NaN</td>\n",
       "      <td>1</td>\n",
       "    </tr>\n",
       "    <tr>\n",
       "      <th>3</th>\n",
       "      <td>POS (R-Crossroads GPS)</td>\n",
       "      <td>2014-10-25</td>\n",
       "      <td>2014-10-27</td>\n",
       "      <td>2014-10-30 20:56:18</td>\n",
       "      <td>600</td>\n",
       "      <td>Likely Voters</td>\n",
       "      <td>Live Phone</td>\n",
       "      <td>43.0</td>\n",
       "      <td>50.0</td>\n",
       "      <td>NaN</td>\n",
       "      <td>http://elections.huffingtonpost.com/pollster/p...</td>\n",
       "      <td>https://www.crossroadsgps.org/wp-content/uploa...</td>\n",
       "      <td>Sponsor</td>\n",
       "      <td>Rep</td>\n",
       "      <td>NaN</td>\n",
       "      <td>1</td>\n",
       "    </tr>\n",
       "    <tr>\n",
       "      <th>4</th>\n",
       "      <td>CBS/NYT/YouGov</td>\n",
       "      <td>2014-10-16</td>\n",
       "      <td>2014-10-23</td>\n",
       "      <td>2014-10-26 15:00:07</td>\n",
       "      <td>1502</td>\n",
       "      <td>Likely Voters</td>\n",
       "      <td>Internet</td>\n",
       "      <td>39.0</td>\n",
       "      <td>45.0</td>\n",
       "      <td>14.0</td>\n",
       "      <td>http://elections.huffingtonpost.com/pollster/p...</td>\n",
       "      <td>https://today.yougov.com/news/2014/09/07/battl...</td>\n",
       "      <td>Nonpartisan</td>\n",
       "      <td>None</td>\n",
       "      <td>NaN</td>\n",
       "      <td>1</td>\n",
       "    </tr>\n",
       "  </tbody>\n",
       "</table>\n",
       "</div>"
      ],
      "text/plain": [
       "                                            Pollster Start Date   End Date Entry Date/Time (ET)  Number of Observations     Population        Mode  Grimes  McConnell  Undecided                                       Pollster URL                                         Source URL     Partisan Affiliation  Question Text  Question Iteration\n",
       "0                                            PPP (D) 2014-10-30 2014-11-01  2014-11-02 01:44:58                    1503  Likely Voters  IVR/Online    42.0       50.0        NaN  http://elections.huffingtonpost.com/pollster/p...  http://www.publicpolicypolling.com/pdf/2014/PP...     Pollster         Dem            NaN                   1\n",
       "1                                         NBC/Marist 2014-10-27 2014-10-30  2014-11-02 14:37:22                     556  Likely Voters  Live Phone    41.0       50.0        3.0  http://elections.huffingtonpost.com/pollster/p...  http://newscms.nbcnews.com/sites/newscms/files...  Nonpartisan        None            NaN                   1\n",
       "2  SurveyUSA/Courier-Journal/Herald-Leader/WHAS/WKYT 2014-10-25 2014-10-29  2014-10-30 23:33:59                     597  Likely Voters  IVR/Online    43.0       48.0        6.0  http://elections.huffingtonpost.com/pollster/p...  http://www.surveyusa.com/client/PollReport.asp...  Nonpartisan        None            NaN                   1\n",
       "3                             POS (R-Crossroads GPS) 2014-10-25 2014-10-27  2014-10-30 20:56:18                     600  Likely Voters  Live Phone    43.0       50.0        NaN  http://elections.huffingtonpost.com/pollster/p...  https://www.crossroadsgps.org/wp-content/uploa...      Sponsor         Rep            NaN                   1\n",
       "4                                     CBS/NYT/YouGov 2014-10-16 2014-10-23  2014-10-26 15:00:07                    1502  Likely Voters    Internet    39.0       45.0       14.0  http://elections.huffingtonpost.com/pollster/p...  https://today.yougov.com/news/2014/09/07/battl...  Nonpartisan        None            NaN                   1"
      ]
     },
     "execution_count": 35,
     "metadata": {},
     "output_type": "execute_result"
    }
   ],
   "source": [
    "polls[polls.keys()[0]].head()"
   ]
  },
  {
   "cell_type": "code",
   "execution_count": 36,
   "metadata": {
    "collapsed": false
   },
   "outputs": [
    {
     "data": {
      "text/plain": [
       "Index([u'Pollster', u'Start Date', u'End Date', u'Entry Date/Time (ET)', u'Number of Observations', u'Population', u'Mode', u'Grimes', u'McConnell', u'Undecided', u'Pollster URL', u'Source URL', u'Partisan', u'Affiliation', u'Question Text', u'Question Iteration'], dtype='object')"
      ]
     },
     "execution_count": 36,
     "metadata": {},
     "output_type": "execute_result"
    }
   ],
   "source": [
    "polls[polls.keys()[0]].columns"
   ]
  },
  {
   "cell_type": "code",
   "execution_count": 37,
   "metadata": {
    "collapsed": false
   },
   "outputs": [
    {
     "data": {
      "text/plain": [
       "[{u'election_date': u'2014-11-04',\n",
       "  u'estimates': [{u'choice': u'Coons',\n",
       "    u'first_name': u'Chris',\n",
       "    u'incumbent': True,\n",
       "    u'last_name': u'Coons',\n",
       "    u'lead_confidence': 99.9,\n",
       "    u'party': u'Dem',\n",
       "    u'value': 56.0},\n",
       "   {u'choice': u'Wade',\n",
       "    u'first_name': u'Kevin',\n",
       "    u'incumbent': False,\n",
       "    u'last_name': u'Wade',\n",
       "    u'lead_confidence': 0.0,\n",
       "    u'party': u'Rep',\n",
       "    u'value': 34.0}],\n",
       "  u'id': 571,\n",
       "  u'last_updated': u'2016-06-06T14:37:54.000Z',\n",
       "  u'poll_count': 5,\n",
       "  u'short_title': u'2014 Delaware Senate: Wade vs. Coons',\n",
       "  u'slug': u'2014-delaware-senate-wade-vs-coons',\n",
       "  u'state': u'DE',\n",
       "  u'title': u'2014 Delaware Senate: Wade vs. Coons',\n",
       "  u'topic': u'2014-senate',\n",
       "  u'url': u'http://elections.huffingtonpost.com/pollster/2014-delaware-senate-wade-vs-coons'},\n",
       " {u'election_date': u'2014-11-04',\n",
       "  u'estimates': [{u'choice': u'Markey',\n",
       "    u'first_name': u'Ed',\n",
       "    u'incumbent': True,\n",
       "    u'last_name': u'Markey',\n",
       "    u'lead_confidence': 99.9,\n",
       "    u'party': u'Dem',\n",
       "    u'value': 54.1},\n",
       "   {u'choice': u'Herr',\n",
       "    u'first_name': u'Brian',\n",
       "    u'incumbent': False,\n",
       "    u'last_name': u'Herr',\n",
       "    u'lead_confidence': 0.0,\n",
       "    u'party': u'Rep',\n",
       "    u'value': 33.4},\n",
       "   {u'choice': u'Other',\n",
       "    u'first_name': None,\n",
       "    u'incumbent': False,\n",
       "    u'last_name': None,\n",
       "    u'lead_confidence': None,\n",
       "    u'party': u'N/A',\n",
       "    u'value': 0.18}],\n",
       "  u'id': 570,\n",
       "  u'last_updated': u'2016-06-06T14:37:55.000Z',\n",
       "  u'poll_count': 13,\n",
       "  u'short_title': u'2014 Massachusetts Senate: Herr vs. Markey',\n",
       "  u'slug': u'2014-massachusetts-senate-herr-vs-markey',\n",
       "  u'state': u'MA',\n",
       "  u'title': u'2014 Massachusetts Senate: Herr vs. Markey',\n",
       "  u'topic': u'2014-senate',\n",
       "  u'url': u'http://elections.huffingtonpost.com/pollster/2014-massachusetts-senate-herr-vs-markey'},\n",
       " {u'election_date': u'2014-11-04',\n",
       "  u'estimates': [],\n",
       "  u'id': 569,\n",
       "  u'last_updated': u'2016-06-06T14:37:55.000Z',\n",
       "  u'poll_count': 4,\n",
       "  u'short_title': u'2014 Rhode Island Senate: Zaccaria vs. Reed',\n",
       "  u'slug': u'2014-rhode-island-senate-zaccaria-vs-reed',\n",
       "  u'state': u'RI',\n",
       "  u'title': u'2014 Rhode Island Senate: Zaccaria vs. Reed',\n",
       "  u'topic': u'2014-senate',\n",
       "  u'url': u'http://elections.huffingtonpost.com/pollster/2014-rhode-island-senate-zaccaria-vs-reed'},\n",
       " {u'election_date': u'2014-11-04',\n",
       "  u'estimates': [{u'choice': u'Daines',\n",
       "    u'first_name': u'Steve',\n",
       "    u'incumbent': False,\n",
       "    u'last_name': u'Daines',\n",
       "    u'lead_confidence': 99.9,\n",
       "    u'party': u'Rep',\n",
       "    u'value': 53.8},\n",
       "   {u'choice': u'Curtis',\n",
       "    u'first_name': u'Amanda',\n",
       "    u'incumbent': False,\n",
       "    u'last_name': u'Curtis',\n",
       "    u'lead_confidence': 0.0,\n",
       "    u'party': u'Dem',\n",
       "    u'value': 36.1}],\n",
       "  u'id': 568,\n",
       "  u'last_updated': u'2016-06-06T14:37:56.000Z',\n",
       "  u'poll_count': 7,\n",
       "  u'short_title': u'2014 Montana Senate: Daines vs. Curtis',\n",
       "  u'slug': u'2014-montana-senate-daines-vs-curtis',\n",
       "  u'state': u'MT',\n",
       "  u'title': u'2014 Montana Senate: Daines vs. Curtis',\n",
       "  u'topic': u'2014-senate',\n",
       "  u'url': u'http://elections.huffingtonpost.com/pollster/2014-montana-senate-daines-vs-curtis'},\n",
       " {u'election_date': u'2014-11-04',\n",
       "  u'estimates': [{u'choice': u'Lankford',\n",
       "    u'first_name': u'James',\n",
       "    u'incumbent': False,\n",
       "    u'last_name': u'Lankford',\n",
       "    u'lead_confidence': 100.0,\n",
       "    u'party': u'Rep',\n",
       "    u'value': 62.4},\n",
       "   {u'choice': u'Johnson',\n",
       "    u'first_name': u'Connie',\n",
       "    u'incumbent': False,\n",
       "    u'last_name': u'Johnson',\n",
       "    u'lead_confidence': 0.0,\n",
       "    u'party': u'Dem',\n",
       "    u'value': 28.6},\n",
       "   {u'choice': u'Other',\n",
       "    u'first_name': None,\n",
       "    u'incumbent': False,\n",
       "    u'last_name': None,\n",
       "    u'lead_confidence': None,\n",
       "    u'party': u'N/A',\n",
       "    u'value': 2.3}],\n",
       "  u'id': 567,\n",
       "  u'last_updated': u'2016-06-06T14:37:56.000Z',\n",
       "  u'poll_count': 8,\n",
       "  u'short_title': u'2014 Oklahoma Senate: Lankford vs. Johnson',\n",
       "  u'slug': u'2014-oklahoma-senate-lankford-vs-johnson',\n",
       "  u'state': u'OK',\n",
       "  u'title': u'2014 Oklahoma Senate: Lankford vs. Johnson',\n",
       "  u'topic': u'2014-senate',\n",
       "  u'url': u'http://elections.huffingtonpost.com/pollster/2014-oklahoma-senate-lankford-vs-johnson'}]"
      ]
     },
     "execution_count": 37,
     "metadata": {},
     "output_type": "execute_result"
    }
   ],
   "source": [
    "infoClean[0:5]"
   ]
  },
  {
   "cell_type": "markdown",
   "metadata": {},
   "source": [
    "#### Problem 1(d)\n",
    "\n",
    "Now create a master table information containing information about each race. Create a pandas DataFrame called `candidates` with rows containing information about each race. The `candidates` DataFrame should have the following columns: \n",
    "\n",
    "1. `State` = the state where the race is being held\n",
    "2. `R` = name of republican candidate\n",
    "3. `D` = name of non-republican candidate (Democrate or Independent) \n",
    "4. `incumbent` = R, D or NA\n",
    "\n",
    "**Hint**: You will need a considerable amount of data wrangling for this."
   ]
  },
  {
   "cell_type": "code",
   "execution_count": 38,
   "metadata": {
    "collapsed": false
   },
   "outputs": [
    {
     "name": "stdout",
     "output_type": "stream",
     "text": [
      "[(u'DE', u'Wade', u'Coons', 'D'), (u'MA', u'Herr', u'Markey', 'D'), (u'RI', u'Zaccaria', u'Reed', nan)]\n"
     ]
    },
    {
     "data": {
      "text/html": [
       "<div>\n",
       "<table border=\"1\" class=\"dataframe\">\n",
       "  <thead>\n",
       "    <tr style=\"text-align: right;\">\n",
       "      <th></th>\n",
       "      <th>State</th>\n",
       "      <th>R</th>\n",
       "      <th>D</th>\n",
       "      <th>incumbent</th>\n",
       "    </tr>\n",
       "  </thead>\n",
       "  <tbody>\n",
       "    <tr>\n",
       "      <th>0</th>\n",
       "      <td>DE</td>\n",
       "      <td>Wade</td>\n",
       "      <td>Coons</td>\n",
       "      <td>D</td>\n",
       "    </tr>\n",
       "    <tr>\n",
       "      <th>1</th>\n",
       "      <td>MA</td>\n",
       "      <td>Herr</td>\n",
       "      <td>Markey</td>\n",
       "      <td>D</td>\n",
       "    </tr>\n",
       "    <tr>\n",
       "      <th>2</th>\n",
       "      <td>RI</td>\n",
       "      <td>Zaccaria</td>\n",
       "      <td>Reed</td>\n",
       "      <td>NaN</td>\n",
       "    </tr>\n",
       "    <tr>\n",
       "      <th>3</th>\n",
       "      <td>MT</td>\n",
       "      <td>Daines</td>\n",
       "      <td>Curtis</td>\n",
       "      <td>NaN</td>\n",
       "    </tr>\n",
       "    <tr>\n",
       "      <th>4</th>\n",
       "      <td>OK</td>\n",
       "      <td>Lankford</td>\n",
       "      <td>Johnson</td>\n",
       "      <td>NaN</td>\n",
       "    </tr>\n",
       "    <tr>\n",
       "      <th>5</th>\n",
       "      <td>HI</td>\n",
       "      <td>Cavasso</td>\n",
       "      <td>Schatz</td>\n",
       "      <td>D</td>\n",
       "    </tr>\n",
       "    <tr>\n",
       "      <th>6</th>\n",
       "      <td>KS</td>\n",
       "      <td>Roberts</td>\n",
       "      <td>Orman</td>\n",
       "      <td>R</td>\n",
       "    </tr>\n",
       "    <tr>\n",
       "      <th>7</th>\n",
       "      <td>WY</td>\n",
       "      <td>Enzi</td>\n",
       "      <td>Hardy</td>\n",
       "      <td>R</td>\n",
       "    </tr>\n",
       "    <tr>\n",
       "      <th>8</th>\n",
       "      <td>TN</td>\n",
       "      <td>Alexander</td>\n",
       "      <td>Ball</td>\n",
       "      <td>R</td>\n",
       "    </tr>\n",
       "    <tr>\n",
       "      <th>9</th>\n",
       "      <td>ID</td>\n",
       "      <td>Risch</td>\n",
       "      <td>Mitchell</td>\n",
       "      <td>R</td>\n",
       "    </tr>\n",
       "    <tr>\n",
       "      <th>10</th>\n",
       "      <td>NJ</td>\n",
       "      <td>Bell</td>\n",
       "      <td>Booker</td>\n",
       "      <td>D</td>\n",
       "    </tr>\n",
       "    <tr>\n",
       "      <th>11</th>\n",
       "      <td>NM</td>\n",
       "      <td>Weh</td>\n",
       "      <td>Udall</td>\n",
       "      <td>D</td>\n",
       "    </tr>\n",
       "    <tr>\n",
       "      <th>12</th>\n",
       "      <td>OK</td>\n",
       "      <td>Inhofe</td>\n",
       "      <td>Silverstein</td>\n",
       "      <td>R</td>\n",
       "    </tr>\n",
       "    <tr>\n",
       "      <th>13</th>\n",
       "      <td>SC</td>\n",
       "      <td>Scott</td>\n",
       "      <td>Dickerson</td>\n",
       "      <td>R</td>\n",
       "    </tr>\n",
       "    <tr>\n",
       "      <th>14</th>\n",
       "      <td>SC</td>\n",
       "      <td>Graham</td>\n",
       "      <td>Hutto</td>\n",
       "      <td>R</td>\n",
       "    </tr>\n",
       "    <tr>\n",
       "      <th>15</th>\n",
       "      <td>TX</td>\n",
       "      <td>Cornyn</td>\n",
       "      <td>Alameel</td>\n",
       "      <td>R</td>\n",
       "    </tr>\n",
       "    <tr>\n",
       "      <th>16</th>\n",
       "      <td>MN</td>\n",
       "      <td>McFadden</td>\n",
       "      <td>Franken</td>\n",
       "      <td>D</td>\n",
       "    </tr>\n",
       "    <tr>\n",
       "      <th>17</th>\n",
       "      <td>ME</td>\n",
       "      <td>Collins</td>\n",
       "      <td>Bellows</td>\n",
       "      <td>R</td>\n",
       "    </tr>\n",
       "    <tr>\n",
       "      <th>18</th>\n",
       "      <td>SD</td>\n",
       "      <td>Rounds</td>\n",
       "      <td>Weiland</td>\n",
       "      <td>R</td>\n",
       "    </tr>\n",
       "    <tr>\n",
       "      <th>19</th>\n",
       "      <td>NE</td>\n",
       "      <td>Sasse</td>\n",
       "      <td>Domina</td>\n",
       "      <td>R</td>\n",
       "    </tr>\n",
       "    <tr>\n",
       "      <th>20</th>\n",
       "      <td>GA</td>\n",
       "      <td>Perdue</td>\n",
       "      <td>Nunn</td>\n",
       "      <td>R</td>\n",
       "    </tr>\n",
       "    <tr>\n",
       "      <th>21</th>\n",
       "      <td>OR</td>\n",
       "      <td>Wehby</td>\n",
       "      <td>Merkley</td>\n",
       "      <td>D</td>\n",
       "    </tr>\n",
       "    <tr>\n",
       "      <th>22</th>\n",
       "      <td>MS</td>\n",
       "      <td>Cochran</td>\n",
       "      <td>Childers</td>\n",
       "      <td>R</td>\n",
       "    </tr>\n",
       "    <tr>\n",
       "      <th>23</th>\n",
       "      <td>IA</td>\n",
       "      <td>Ernst</td>\n",
       "      <td>Braley</td>\n",
       "      <td>R</td>\n",
       "    </tr>\n",
       "    <tr>\n",
       "      <th>24</th>\n",
       "      <td>AK</td>\n",
       "      <td>Sullivan</td>\n",
       "      <td>Begich</td>\n",
       "      <td>D</td>\n",
       "    </tr>\n",
       "    <tr>\n",
       "      <th>25</th>\n",
       "      <td>IL</td>\n",
       "      <td>Oberweis</td>\n",
       "      <td>Durbin</td>\n",
       "      <td>D</td>\n",
       "    </tr>\n",
       "    <tr>\n",
       "      <th>26</th>\n",
       "      <td>CO</td>\n",
       "      <td>Gardner</td>\n",
       "      <td>Udall</td>\n",
       "      <td>D</td>\n",
       "    </tr>\n",
       "    <tr>\n",
       "      <th>27</th>\n",
       "      <td>VA</td>\n",
       "      <td>Gillespie</td>\n",
       "      <td>Warner</td>\n",
       "      <td>D</td>\n",
       "    </tr>\n",
       "    <tr>\n",
       "      <th>28</th>\n",
       "      <td>NC</td>\n",
       "      <td>Tillis</td>\n",
       "      <td>Hagan</td>\n",
       "      <td>D</td>\n",
       "    </tr>\n",
       "    <tr>\n",
       "      <th>29</th>\n",
       "      <td>WV</td>\n",
       "      <td>Capito</td>\n",
       "      <td>Tennant</td>\n",
       "      <td>D</td>\n",
       "    </tr>\n",
       "    <tr>\n",
       "      <th>30</th>\n",
       "      <td>NH</td>\n",
       "      <td>Brown</td>\n",
       "      <td>Shaheen</td>\n",
       "      <td>D</td>\n",
       "    </tr>\n",
       "    <tr>\n",
       "      <th>31</th>\n",
       "      <td>LA</td>\n",
       "      <td>Cassidy</td>\n",
       "      <td>Landrieu</td>\n",
       "      <td>D</td>\n",
       "    </tr>\n",
       "    <tr>\n",
       "      <th>32</th>\n",
       "      <td>MI</td>\n",
       "      <td>Land</td>\n",
       "      <td>Peters</td>\n",
       "      <td>D</td>\n",
       "    </tr>\n",
       "    <tr>\n",
       "      <th>33</th>\n",
       "      <td>AR</td>\n",
       "      <td>Cotton</td>\n",
       "      <td>Pryor</td>\n",
       "      <td>D</td>\n",
       "    </tr>\n",
       "    <tr>\n",
       "      <th>34</th>\n",
       "      <td>KY</td>\n",
       "      <td>McConnell</td>\n",
       "      <td>Grimes</td>\n",
       "      <td>R</td>\n",
       "    </tr>\n",
       "  </tbody>\n",
       "</table>\n",
       "</div>"
      ],
      "text/plain": [
       "   State          R            D incumbent\n",
       "0     DE       Wade        Coons         D\n",
       "1     MA       Herr       Markey         D\n",
       "2     RI   Zaccaria         Reed       NaN\n",
       "3     MT     Daines       Curtis       NaN\n",
       "4     OK   Lankford      Johnson       NaN\n",
       "5     HI    Cavasso       Schatz         D\n",
       "6     KS    Roberts        Orman         R\n",
       "7     WY       Enzi        Hardy         R\n",
       "8     TN  Alexander         Ball         R\n",
       "9     ID      Risch     Mitchell         R\n",
       "10    NJ       Bell       Booker         D\n",
       "11    NM        Weh        Udall         D\n",
       "12    OK     Inhofe  Silverstein         R\n",
       "13    SC      Scott    Dickerson         R\n",
       "14    SC     Graham        Hutto         R\n",
       "15    TX     Cornyn      Alameel         R\n",
       "16    MN   McFadden      Franken         D\n",
       "17    ME    Collins      Bellows         R\n",
       "18    SD     Rounds      Weiland         R\n",
       "19    NE      Sasse       Domina         R\n",
       "20    GA     Perdue         Nunn         R\n",
       "21    OR      Wehby      Merkley         D\n",
       "22    MS    Cochran     Childers         R\n",
       "23    IA      Ernst       Braley         R\n",
       "24    AK   Sullivan       Begich         D\n",
       "25    IL   Oberweis       Durbin         D\n",
       "26    CO    Gardner        Udall         D\n",
       "27    VA  Gillespie       Warner         D\n",
       "28    NC     Tillis        Hagan         D\n",
       "29    WV     Capito      Tennant         D\n",
       "30    NH      Brown      Shaheen         D\n",
       "31    LA    Cassidy     Landrieu         D\n",
       "32    MI       Land       Peters         D\n",
       "33    AR     Cotton        Pryor         D\n",
       "34    KY  McConnell       Grimes         R"
      ]
     },
     "execution_count": 38,
     "metadata": {},
     "output_type": "execute_result"
    }
   ],
   "source": [
    "rows =[]\n",
    "for election in infoClean:\n",
    "    state = election['state']\n",
    "    if not election['estimates']:\n",
    "        idx = election['url'].split('-').index('vs')\n",
    "        rep_names = election['url'].split('-')[idx-1].capitalize()\n",
    "        dem_names = election['url'].split('-')[idx+1].capitalize()\n",
    "        incumbent = np.nan\n",
    "    else:\n",
    "        for candidate in election['estimates'][0:2]:\n",
    "            nr = 0\n",
    "\n",
    "            if candidate['party'] == u'Rep':\n",
    "                rep_names = candidate['last_name']\n",
    "                if candidate['incumbent'] ==  True:\n",
    "                    incumbent = 'R'\n",
    "            else:\n",
    "            #elif nr == 0:\n",
    "                dem_names = candidate['last_name']\n",
    "                if candidate['incumbent'] ==  True & (candidate['party'] == 'Dem'):\n",
    "                    incumbent = 'D'\n",
    "                elif candidate['incumbent'] ==  True:\n",
    "                    incumbent = np.nan\n",
    "                #nr = 1\n",
    "    rows.append((state, rep_names, dem_names, incumbent))\n",
    "print rows[0:3]\n",
    "candidates = pd.DataFrame(rows, columns=[\"State\", \"R\", \"D\", \"incumbent\"])\n",
    "candidates.R = [candidate.split(' ')[-1] for candidate in candidates.R]\n",
    "candidates"
   ]
  },
  {
   "cell_type": "markdown",
   "metadata": {},
   "source": [
    "## Problem 2: Confidence Intervals\n",
    "\n",
    "Compute a 99% confidence interval for each state. "
   ]
  },
  {
   "cell_type": "markdown",
   "metadata": {},
   "source": [
    "#### Problem 2(a)\n",
    "\n",
    "Assume you have $M$ polls with sample sizes $n_1, \\dots, n_M$. If the polls are independent, what is the average of the variances of each poll if the true proportion is $p$?"
   ]
  },
  {
   "cell_type": "markdown",
   "metadata": {},
   "source": [
    "** Your answer here: **"
   ]
  },
  {
   "cell_type": "markdown",
   "metadata": {},
   "source": [
    "#### Problem 2(b)\n",
    "\n",
    "Compute the square root of these values in Problem 2(a) for the republican candidates in each race. Then, compute the standard deviations of the observed poll results for each race. "
   ]
  },
  {
   "cell_type": "code",
   "execution_count": 39,
   "metadata": {
    "collapsed": false
   },
   "outputs": [
    {
     "data": {
      "text/html": [
       "<div>\n",
       "<table border=\"1\" class=\"dataframe\">\n",
       "  <thead>\n",
       "    <tr style=\"text-align: right;\">\n",
       "      <th></th>\n",
       "      <th>Pollster</th>\n",
       "      <th>Start Date</th>\n",
       "      <th>End Date</th>\n",
       "      <th>Entry Date/Time (ET)</th>\n",
       "      <th>Number of Observations</th>\n",
       "      <th>Population</th>\n",
       "      <th>Mode</th>\n",
       "      <th>Grimes</th>\n",
       "      <th>McConnell</th>\n",
       "      <th>Undecided</th>\n",
       "      <th>Pollster URL</th>\n",
       "      <th>Source URL</th>\n",
       "      <th>Partisan</th>\n",
       "      <th>Affiliation</th>\n",
       "      <th>Question Text</th>\n",
       "      <th>Question Iteration</th>\n",
       "    </tr>\n",
       "  </thead>\n",
       "  <tbody>\n",
       "    <tr>\n",
       "      <th>0</th>\n",
       "      <td>PPP (D)</td>\n",
       "      <td>2014-10-30</td>\n",
       "      <td>2014-11-01</td>\n",
       "      <td>2014-11-02 01:44:58</td>\n",
       "      <td>1503</td>\n",
       "      <td>Likely Voters</td>\n",
       "      <td>IVR/Online</td>\n",
       "      <td>42.0</td>\n",
       "      <td>50.0</td>\n",
       "      <td>NaN</td>\n",
       "      <td>http://elections.huffingtonpost.com/pollster/p...</td>\n",
       "      <td>http://www.publicpolicypolling.com/pdf/2014/PP...</td>\n",
       "      <td>Pollster</td>\n",
       "      <td>Dem</td>\n",
       "      <td>NaN</td>\n",
       "      <td>1</td>\n",
       "    </tr>\n",
       "    <tr>\n",
       "      <th>1</th>\n",
       "      <td>NBC/Marist</td>\n",
       "      <td>2014-10-27</td>\n",
       "      <td>2014-10-30</td>\n",
       "      <td>2014-11-02 14:37:22</td>\n",
       "      <td>556</td>\n",
       "      <td>Likely Voters</td>\n",
       "      <td>Live Phone</td>\n",
       "      <td>41.0</td>\n",
       "      <td>50.0</td>\n",
       "      <td>3.0</td>\n",
       "      <td>http://elections.huffingtonpost.com/pollster/p...</td>\n",
       "      <td>http://newscms.nbcnews.com/sites/newscms/files...</td>\n",
       "      <td>Nonpartisan</td>\n",
       "      <td>None</td>\n",
       "      <td>NaN</td>\n",
       "      <td>1</td>\n",
       "    </tr>\n",
       "    <tr>\n",
       "      <th>2</th>\n",
       "      <td>SurveyUSA/Courier-Journal/Herald-Leader/WHAS/WKYT</td>\n",
       "      <td>2014-10-25</td>\n",
       "      <td>2014-10-29</td>\n",
       "      <td>2014-10-30 23:33:59</td>\n",
       "      <td>597</td>\n",
       "      <td>Likely Voters</td>\n",
       "      <td>IVR/Online</td>\n",
       "      <td>43.0</td>\n",
       "      <td>48.0</td>\n",
       "      <td>6.0</td>\n",
       "      <td>http://elections.huffingtonpost.com/pollster/p...</td>\n",
       "      <td>http://www.surveyusa.com/client/PollReport.asp...</td>\n",
       "      <td>Nonpartisan</td>\n",
       "      <td>None</td>\n",
       "      <td>NaN</td>\n",
       "      <td>1</td>\n",
       "    </tr>\n",
       "    <tr>\n",
       "      <th>3</th>\n",
       "      <td>POS (R-Crossroads GPS)</td>\n",
       "      <td>2014-10-25</td>\n",
       "      <td>2014-10-27</td>\n",
       "      <td>2014-10-30 20:56:18</td>\n",
       "      <td>600</td>\n",
       "      <td>Likely Voters</td>\n",
       "      <td>Live Phone</td>\n",
       "      <td>43.0</td>\n",
       "      <td>50.0</td>\n",
       "      <td>NaN</td>\n",
       "      <td>http://elections.huffingtonpost.com/pollster/p...</td>\n",
       "      <td>https://www.crossroadsgps.org/wp-content/uploa...</td>\n",
       "      <td>Sponsor</td>\n",
       "      <td>Rep</td>\n",
       "      <td>NaN</td>\n",
       "      <td>1</td>\n",
       "    </tr>\n",
       "    <tr>\n",
       "      <th>4</th>\n",
       "      <td>CBS/NYT/YouGov</td>\n",
       "      <td>2014-10-16</td>\n",
       "      <td>2014-10-23</td>\n",
       "      <td>2014-10-26 15:00:07</td>\n",
       "      <td>1502</td>\n",
       "      <td>Likely Voters</td>\n",
       "      <td>Internet</td>\n",
       "      <td>39.0</td>\n",
       "      <td>45.0</td>\n",
       "      <td>14.0</td>\n",
       "      <td>http://elections.huffingtonpost.com/pollster/p...</td>\n",
       "      <td>https://today.yougov.com/news/2014/09/07/battl...</td>\n",
       "      <td>Nonpartisan</td>\n",
       "      <td>None</td>\n",
       "      <td>NaN</td>\n",
       "      <td>1</td>\n",
       "    </tr>\n",
       "  </tbody>\n",
       "</table>\n",
       "</div>"
      ],
      "text/plain": [
       "                                            Pollster Start Date   End Date Entry Date/Time (ET)  Number of Observations     Population        Mode  Grimes  McConnell  Undecided                                       Pollster URL                                         Source URL     Partisan Affiliation  Question Text  Question Iteration\n",
       "0                                            PPP (D) 2014-10-30 2014-11-01  2014-11-02 01:44:58                    1503  Likely Voters  IVR/Online    42.0       50.0        NaN  http://elections.huffingtonpost.com/pollster/p...  http://www.publicpolicypolling.com/pdf/2014/PP...     Pollster         Dem            NaN                   1\n",
       "1                                         NBC/Marist 2014-10-27 2014-10-30  2014-11-02 14:37:22                     556  Likely Voters  Live Phone    41.0       50.0        3.0  http://elections.huffingtonpost.com/pollster/p...  http://newscms.nbcnews.com/sites/newscms/files...  Nonpartisan        None            NaN                   1\n",
       "2  SurveyUSA/Courier-Journal/Herald-Leader/WHAS/WKYT 2014-10-25 2014-10-29  2014-10-30 23:33:59                     597  Likely Voters  IVR/Online    43.0       48.0        6.0  http://elections.huffingtonpost.com/pollster/p...  http://www.surveyusa.com/client/PollReport.asp...  Nonpartisan        None            NaN                   1\n",
       "3                             POS (R-Crossroads GPS) 2014-10-25 2014-10-27  2014-10-30 20:56:18                     600  Likely Voters  Live Phone    43.0       50.0        NaN  http://elections.huffingtonpost.com/pollster/p...  https://www.crossroadsgps.org/wp-content/uploa...      Sponsor         Rep            NaN                   1\n",
       "4                                     CBS/NYT/YouGov 2014-10-16 2014-10-23  2014-10-26 15:00:07                    1502  Likely Voters    Internet    39.0       45.0       14.0  http://elections.huffingtonpost.com/pollster/p...  https://today.yougov.com/news/2014/09/07/battl...  Nonpartisan        None            NaN                   1"
      ]
     },
     "execution_count": 39,
     "metadata": {},
     "output_type": "execute_result"
    }
   ],
   "source": [
    "### Your code here ###\n",
    "polls[polls.keys()[0]].head()"
   ]
  },
  {
   "cell_type": "code",
   "execution_count": 40,
   "metadata": {
    "collapsed": false
   },
   "outputs": [
    {
     "name": "stdout",
     "output_type": "stream",
     "text": [
      "{u'last_updated': u'2016-07-08T16:30:15.000Z', u'title': u'2014 Kentucky Senate: McConnell vs. Grimes', u'url': u'http://elections.huffingtonpost.com/pollster/2014-kentucky-senate-mcconnell-vs-grimes', u'election_date': u'2014-11-04', u'estimates': [{u'first_name': u'Mitch', u'last_name': u'McConnell', u'value': 50.1, u'choice': u'McConnell', u'incumbent': True, u'party': u'Rep', u'lead_confidence': 100.0}, {u'first_name': u'Alison Lundergan', u'last_name': u'Grimes', u'value': 44.1, u'choice': u'Grimes', u'incumbent': False, u'party': u'Dem', u'lead_confidence': 0.0}, {u'first_name': None, u'last_name': None, u'value': 2.9, u'choice': u'Other', u'incumbent': False, u'party': u'N/A', u'lead_confidence': None}], u'poll_count': 57, u'short_title': u'2014 Kentucky Senate', u'id': 402, u'topic': u'2014-senate', u'state': u'KY', u'slug': u'2014-kentucky-senate-mcconnell-vs-grimes'}\n",
      "[u'McConnell' u'Cotton' u'Land' u'Cassidy' u'Brown' u'Capito' u'Tillis'\n",
      " u'Gillespie' u'Gardner' u'Oberweis' u'Sullivan' u'Ernst' u'Cochran'\n",
      " u'Wehby' u'Perdue' u'Sasse' u'Rounds' u'Collins' u'McFadden' u'Cornyn'\n",
      " u'Graham' u'Scott' u'Inhofe' u'Weh' u'Bell' u'Risch' u'Alexander' u'Enzi'\n",
      " u'Roberts' u'Cavasso' u'Lankford' u'Daines' u'Zaccaria' u'Herr' u'Wade']\n"
     ]
    }
   ],
   "source": [
    "info_rev = infoClean[::-1]\n",
    "print info_rev[0]\n",
    "print candidates.R.iloc[::-1].values"
   ]
  },
  {
   "cell_type": "code",
   "execution_count": 41,
   "metadata": {
    "collapsed": false
   },
   "outputs": [
    {
     "name": "stdout",
     "output_type": "stream",
     "text": [
      "[45.56140350877193, 44.0655737704918, 38.64179104477612, 47.775, 42.596774193548384, 50.642857142857146, 41.68421052631579, 34.27272727272727, 44.81481481481482, 37.6, 42.885714285714286, 43.6, 46.625, 35.73684210526316, 45.568627450980394, 55.666666666666664, 42.6, 61.0625, 38.80952380952381, 50.9, 45.75, 54.0, 60.25, 37.75, 36.4, 58.833333333333336, 50.166666666666664, 67.8, 41.2962962962963, 23.25, 59.625, 53.285714285714285, 25.0, 32.0, 33.0]\n",
      "[3.1623767274656016, 3.749972677496092, 3.310687434508051, 4.943203051691931, 4.13088994269605, 3.5649391591991035, 3.3949394744365793, 6.1812451988084245, 2.518415749948308, 2.5298221281347035, 4.364101070238922, 4.972517061401191, 3.1594529363709247, 3.9418284711420957, 2.5942621452797274, 3.3862466931200785, 6.144102863722254, 5.105144464165535, 3.124404705204619, 6.454111523328022, 3.011881234615431, 1.6733200530681511, 3.8452196667699345, 4.1587804156332355, 4.982827653910119, 5.84522597225006, 3.3714487489307423, 4.43846820423443, 4.007827099898156, 4.652188425123938, 3.113908889391045, 2.984084768360628, 5.291502622129181, 2.581988897471611, 4.527692569068709]\n"
     ]
    }
   ],
   "source": [
    "polls[polls.keys()[0]].shape[0]\n",
    "polls.keys()\n",
    "n_polls = []\n",
    "means = []\n",
    "stds = []\n",
    "theo = []\n",
    "info_rev = infoClean[::-1]\n",
    "for i, election in enumerate(info_rev):\n",
    "    M = polls[election['slug']].shape[0]\n",
    "    n_polls.append(M)\n",
    "    #print election\n",
    "    #print i \n",
    "    rep_name = candidates.R.iloc[::-1].values[i]\n",
    "    #print rep_name\n",
    "    #print polls[election['slug']].head()\n",
    "    mean = polls[election['slug']][rep_name].mean()\n",
    "    pmean = mean/100\n",
    "    theo_sd = np.sqrt(pmean*(1-pmean)*np.mean(1./M))\n",
    "    theo.append(theo_sd)\n",
    "    means.append(mean)\n",
    "    std = polls[election['slug']][rep_name].std()\n",
    "    stds.append(std)\n",
    "print means\n",
    "print stds"
   ]
  },
  {
   "cell_type": "code",
   "execution_count": 42,
   "metadata": {
    "collapsed": false
   },
   "outputs": [
    {
     "data": {
      "text/plain": [
       "<matplotlib.collections.PathCollection at 0x7fa4e88a1410>"
      ]
     },
     "execution_count": 42,
     "metadata": {},
     "output_type": "execute_result"
    },
    {
     "data": {
      "image/png": "[encoded data removed]",
      "text/plain": [
       "<matplotlib.figure.Figure at 0x7fa4eba67e50>"
      ]
     },
     "metadata": {},
     "output_type": "display_data"
    }
   ],
   "source": [
    "plt.scatter(theo,stds, s=n_polls*10)"
   ]
  },
  {
   "cell_type": "code",
   "execution_count": 43,
   "metadata": {
    "collapsed": false
   },
   "outputs": [
    {
     "name": "stdout",
     "output_type": "stream",
     "text": [
      "RangeIndex(start=0, stop=35, step=1)\n"
     ]
    }
   ],
   "source": [
    "    print candidates.R.index"
   ]
  },
  {
   "cell_type": "code",
   "execution_count": 44,
   "metadata": {
    "collapsed": true
   },
   "outputs": [],
   "source": [
    "    rep_name = candidates.R.ix"
   ]
  },
  {
   "cell_type": "markdown",
   "metadata": {},
   "source": [
    "#### Problem 2(c) \n",
    "\n",
    "Plot observed versus theoretical (average of the theoretical SDs) with the area of the point proportional to number of polls. How do these compare?"
   ]
  },
  {
   "cell_type": "code",
   "execution_count": 22,
   "metadata": {
    "collapsed": false
   },
   "outputs": [],
   "source": [
    "### Your code here ###"
   ]
  },
  {
   "cell_type": "markdown",
   "metadata": {},
   "source": [
    "** Your answer here: **"
   ]
  },
  {
   "cell_type": "markdown",
   "metadata": {},
   "source": [
    "#### Problem 2(d)\n",
    "\n",
    "Repeat Problem 2(c) but include only the most recent polls from the last two months. Do they match better or worse or the same? Can we just trust the theoretical values?"
   ]
  },
  {
   "cell_type": "code",
   "execution_count": 23,
   "metadata": {
    "collapsed": false
   },
   "outputs": [],
   "source": [
    "### Your code here ###"
   ]
  },
  {
   "cell_type": "markdown",
   "metadata": {},
   "source": [
    "** Your answer here: **"
   ]
  },
  {
   "cell_type": "markdown",
   "metadata": {},
   "source": [
    "#### Problem 2(e)\n",
    "\n",
    "Create a scatter plot with each point representing one state. Is there one or more races that are outlier in that it they have much larger variabilities than expected ? Explore the original poll data and explain why the discrepancy?"
   ]
  },
  {
   "cell_type": "code",
   "execution_count": null,
   "metadata": {
    "collapsed": false
   },
   "outputs": [],
   "source": [
    "### Your code here ###"
   ]
  },
  {
   "cell_type": "markdown",
   "metadata": {},
   "source": [
    "** Your answer here: **"
   ]
  },
  {
   "cell_type": "markdown",
   "metadata": {},
   "source": [
    "#### Problem 2(f)\n",
    "\n",
    "Construct confidence intervals for the difference in each race. Use either theoretical or data driven estimates of the standard error depending on your answer to this question. Use the results in Problem 2(e), to justify your choice.\n"
   ]
  },
  {
   "cell_type": "code",
   "execution_count": null,
   "metadata": {
    "collapsed": false
   },
   "outputs": [],
   "source": [
    "### Your code here ###"
   ]
  },
  {
   "cell_type": "markdown",
   "metadata": {},
   "source": [
    "# Problem 3: Prediction and Posterior Probabilities\n",
    "\n",
    "Perform a Bayesian analysis to predict the probability of Republicans winning in each state then provide a posterior distribution of the number of republicans in the senate."
   ]
  },
  {
   "cell_type": "markdown",
   "metadata": {},
   "source": [
    "#### Problem 3(a)\n",
    "\n",
    "First, we define a Bayesian model for each race. The prior for the difference $\\theta$ between republicans and democtrats will be $N(\\mu,\\tau^2)$. Say before seeing poll data you have no idea who is going to win, what should $\\mu$ be? How about $\\tau$, should it be large or small? "
   ]
  },
  {
   "cell_type": "markdown",
   "metadata": {},
   "source": [
    "\\mu should be equal to 0 and \\tau large"
   ]
  },
  {
   "cell_type": "markdown",
   "metadata": {},
   "source": [
    "** Your answer here: **"
   ]
  },
  {
   "cell_type": "markdown",
   "metadata": {},
   "source": [
    "#### Problem 3(b)\n",
    "\n",
    "What is the distribution of $d$ conditioned on $\\theta$. What is the posterior distribution of $\\theta | d$? \n",
    "\n",
    "**Hint**: Use normal approximation. "
   ]
  },
  {
   "cell_type": "markdown",
   "metadata": {},
   "source": [
    "**Your answer here:**"
   ]
  },
  {
   "cell_type": "markdown",
   "metadata": {},
   "source": [
    "#### Problem 3(c)\n",
    "\n",
    "The prior represents what we think before hand. We do not know who is expected to win, so we assume $\\mu=0$. For this problem estimate $\\tau$ using the observed differences across states (Hint: $\\tau$ represents the standard deviation of a typical difference). Compute the posterior mean for each state and plot it against original average. Is there much change? Why or why not? "
   ]
  },
  {
   "cell_type": "code",
   "execution_count": null,
   "metadata": {
    "collapsed": false
   },
   "outputs": [],
   "source": [
    "### Your code here ###"
   ]
  },
  {
   "cell_type": "markdown",
   "metadata": {},
   "source": [
    "**Your answer here:**"
   ]
  },
  {
   "cell_type": "markdown",
   "metadata": {},
   "source": [
    "#### Problem 3(d)\n",
    "\n",
    "For each state, report a probabilty of Republicans winning. How does your answer here compare to the other aggregators?"
   ]
  },
  {
   "cell_type": "code",
   "execution_count": null,
   "metadata": {
    "collapsed": false
   },
   "outputs": [],
   "source": [
    "### Your code here ###"
   ]
  },
  {
   "cell_type": "markdown",
   "metadata": {},
   "source": [
    "**Your answer here:**"
   ]
  },
  {
   "cell_type": "markdown",
   "metadata": {},
   "source": [
    "#### Problem 3(e)\n",
    "\n",
    "Use the posterior distributions in a Monte Carlo simulation to generate election results. In each simulation compute the total number of seats the Republican control. Show a histogram of these results."
   ]
  },
  {
   "cell_type": "code",
   "execution_count": null,
   "metadata": {
    "collapsed": false
   },
   "outputs": [],
   "source": [
    "### Your code here ###"
   ]
  },
  {
   "cell_type": "markdown",
   "metadata": {},
   "source": [
    "## Problem 4\n",
    "\n",
    "Predict the results for the 2014 Midterm Elections. We will have a three competitions with the terms for scoring entries described above. For both questions below, **explain** or provide commentary on how you arrived at your predictions including code. \n",
    "\n",
    "**Hint**: Use election results from 2010, 2012 to build and test models."
   ]
  },
  {
   "cell_type": "markdown",
   "metadata": {},
   "source": [
    "#### Problem 4(a)\n",
    "\n",
    "Predict the number of Republican senators. You may provide an interval. Smallest interval that includes the election day result wins. \n",
    "\n",
    "**Note**: we want the total so add the numbers of those that are not up for election."
   ]
  },
  {
   "cell_type": "code",
   "execution_count": null,
   "metadata": {
    "collapsed": false
   },
   "outputs": [],
   "source": [
    "### Your code here ###"
   ]
  },
  {
   "cell_type": "markdown",
   "metadata": {},
   "source": [
    "**Provide an explanation of methodology here**:"
   ]
  },
  {
   "cell_type": "markdown",
   "metadata": {},
   "source": [
    "#### Problem 4(b)\n",
    "\n",
    "Predict the R-D difference in each state. The predictions that minimize the residual sum of squares between predicted and observed differences wins."
   ]
  },
  {
   "cell_type": "code",
   "execution_count": null,
   "metadata": {
    "collapsed": false
   },
   "outputs": [],
   "source": [
    "### Your code here ###"
   ]
  },
  {
   "cell_type": "markdown",
   "metadata": {},
   "source": [
    "**Provide an explanation of methodology here**:"
   ]
  },
  {
   "cell_type": "markdown",
   "metadata": {},
   "source": [
    "#### Problem 4(c)\n",
    "\n",
    "Report a confidence interval for the R-D difference in each state. If the election day result falls outside your confidence interval in more than two states you are eliminated. For those surviving this cutoff, we will add up the size of all confidence intervals and sum. The smallest total length of confidence interval wins. \n",
    "\n",
    "**Note**: you can use Bayesian credible intervals or whatever else you want. "
   ]
  },
  {
   "cell_type": "code",
   "execution_count": null,
   "metadata": {
    "collapsed": false
   },
   "outputs": [],
   "source": [
    "### Your code here ###"
   ]
  },
  {
   "cell_type": "markdown",
   "metadata": {},
   "source": [
    "**Provide an explanation of methodology here**:"
   ]
  },
  {
   "cell_type": "markdown",
   "metadata": {},
   "source": [
    "# Submission Instructions\n",
    "\n",
    "To submit your homework, create a folder named **lastname_firstinitial_hw#** and place your IPython notebooks, data files, and any other files in this folder. Your IPython Notebooks should be completely executed with the results visible in the notebook. We should not have to run any code.  Compress the folder (please use .zip compression) and submit to the CS109 dropbox in the appropriate folder. *If we cannot access your work because these directions are not followed correctly, we will not grade your work.*\n"
   ]
  }
 ],
 "metadata": {
  "kernelspec": {
   "display_name": "Python 2",
   "language": "python",
   "name": "python2"
  },
  "language_info": {
   "codemirror_mode": {
    "name": "ipython",
    "version": 2
   },
   "file_extension": ".py",
   "mimetype": "text/x-python",
   "name": "python",
   "nbconvert_exporter": "python",
   "pygments_lexer": "ipython2",
   "version": "2.7.11"
  }
 },
 "nbformat": 4,
 "nbformat_minor": 0
}
